{
  "cells": [
    {
      "cell_type": "markdown",
      "metadata": {
        "id": "view-in-github",
        "colab_type": "text"
      },
      "source": [
        "<a href=\"https://colab.research.google.com/github/susuusub/projectmanager/blob/main/2_%EB%8D%B0%EC%9D%B4%ED%84%B0%EB%B6%84%EC%84%9D_02_%EB%9D%BC%EC%9D%B4%EB%B8%8C%EB%9F%AC%EB%A6%AC_%EC%8B%A4%EC%8A%B5.ipynb\" target=\"_parent\"><img src=\"https://colab.research.google.com/assets/colab-badge.svg\" alt=\"Open In Colab\"/></a>"
      ]
    },
    {
      "cell_type": "markdown",
      "id": "d019c073",
      "metadata": {
        "id": "d019c073"
      },
      "source": [
        "# 데이터 분석\n",
        "\n",
        "## 2. 파이썬 라이브러리"
      ]
    },
    {
      "cell_type": "markdown",
      "id": "0c52a67e",
      "metadata": {
        "id": "0c52a67e"
      },
      "source": [
        "----------------------------------"
      ]
    },
    {
      "cell_type": "markdown",
      "id": "89e2259e",
      "metadata": {
        "id": "89e2259e"
      },
      "source": [
        "### 2-1.라이브러리 설치하기"
      ]
    },
    {
      "cell_type": "code",
      "execution_count": null,
      "id": "1a9009d1",
      "metadata": {
        "id": "1a9009d1"
      },
      "outputs": [],
      "source": [
        "# 수치 데이터 분석 라이브러리\n",
        "!pip install numpy"
      ]
    },
    {
      "cell_type": "code",
      "execution_count": null,
      "id": "a63d87de",
      "metadata": {
        "id": "a63d87de"
      },
      "outputs": [],
      "source": [
        "# 데이터를 표 형태로 보여주는 데이터 분석 라이브러리\n",
        "!pip install pandas"
      ]
    },
    {
      "cell_type": "code",
      "execution_count": null,
      "id": "ea109e26",
      "metadata": {
        "id": "ea109e26"
      },
      "outputs": [],
      "source": [
        "# 데이터를 다양한 그래프로 보여주는 시각화 라이브러리\n",
        "!pip install matplotlib"
      ]
    },
    {
      "cell_type": "code",
      "execution_count": null,
      "id": "0bd9ee68",
      "metadata": {
        "id": "0bd9ee68"
      },
      "outputs": [],
      "source": [
        "!pip install opencv-python"
      ]
    },
    {
      "cell_type": "markdown",
      "id": "1ab82cff",
      "metadata": {
        "id": "1ab82cff"
      },
      "source": [
        "### 2-2.라이브러리 설치 확인하기\n",
        "아래 코드를 실행한 후 오류 메시지가 없으면 성공적으로 설치된 것입니다."
      ]
    },
    {
      "cell_type": "code",
      "execution_count": null,
      "id": "6786b404",
      "metadata": {
        "id": "6786b404",
        "scrolled": true
      },
      "outputs": [],
      "source": [
        "import numpy as np\n",
        "np.__version__"
      ]
    },
    {
      "cell_type": "code",
      "execution_count": null,
      "id": "59557988",
      "metadata": {
        "id": "59557988"
      },
      "outputs": [],
      "source": [
        "import pandas  as pd\n",
        "pd.__version__"
      ]
    },
    {
      "cell_type": "code",
      "execution_count": null,
      "id": "e4d9be5b",
      "metadata": {
        "id": "e4d9be5b"
      },
      "outputs": [],
      "source": [
        "import matplotlib as plt\n",
        "plt.__version__"
      ]
    },
    {
      "cell_type": "markdown",
      "id": "3dae5378",
      "metadata": {
        "id": "3dae5378"
      },
      "source": [
        "---------------------------------------------"
      ]
    },
    {
      "cell_type": "markdown",
      "id": "5aac1a65",
      "metadata": {
        "id": "5aac1a65"
      },
      "source": [
        "### 2-3.Numpy\n",
        "#### #Numpy의 특징"
      ]
    },
    {
      "cell_type": "markdown",
      "id": "4bc576ce",
      "metadata": {
        "id": "4bc576ce"
      },
      "source": [
        "#### 1.행렬 데이터를 표현할 수 있다.\n"
      ]
    },
    {
      "cell_type": "code",
      "execution_count": null,
      "id": "cdd735b0",
      "metadata": {
        "id": "cdd735b0"
      },
      "outputs": [],
      "source": [
        "import numpy as np\n",
        "\n",
        "x1 = np.array([5, 3, 1, 0.2])  # 하나의 행렬에 하나의 데이터 타입만 가질 수 있다\n",
        "print(x1)\n",
        "print( type(x1) )\n",
        "\n",
        "x2 = np.array([[5], [3], [1], [0.2]])\n",
        "print(x2)\n",
        "print( type(x2) )"
      ]
    },
    {
      "cell_type": "code",
      "execution_count": null,
      "id": "ae911a7d",
      "metadata": {
        "id": "ae911a7d"
      },
      "outputs": [],
      "source": [
        "import numpy as np\n",
        "\n",
        "arr = np.zeros((2,2)) # 2행 2열 행렬에 값을 모두 0으로 채운다.\n",
        "print(arr)\n",
        "\n",
        "arr = np.ones((2,3)) # 2행 3열 행렬에 값을 모두 1으로 채운다.\n",
        "print(arr)\n",
        "\n",
        "arr = np.full((2,3), 255) # 2행 3열 행렬에 값을 모두 255으로 채운다.\n",
        "print(arr)\n",
        "\n",
        "arr = np.eye(3)  # 3행 3열의 주 대각행렬 요소의 값을 1로 채운다.\n",
        "print(arr)\n",
        "\n",
        "arr=np.array(range(20)).reshape((4,5)) # 0~19를 4행 5열 행렬로 만든다.\n",
        "print(arr)\n",
        "\n",
        "s = np.sum(arr) # arr행렬 원소 모두 합산하기\n",
        "print(s)\n",
        "\n",
        "s = np.sum(arr, axis=0) # 세로축 합산\n",
        "print(s)\n",
        "\n",
        "s = np.sum(arr, axis=1) # 가로축 합산\n",
        "print(s)"
      ]
    },
    {
      "cell_type": "markdown",
      "id": "6549465a",
      "metadata": {
        "id": "6549465a"
      },
      "source": [
        "#### 2.수치 데이터를 쉽게 할 수 있다"
      ]
    },
    {
      "cell_type": "code",
      "execution_count": null,
      "id": "e59bf51f",
      "metadata": {
        "id": "e59bf51f"
      },
      "outputs": [],
      "source": [
        "import numpy as np\n",
        "\n",
        "x = np.random.randint(1, 7, size=100)\n",
        "x = np.sort(x)  # 정렬\n",
        "\n",
        "print(x)\n",
        "print('주사위 숫자별 빈도수: ', np.bincount(x)[1:])"
      ]
    },
    {
      "cell_type": "markdown",
      "id": "f16f1a80",
      "metadata": {
        "id": "f16f1a80"
      },
      "source": [
        "#### 3.다른 라이브러리의 기본 자료형으로 사용된다."
      ]
    },
    {
      "cell_type": "markdown",
      "id": "z5WyOaUWezSC",
      "metadata": {
        "id": "z5WyOaUWezSC"
      },
      "source": [
        " - **(win)OpenCV에서 이미지 사용할 경우**"
      ]
    },
    {
      "cell_type": "code",
      "execution_count": null,
      "id": "dfb3a589",
      "metadata": {
        "collapsed": true,
        "id": "dfb3a589"
      },
      "outputs": [],
      "source": [
        "# Opencv로 이미지 파일 불러오기\n",
        "import sys\n",
        "import cv2\n",
        "\n",
        "image = cv2.imread(파일이름)\n",
        "\n",
        "if image is None:\n",
        "    print(\"Image file load failed!\")\n",
        "    sys.exit()\n",
        "\n",
        "print( type(image) )\n",
        "print(image.shape)\n",
        "print(image[:5,:5])\n",
        "\n",
        "cv2.imshow(\"title\", image)\n",
        "\n",
        "cv2.waitKey()\n",
        "cv2.destroyAllWindows()"
      ]
    },
    {
      "cell_type": "markdown",
      "id": "FSTTib16IBJh",
      "metadata": {
        "id": "FSTTib16IBJh"
      },
      "source": [
        " - **(코랩)OpenCV에서 이미지 사용할 경우**"
      ]
    },
    {
      "cell_type": "code",
      "execution_count": null,
      "id": "MIhJpxtOH6lg",
      "metadata": {
        "id": "MIhJpxtOH6lg"
      },
      "outputs": [],
      "source": [
        "# Opencv로 이미지 파일 불러오기\n",
        "import sys\n",
        "import cv2\n",
        "from google.colab.patches import cv2_imshow\n",
        "\n",
        "image = cv2.imread(파일이름)\n",
        "\n",
        "if image is None:\n",
        "    print(\"Image file load failed!\")\n",
        "    sys.exit()\n",
        "\n",
        "print( type(image) )\n",
        "print(image.shape)\n",
        "print(image[:5,:5])\n",
        "\n",
        "cv2_imshow(image)   # 코랩에서 이미지 확인하는 경우\n"
      ]
    },
    {
      "cell_type": "markdown",
      "id": "a4c9300a",
      "metadata": {
        "id": "a4c9300a"
      },
      "source": [
        "---------------------------"
      ]
    },
    {
      "cell_type": "markdown",
      "id": "3ca9cdcb",
      "metadata": {
        "id": "3ca9cdcb"
      },
      "source": [
        "### 2-4.Pandas\n",
        "2차원 표 형태로 나타낸다."
      ]
    },
    {
      "cell_type": "markdown",
      "id": "3z4sLoXaaLpF",
      "metadata": {
        "id": "3z4sLoXaaLpF"
      },
      "source": [
        "#### @Pandas로 다양한 파일 읽어오는 방법"
      ]
    },
    {
      "cell_type": "markdown",
      "id": "434b662f",
      "metadata": {
        "id": "434b662f"
      },
      "source": [
        "#### 1.txt 데이터 Pandas DataFrame으로 나타내기"
      ]
    },
    {
      "cell_type": "code",
      "execution_count": null,
      "id": "46c555bd",
      "metadata": {
        "id": "46c555bd"
      },
      "outputs": [],
      "source": [
        "import pandas as pd\n",
        "\n",
        "df = pd.read_table(파일이름)\n",
        "\n",
        "# 컬럼 제목 넣기: 방법1\n",
        "# df = pd.read_table(파일이름, sep=',',\n",
        "#                   names = ['제목','영어제목','저자','국적','출판년도'])\n",
        "\n",
        "# 컬럼 제목 넣기: 방법2\n",
        "# df = pd.read_table(파일이름, sep=',', header=None)\n",
        "# df.columns = ['제목','영어제목','저자','국적','출판년도']\n",
        "\n",
        "df"
      ]
    },
    {
      "cell_type": "markdown",
      "id": "c96e8007",
      "metadata": {
        "id": "c96e8007"
      },
      "source": [
        "#### 2.csv 데이터 Pandas DataFrame으로 나타내기"
      ]
    },
    {
      "cell_type": "code",
      "execution_count": null,
      "id": "767c72d3",
      "metadata": {
        "id": "767c72d3"
      },
      "outputs": [],
      "source": [
        "import pandas as pd\n",
        "\n",
        "df = pd.read_csv('data/iris.csv')\n",
        "df.head(3)"
      ]
    },
    {
      "cell_type": "markdown",
      "id": "t0wTzAduO6hk",
      "metadata": {
        "id": "t0wTzAduO6hk"
      },
      "source": [
        "#### 3.Excel 시트 Pandas DataFrame으로 나타내기"
      ]
    },
    {
      "cell_type": "code",
      "execution_count": null,
      "id": "da43a0cd",
      "metadata": {
        "id": "da43a0cd"
      },
      "outputs": [],
      "source": [
        "!pip install openpyxl"
      ]
    },
    {
      "cell_type": "markdown",
      "id": "nDna7CDnSoPY",
      "metadata": {
        "id": "nDna7CDnSoPY"
      },
      "source": [
        "##### 1.전체 시트(sheet) 가져오기"
      ]
    },
    {
      "cell_type": "code",
      "execution_count": null,
      "id": "6R4Agf3uO32N",
      "metadata": {
        "id": "6R4Agf3uO32N"
      },
      "outputs": [],
      "source": [
        "import pandas as pd\n",
        "\n",
        "# 전체 시트 가져오기\n",
        "df = pd.read_excel(파일이름, sheet_name=None)  # 전체시트\n",
        "\n",
        "df         # 시트가 여러개 일 경우 딕셔너리 형태로 나타난다.\n",
        "# df['전체'] # 특정 시트를 지정할 경우 DataFrame 구조로 나타낸다."
      ]
    },
    {
      "cell_type": "markdown",
      "id": "foTGCoMTTSEx",
      "metadata": {
        "id": "foTGCoMTTSEx"
      },
      "source": [
        "##### 2.특정 시트(sheet) 가져오기"
      ]
    },
    {
      "cell_type": "code",
      "execution_count": null,
      "id": "a81OQvEeTSvp",
      "metadata": {
        "id": "a81OQvEeTSvp"
      },
      "outputs": [],
      "source": [
        "# 특정 시트 가져오기\n",
        "df = pd.read_excel(파일이름, sheet_name=\"구씨\")\n",
        "\n",
        "df  # 시트가 한개 일 경우 DataFrame 구조로 나타낸다."
      ]
    },
    {
      "cell_type": "markdown",
      "id": "2LfA2DJXTTPW",
      "metadata": {
        "id": "2LfA2DJXTTPW"
      },
      "source": [
        "##### 3.여러 시트(sheet) 가져오기"
      ]
    },
    {
      "cell_type": "code",
      "execution_count": null,
      "id": "ulUDC-jtTThG",
      "metadata": {
        "id": "ulUDC-jtTThG"
      },
      "outputs": [],
      "source": [
        "# 여러 시트 가져오기: 시트 이름으로 가져오기\n",
        "df = pd.read_excel(파일이름, sheet_name=[\"구씨\", \"조씨\"])\n",
        "\n",
        "# df         # 시트가 여러개 일 경우 딕셔너리 형태로 나타난다.\n",
        "df['구씨'] # 특정 시트를 지정할 경우 DataFrame 구조로 나타낸다."
      ]
    },
    {
      "cell_type": "code",
      "execution_count": null,
      "id": "WpFPWWAcWRb7",
      "metadata": {
        "id": "WpFPWWAcWRb7"
      },
      "outputs": [],
      "source": [
        "# 여러 시트 가져오기: 시트 번호로 가져오기 (0번부터 시작)\n",
        "df = pd.read_excel(파일이름, sheet_name=[1, \"조씨\"])  #\n",
        "\n",
        "df         # 시트가 여러개 일 경우 딕셔너리 형태로 나타난다.\n",
        "df[1] # 특정 시트를 지정할 경우 DataFrame 구조로 나타낸다."
      ]
    },
    {
      "cell_type": "markdown",
      "id": "432937e7",
      "metadata": {
        "id": "432937e7"
      },
      "source": [
        "#### 4.Remote URL의 CSV 데이터 Pandas DataFrame으로 나타내기\n",
        "코랩에서 오류발생할 수 있음"
      ]
    },
    {
      "cell_type": "code",
      "execution_count": null,
      "id": "2065b3dd",
      "metadata": {
        "id": "2065b3dd"
      },
      "outputs": [],
      "source": [
        "url = 'https://archive.ics.uci.edu/ml/machine-learning-databases/iris/iris.data'\n",
        "#url = 'https://archive.ics.uci.edu/ml/machine-learning-databases/wine/wine.data'\n",
        "df = pd.read_csv(url, header=None) # 첫번째 행 컬럼으로 인식 안하도록\n",
        "df.head()"
      ]
    },
    {
      "cell_type": "markdown",
      "id": "bb8a982d",
      "metadata": {
        "id": "bb8a982d"
      },
      "source": [
        "#### 4.Pandas DataFrame 데이터를 csv 파일로 저장하기"
      ]
    },
    {
      "cell_type": "code",
      "execution_count": null,
      "id": "557b2588",
      "metadata": {
        "id": "557b2588"
      },
      "outputs": [],
      "source": [
        "# 사이킷런 머신러닝 라이브러리 설치하기\n",
        "!pip install scikit-learn"
      ]
    },
    {
      "cell_type": "code",
      "execution_count": null,
      "id": "ac55f876",
      "metadata": {
        "id": "ac55f876"
      },
      "outputs": [],
      "source": [
        "# 사이킷런 빌트인 데이터셋(sklearn.datasets): 붓꽃\n",
        "from sklearn.datasets import load_iris\n",
        "\n",
        "iris = load_iris()\n",
        "\n",
        "df = pd.DataFrame(iris['data'], columns=iris['feature_names'])\n",
        "df['target'] = iris['target']        # iris.target\n",
        "df['target_name'] = iris.target_names[iris.target]\n",
        "\n",
        "file = 파일이름\n",
        "df.to_csv(file, index=False)\n",
        "\n",
        "df.head()"
      ]
    },
    {
      "cell_type": "markdown",
      "id": "mOrzJOzpU0PT",
      "metadata": {
        "id": "mOrzJOzpU0PT"
      },
      "source": [
        "### [실습문제] 행정구역별 인구데이터 DataFrame으로 출력하기\n",
        "- 데이터위치 :  https://kosis.kr/statisticsList/statisticsListIndex.do?parentId=A.1&vwcd=MT_ZTITLE&menuId=M_01_01#content-group"
      ]
    },
    {
      "cell_type": "code",
      "execution_count": null,
      "id": "9b87bee3",
      "metadata": {
        "id": "9b87bee3"
      },
      "outputs": [],
      "source": [
        "import pandas as pd\n",
        "\n",
        "# CSV 파일 읽기\n",
        "file = 파일이름\n",
        "df = pd.read_csv(file, encoding='cp949')\n",
        "\n",
        "# 데이터 전처리하기\n",
        "# (첫번째 행: 전국 행 삭제하기)\n",
        "df.drop([0], axis=0, inplace=True)   # 인덱스 0번 행 삭제하기\n",
        "\n",
        "\n",
        "# DataFrame을 CSV 파일로 저장하기\n",
        "df.to_csv(파일이름, encoding='cp949')\n",
        "df"
      ]
    },
    {
      "cell_type": "code",
      "execution_count": null,
      "id": "7729eb12",
      "metadata": {
        "id": "7729eb12"
      },
      "outputs": [],
      "source": [
        "df.plot() # 선 그래프로 나타내기"
      ]
    },
    {
      "cell_type": "markdown",
      "id": "add74647",
      "metadata": {
        "id": "add74647"
      },
      "source": [
        "### 2-5.Matplotlib"
      ]
    },
    {
      "cell_type": "markdown",
      "id": "gO2eyngKajUq",
      "metadata": {
        "id": "gO2eyngKajUq"
      },
      "source": [
        "#### @폰트 지정하는 방법"
      ]
    },
    {
      "cell_type": "markdown",
      "id": "8e190cec",
      "metadata": {
        "id": "8e190cec"
      },
      "source": [
        "#### 1.(win)한글 폰트 지정"
      ]
    },
    {
      "cell_type": "code",
      "execution_count": null,
      "id": "708e19ef",
      "metadata": {
        "id": "708e19ef"
      },
      "outputs": [],
      "source": [
        "import matplotlib.pyplot as plt\n",
        "\n",
        "plt.rcParams['font.family'] = 'Malgun Gothic'   # 한글 폰트\n",
        "plt.rcParams['figure.figsize'] = (10, 5)        # 그래프 크기(인치)\n",
        "plt.rcParams['axes.unicode_minus'] = False     # 그래프 축 마이너스 표시\n"
      ]
    },
    {
      "cell_type": "markdown",
      "id": "y0VrtvJOVlUP",
      "metadata": {
        "id": "y0VrtvJOVlUP"
      },
      "source": []
    },
    {
      "cell_type": "markdown",
      "id": "1fcacdbd",
      "metadata": {
        "id": "1fcacdbd"
      },
      "source": [
        "#### 2.(코랩)한글 폰트 지정"
      ]
    },
    {
      "cell_type": "code",
      "execution_count": null,
      "id": "f797840d",
      "metadata": {
        "id": "f797840d"
      },
      "outputs": [],
      "source": [
        "!sudo apt-get install -y fonts-nanum\n",
        "!sudo fc-cache -fv\n",
        "!rm ~/.cache/matplotlib -rf\n",
        "\n",
        "# 코랩에서 위 코드를 실행시킨 후  반드시 코랩(Colab)의 런타임을 재시작 합니다."
      ]
    },
    {
      "cell_type": "code",
      "execution_count": null,
      "id": "93cb2c57",
      "metadata": {
        "id": "93cb2c57"
      },
      "outputs": [],
      "source": [
        "# 코랩에서 한글 폰트 종류와 이름이 win과 다를 수 있다!!!\n",
        "import matplotlib.pyplot as plt\n",
        "\n",
        "plt.rc('font', family='NanumBarunGothic')        # 방법1\n",
        "plt.rcParams['font.family'] = 'NanumBarunGothic' # 방법2"
      ]
    },
    {
      "cell_type": "markdown",
      "id": "BF7JFEz-a08W",
      "metadata": {
        "id": "BF7JFEz-a08W"
      },
      "source": [
        "#### matplotlib 기본 그래프 종류"
      ]
    },
    {
      "cell_type": "markdown",
      "id": "b5243168",
      "metadata": {
        "id": "b5243168"
      },
      "source": [
        "#### 1.선(Line) 그래프"
      ]
    },
    {
      "cell_type": "code",
      "execution_count": null,
      "id": "116bc38e",
      "metadata": {
        "id": "116bc38e"
      },
      "outputs": [],
      "source": [
        "import matplotlib.pyplot as plt\n",
        "\n",
        "plt.rcParams['figure.figsize'] = (5, 3)        # 그래프 크기(인치)\n",
        "plt.rcParams['axes.unicode_minus'] = False     # 그래프 축 마이너스 표시\n",
        "\n",
        "\n",
        "X = list(range(2005, 2015, 1))  # X좌표\n",
        "Y = [15,7,2,10,8,5,14,9,18,8]   # Y좌표\n",
        "print('X축 값: ', X)\n",
        "print('Y축 값: ', Y)\n",
        "\n",
        "# plt.plot(X, Y)  # 기본 선 그래프\n",
        "# plt.plot(X, Y, linestyle='dashdot', color='r') # 빨간색 점선 그래프\n",
        "plt.plot(X, Y, color='k', marker='^', linestyle='solid',\n",
        "         linewidth=2, markersize=8, markerfacecolor='red')\n",
        "plt.grid(True)\n",
        "plt.title('년도별 그래프')\n",
        "plt.show()\n"
      ]
    },
    {
      "cell_type": "markdown",
      "id": "215b6f7c",
      "metadata": {
        "id": "215b6f7c"
      },
      "source": [
        "- 2차 방정식의 그래프 : f(x) = a*x^2 + b, 포물선 방정식"
      ]
    },
    {
      "cell_type": "code",
      "execution_count": null,
      "id": "27376f55",
      "metadata": {
        "id": "27376f55"
      },
      "outputs": [],
      "source": [
        "import matplotlib.pyplot as plt\n",
        "import numpy as np\n",
        "\n",
        "x = np.arange(-4.5,5,0.5)\n",
        "y = 2*x**2\n",
        "plt.plot(x, y, label='L1')\n",
        "plt.plot(x, 4*x, label='L2')\n",
        "plt.plot(x,-3*x, label='L3')\n",
        "plt.legend()\n",
        "plt.show()"
      ]
    },
    {
      "cell_type": "markdown",
      "id": "1e46ba02",
      "metadata": {
        "id": "1e46ba02"
      },
      "source": [
        "- 파일 데이터 읽어서 선 그래프 그리기"
      ]
    },
    {
      "cell_type": "code",
      "execution_count": null,
      "id": "3edd490e",
      "metadata": {
        "id": "3edd490e"
      },
      "outputs": [],
      "source": [
        "import pandas as pd\n",
        "import matplotlib.pyplot as plt\n",
        "\n",
        "df = pd.read_csv(파일이름, encoding='cp949')\n",
        "\n",
        "#컬럼명 변경하기\n",
        "df.columns = ['일시','기온','습도','구름','일조시간','강수시간','구분']\n",
        "\n",
        "# 1.년도 추출: 일시에서 년도만 자르기\n",
        "df['년도'] = df['일시'].str[0:4]\n",
        "df['년도'] = pd.to_datetime(df['일시']).dt.year\n",
        "\n",
        "\n",
        "# 2. query문에서 특정 년도(2010)가 들어간 부분 검색하기\n",
        "df2 = df.query(\" 일시.str.contains('01-01') \")\n",
        "X = df2['일시']\n",
        "Y1 = df2['일조시간']\n",
        "Y2 = df2['강수시간']\n",
        "df2\n",
        "\n",
        "# plt.plot(X, Y1,  marker='o', label='일조시간')\n",
        "plt.plot(X, Y1, '*-', color='red', label='일조시간')\n",
        "plt.bar(X, Y2, label='강수시간')\n",
        "\n",
        "plt.title('년도별 일조시간&강수시간', fontsize=15)\n",
        "plt.xlabel('년도')\n",
        "plt.ylabel('시간')\n",
        "plt.xticks(rotation=45)\n",
        "\n",
        "plt.show()"
      ]
    },
    {
      "cell_type": "markdown",
      "id": "baf7683e",
      "metadata": {
        "id": "baf7683e"
      },
      "source": [
        "#### 2.점(scatter) 그래프\n",
        "- https://matplotlib.org/stable/api/_as_gen/matplotlib.pyplot.scatter.html\n",
        "- **matplotlib.pyplot.scatter**(x, y, s=None, c=None, marker=None, cmap=None, norm=None, vmin=None, vmax=None, alpha=None, linewidths=None, *, edgecolors=None, plotnonfinite=False, data=None, **kwargs)[source]"
      ]
    },
    {
      "cell_type": "code",
      "execution_count": null,
      "id": "56adeba8",
      "metadata": {
        "id": "56adeba8"
      },
      "outputs": [],
      "source": [
        "import matplotlib.pyplot as plt\n",
        "\n",
        "x = list(range(2005,2015,1))\n",
        "y  = [15,7,2,10,8,5,14,9,18,8]\n",
        "\n",
        "plt.scatter(x, y)\n",
        "plt.show()"
      ]
    },
    {
      "cell_type": "markdown",
      "id": "f6db5108",
      "metadata": {
        "id": "f6db5108"
      },
      "source": [
        "- 점 크기 지정"
      ]
    },
    {
      "cell_type": "code",
      "execution_count": null,
      "id": "09dd08e7",
      "metadata": {
        "id": "09dd08e7"
      },
      "outputs": [],
      "source": [
        "plt.scatter(x, y,  s=500, c='red', alpha=0.4)  # s:마커크기: 500, 컬러:red\n",
        "for a, b in zip(x, y):\n",
        "    plt.text(a, b, str(b), fontsize=9,\n",
        "             horizontalalignment='center', verticalalignment='center')  # x,y좌표에 글자 넣기\n",
        "plt.show()"
      ]
    },
    {
      "cell_type": "markdown",
      "id": "60eba92c",
      "metadata": {
        "id": "60eba92c"
      },
      "source": [
        "- 점 크기, 색상, 투명도 지정"
      ]
    },
    {
      "cell_type": "code",
      "execution_count": null,
      "id": "2cdc92cf",
      "metadata": {
        "id": "2cdc92cf"
      },
      "outputs": [],
      "source": [
        "import numpy as np\n",
        "import matplotlib.pyplot as plt\n",
        "\n",
        "# Fixing random state for reproducibility\n",
        "np.random.seed(12345678)\n",
        "\n",
        "N = 50\n",
        "x = np.random.rand(N)\n",
        "y = np.random.rand(N)\n",
        "colors = np.random.rand(N)\n",
        "area = (30 * np.random.rand(N))**2  # 0 to 15 point radii\n",
        "\n",
        "plt.scatter(x, y, s=area, c=colors, alpha=0.5)\n",
        "plt.show()"
      ]
    },
    {
      "cell_type": "markdown",
      "id": "ca23ea5e",
      "metadata": {
        "id": "ca23ea5e"
      },
      "source": [
        "#### 3.막대(bar) 그래프"
      ]
    },
    {
      "cell_type": "code",
      "execution_count": null,
      "id": "4d41d870",
      "metadata": {
        "id": "4d41d870"
      },
      "outputs": [],
      "source": [
        "import matplotlib.pyplot as plt\n",
        "\n",
        "# 그래프 크기 설정\n",
        "plt.rcParams['figure.figsize'] = (6, 3)  # (가로,세로) 인치 단위\n",
        "\n",
        "# X축, Y축 데이터\n",
        "X = list(range(2005,2015,1))\n",
        "Y = [15,7,2,10,8,5,14,9,18,8]\n",
        "\n",
        "plt.bar(X, Y)     # 막대 그래프\n",
        "plt.grid(False)\n",
        "plt.title('년도별 그래프')\n",
        "plt.show()"
      ]
    },
    {
      "cell_type": "markdown",
      "id": "20580835",
      "metadata": {
        "id": "20580835"
      },
      "source": [
        "- 가로막대"
      ]
    },
    {
      "cell_type": "code",
      "execution_count": null,
      "id": "20164746",
      "metadata": {
        "id": "20164746"
      },
      "outputs": [],
      "source": [
        "plt.barh(X, Y)     # 막대 그래프\n",
        "plt.grid(False)\n",
        "plt.title('년도별 그래프')\n",
        "plt.show()"
      ]
    },
    {
      "cell_type": "markdown",
      "id": "e574dba5",
      "metadata": {
        "id": "e574dba5"
      },
      "source": [
        "- 그래프 색상 지정"
      ]
    },
    {
      "cell_type": "code",
      "execution_count": null,
      "id": "85ef2392",
      "metadata": {
        "id": "85ef2392"
      },
      "outputs": [],
      "source": [
        "#그래프 색상 지정\n",
        "colors = ['r','g','b','c','m','y','k','w']  # 기본색상  # Hexa코드 or CSS컬러사용\n",
        "plt.bar(X, Y,color=colors)\n",
        "plt.show()"
      ]
    },
    {
      "cell_type": "code",
      "execution_count": null,
      "id": "d5805830",
      "metadata": {
        "id": "d5805830"
      },
      "outputs": [],
      "source": [
        "# plt.bar(X, Y) # 막대 그래프\n",
        "# plt.barh(X, Y) # 막대(가로) 그래프\n",
        "Y2 = [i-2 for i in Y]\n",
        "plt.bar(X, Y, label='값1')     # 파란색\n",
        "plt.bar(X, Y2, label='값2')    # 주황색\n",
        "\n",
        "plt.grid(False)   # 그리드 출력 여부\n",
        "plt.title('년도별 그래프')\n",
        "plt.xlabel('년도')\n",
        "plt.ylabel('값')\n",
        "plt.legend()\n",
        "plt.show()"
      ]
    },
    {
      "cell_type": "markdown",
      "id": "1b686d2c",
      "metadata": {
        "id": "1b686d2c"
      },
      "source": [
        "-  막대 2개 나란히 나타내기"
      ]
    },
    {
      "cell_type": "code",
      "execution_count": null,
      "id": "0e115695",
      "metadata": {
        "id": "0e115695"
      },
      "outputs": [],
      "source": [
        "import matplotlib.pyplot as plt\n",
        "import numpy as np\n",
        "\n",
        "# X축, Y축 데이터\n",
        "X = list(range(2005,2015,1))\n",
        "Y1= [15,7,2,10,8,5,14,9,18,8]\n",
        "Y2= [y+1 for y in Y1]\n",
        "lable = X\n",
        "X = np.arange(len(X))\n",
        "\n",
        "plt.bar(X-0.2, Y1, width=0.4, label='Y1')     # 막대 그래프\n",
        "plt.bar(X+0.2, Y2, width=0.4, label='Y2')     # 막대 그래프\n",
        "plt.xticks(X, lable)\n",
        "\n",
        "plt.title('년도별 그래프')\n",
        "plt.grid(False)\n",
        "plt.legend()\n",
        "plt.show()"
      ]
    },
    {
      "cell_type": "markdown",
      "id": "2b23e316",
      "metadata": {
        "id": "2b23e316"
      },
      "source": [
        "#### 4.원 그래프"
      ]
    },
    {
      "cell_type": "code",
      "execution_count": null,
      "id": "7d7d024a",
      "metadata": {
        "id": "7d7d024a"
      },
      "outputs": [],
      "source": [
        "import matplotlib.pyplot as plt\n",
        "import pandas as pd\n",
        "\n",
        "idx = ['1학년','2학년','3학년','4학년']\n",
        "val = [16,12,7,5]\n",
        "per = [val[x]/sum(val) *100 for x in range(len(val))]\n",
        "\n",
        "plt.pie(per, autopct='%1.1f%%',textprops=dict(color=\"w\"))\n",
        "plt.title(\"학년별 동아리 회원수\")\n",
        "plt.legend(idx, title='학년', loc=\"center right\",\n",
        "           bbox_to_anchor=(1, 0, 0.5, 1))\n",
        "\n",
        "plt.show()"
      ]
    },
    {
      "cell_type": "markdown",
      "id": "d75d3eda",
      "metadata": {
        "id": "d75d3eda"
      },
      "source": [
        "#### 5.혼합그래프 : 선 + 막대"
      ]
    },
    {
      "cell_type": "code",
      "execution_count": null,
      "id": "32cc6913",
      "metadata": {
        "id": "32cc6913"
      },
      "outputs": [],
      "source": [
        "# X축, Y축 데이터\n",
        "X = list(range(2005,2015,1))\n",
        "Y1= [15,7,2,10,8,5,14,9,18,8]\n",
        "Y2= [y+1 for y in Y1]\n",
        "\n",
        "plt.plot(X, Y1, 'o', linestyle='dashed', c='r', label='Y1') # 선 그래프\n",
        "plt.bar(X, Y2, width=0.4, label='Y2')     # 막대 그래프\n",
        "plt.xticks(X, lable)\n",
        "\n",
        "plt.title('년도별 그래프')\n",
        "plt.grid(False)\n",
        "plt.legend()\n",
        "plt.show()"
      ]
    },
    {
      "cell_type": "markdown",
      "id": "6c48f52e",
      "metadata": {
        "id": "6c48f52e"
      },
      "source": [
        "----------------------------------"
      ]
    },
    {
      "cell_type": "markdown",
      "id": "fede246a",
      "metadata": {
        "id": "fede246a"
      },
      "source": [
        "THE END"
      ]
    }
  ],
  "metadata": {
    "colab": {
      "provenance": [],
      "toc_visible": true,
      "include_colab_link": true
    },
    "kernelspec": {
      "display_name": "Python 3 (ipykernel)",
      "language": "python",
      "name": "python3"
    },
    "language_info": {
      "codemirror_mode": {
        "name": "ipython",
        "version": 3
      },
      "file_extension": ".py",
      "mimetype": "text/x-python",
      "name": "python",
      "nbconvert_exporter": "python",
      "pygments_lexer": "ipython3",
      "version": "3.10.9"
    },
    "vscode": {
      "interpreter": {
        "hash": "b41e41bff03a930185ac2cbea60ce521f7c8c2f5401ceb5c30214081f77ab4f5"
      }
    }
  },
  "nbformat": 4,
  "nbformat_minor": 5
}