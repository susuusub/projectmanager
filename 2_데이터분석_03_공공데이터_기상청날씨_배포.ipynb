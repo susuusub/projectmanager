{
  "cells": [
    {
      "cell_type": "markdown",
      "metadata": {
        "id": "view-in-github",
        "colab_type": "text"
      },
      "source": [
        "<a href=\"https://colab.research.google.com/github/susuusub/projectmanager/blob/main/2_%EB%8D%B0%EC%9D%B4%ED%84%B0%EB%B6%84%EC%84%9D_03_%EA%B3%B5%EA%B3%B5%EB%8D%B0%EC%9D%B4%ED%84%B0_%EA%B8%B0%EC%83%81%EC%B2%AD%EB%82%A0%EC%94%A8_%EB%B0%B0%ED%8F%AC.ipynb\" target=\"_parent\"><img src=\"https://colab.research.google.com/assets/colab-badge.svg\" alt=\"Open In Colab\"/></a>"
      ]
    },
    {
      "cell_type": "markdown",
      "metadata": {
        "id": "qH9SkhanZB2e"
      },
      "source": [
        "# Chapter4: 데이터 분석\n",
        "\n",
        "## 3. 공공데이터를 이용한 EDA 분석"
      ]
    },
    {
      "cell_type": "markdown",
      "metadata": {
        "id": "rc3YMCIQZB2f"
      },
      "source": [
        "## 02- 기상청 데이터 분석"
      ]
    },
    {
      "cell_type": "markdown",
      "metadata": {
        "id": "GimVWjD8ZB2g"
      },
      "source": [
        "---"
      ]
    },
    {
      "cell_type": "markdown",
      "metadata": {
        "id": "ya0pk_FyZB2g"
      },
      "source": [
        "## 기상청 데이터 분석(종관데이터)"
      ]
    },
    {
      "cell_type": "markdown",
      "metadata": {
        "id": "g9-fuJ7iZB2g"
      },
      "source": [
        "### #파이썬으로 데이터 분석하는 순서\n",
        " [사전준비] 필요한 파이썬 라이브러리 설치하기\n",
        " [사전준비] 데이터 준비하기 : 웹 사이트에서 공공데이터 다운로드하기\n",
        " 1. 데이터 불러오기 : 파이썬으로 데이터 읽어서 표로 나타내기\n",
        " 2. 데이터 전처리하기 : 필요한 데이터만 추출하기\n",
        " 3. 데이터 시각화하기 : 데이터 그래프로 나타내기\n",
        " 4. 데이터 저장하기 :  파일로 저장하기"
      ]
    },
    {
      "cell_type": "markdown",
      "metadata": {
        "id": "Jeo5Y95GZB2g"
      },
      "source": [
        "---"
      ]
    },
    {
      "cell_type": "markdown",
      "metadata": {
        "id": "UbjiP8hkZB2g"
      },
      "source": [
        "### #라이브러리 설치 확인하기\n",
        "아래 코드를 실행한 후 오류 메시지가 없으면 성공적으로 설치된 것입니다."
      ]
    },
    {
      "cell_type": "code",
      "execution_count": 1,
      "metadata": {
        "scrolled": true,
        "colab": {
          "base_uri": "https://localhost:8080/",
          "height": 35
        },
        "id": "wX4NlMt6ZB2g",
        "outputId": "72339c79-e2b2-489b-accc-132b8e350895"
      },
      "outputs": [
        {
          "output_type": "execute_result",
          "data": {
            "text/plain": [
              "'1.5.3'"
            ],
            "application/vnd.google.colaboratory.intrinsic+json": {
              "type": "string"
            }
          },
          "metadata": {},
          "execution_count": 1
        }
      ],
      "source": [
        "import pandas  as pd\n",
        "pd.__version__"
      ]
    },
    {
      "cell_type": "code",
      "execution_count": 2,
      "metadata": {
        "colab": {
          "base_uri": "https://localhost:8080/",
          "height": 35
        },
        "id": "Gw-eSrWBZB2g",
        "outputId": "dd9da5e6-b2ed-4105-ebf3-246c26efdb61"
      },
      "outputs": [
        {
          "output_type": "execute_result",
          "data": {
            "text/plain": [
              "'1.23.5'"
            ],
            "application/vnd.google.colaboratory.intrinsic+json": {
              "type": "string"
            }
          },
          "metadata": {},
          "execution_count": 2
        }
      ],
      "source": [
        "import numpy as np\n",
        "np.__version__"
      ]
    },
    {
      "cell_type": "code",
      "execution_count": 3,
      "metadata": {
        "colab": {
          "base_uri": "https://localhost:8080/",
          "height": 35
        },
        "id": "bJIuJDrWZB2h",
        "outputId": "cef2f860-6a24-4f1c-9074-5beb5434fccb"
      },
      "outputs": [
        {
          "output_type": "execute_result",
          "data": {
            "text/plain": [
              "'3.7.1'"
            ],
            "application/vnd.google.colaboratory.intrinsic+json": {
              "type": "string"
            }
          },
          "metadata": {},
          "execution_count": 3
        }
      ],
      "source": [
        "import matplotlib as plt\n",
        "plt.__version__"
      ]
    },
    {
      "cell_type": "markdown",
      "metadata": {
        "id": "35TZ7Ft3ZB2h"
      },
      "source": [
        "---"
      ]
    },
    {
      "cell_type": "markdown",
      "metadata": {
        "id": "KbwCIm9hZB2h"
      },
      "source": [
        "### 1.데이터 다운로드하기"
      ]
    },
    {
      "cell_type": "markdown",
      "metadata": {
        "id": "EhQGgkGCZB2h"
      },
      "source": [
        "- 기상청 사이트에서 날씨 데이터를 다운로드한다.\n",
        "- 사이트에 가입하고 로그인해야 다운로드할 수 있다.\n",
        "- https://data.kma.go.kr/data/grnd/selectAsosRltmList.do?pgmNo=36\n",
        "- csv파일 다운로드해서 사용\n",
        "- OBS_ASOS_MNH_~.csv 파일 이름을 'weather_data.csv'로 변경해서 사용하기\n"
      ]
    },
    {
      "cell_type": "markdown",
      "metadata": {
        "id": "Fr6u8w7GZB2h"
      },
      "source": [
        "---------"
      ]
    },
    {
      "cell_type": "markdown",
      "metadata": {
        "id": "-SasCnJGZB2h"
      },
      "source": [
        "### 2. 데이터 불러오기 : 파이썬으로 데이터 읽어서 표로 나타내기"
      ]
    },
    {
      "cell_type": "code",
      "execution_count": 5,
      "metadata": {
        "colab": {
          "base_uri": "https://localhost:8080/",
          "height": 200
        },
        "id": "l2-DVWgwZB2h",
        "outputId": "6f742a2a-2c9c-4ce0-929d-12ee40658e14"
      },
      "outputs": [
        {
          "output_type": "stream",
          "name": "stdout",
          "text": [
            "<class 'pandas.core.frame.DataFrame'>\n"
          ]
        },
        {
          "output_type": "execute_result",
          "data": {
            "text/plain": [
              "   지점 지점명       일시  평균기온(°C)  최고기온(°C)  최저기온(°C)  평균현지기압(hPa)  평균상대습도(%)  \\\n",
              "0  90  속초  1968-01      -0.7      11.4     -11.4       1018.2       47.0   \n",
              "1  90  속초  1968-02      -2.1       9.7      -9.9       1022.8       51.0   \n",
              "\n",
              "   월합강수량(00~24h만)(mm)  평균풍속(m/s)  합계 일조시간(hr)  최심적설(cm)  \n",
              "0                 0.0        2.1        218.6       NaN  \n",
              "1                 3.3        2.2        236.5       1.8  "
            ],
            "text/html": [
              "\n",
              "  <div id=\"df-317dcd32-7de7-4071-ba85-6b16fc7c8a15\" class=\"colab-df-container\">\n",
              "    <div>\n",
              "<style scoped>\n",
              "    .dataframe tbody tr th:only-of-type {\n",
              "        vertical-align: middle;\n",
              "    }\n",
              "\n",
              "    .dataframe tbody tr th {\n",
              "        vertical-align: top;\n",
              "    }\n",
              "\n",
              "    .dataframe thead th {\n",
              "        text-align: right;\n",
              "    }\n",
              "</style>\n",
              "<table border=\"1\" class=\"dataframe\">\n",
              "  <thead>\n",
              "    <tr style=\"text-align: right;\">\n",
              "      <th></th>\n",
              "      <th>지점</th>\n",
              "      <th>지점명</th>\n",
              "      <th>일시</th>\n",
              "      <th>평균기온(°C)</th>\n",
              "      <th>최고기온(°C)</th>\n",
              "      <th>최저기온(°C)</th>\n",
              "      <th>평균현지기압(hPa)</th>\n",
              "      <th>평균상대습도(%)</th>\n",
              "      <th>월합강수량(00~24h만)(mm)</th>\n",
              "      <th>평균풍속(m/s)</th>\n",
              "      <th>합계 일조시간(hr)</th>\n",
              "      <th>최심적설(cm)</th>\n",
              "    </tr>\n",
              "  </thead>\n",
              "  <tbody>\n",
              "    <tr>\n",
              "      <th>0</th>\n",
              "      <td>90</td>\n",
              "      <td>속초</td>\n",
              "      <td>1968-01</td>\n",
              "      <td>-0.7</td>\n",
              "      <td>11.4</td>\n",
              "      <td>-11.4</td>\n",
              "      <td>1018.2</td>\n",
              "      <td>47.0</td>\n",
              "      <td>0.0</td>\n",
              "      <td>2.1</td>\n",
              "      <td>218.6</td>\n",
              "      <td>NaN</td>\n",
              "    </tr>\n",
              "    <tr>\n",
              "      <th>1</th>\n",
              "      <td>90</td>\n",
              "      <td>속초</td>\n",
              "      <td>1968-02</td>\n",
              "      <td>-2.1</td>\n",
              "      <td>9.7</td>\n",
              "      <td>-9.9</td>\n",
              "      <td>1022.8</td>\n",
              "      <td>51.0</td>\n",
              "      <td>3.3</td>\n",
              "      <td>2.2</td>\n",
              "      <td>236.5</td>\n",
              "      <td>1.8</td>\n",
              "    </tr>\n",
              "  </tbody>\n",
              "</table>\n",
              "</div>\n",
              "    <div class=\"colab-df-buttons\">\n",
              "\n",
              "  <div class=\"colab-df-container\">\n",
              "    <button class=\"colab-df-convert\" onclick=\"convertToInteractive('df-317dcd32-7de7-4071-ba85-6b16fc7c8a15')\"\n",
              "            title=\"Convert this dataframe to an interactive table.\"\n",
              "            style=\"display:none;\">\n",
              "\n",
              "  <svg xmlns=\"http://www.w3.org/2000/svg\" height=\"24px\" viewBox=\"0 -960 960 960\">\n",
              "    <path d=\"M120-120v-720h720v720H120Zm60-500h600v-160H180v160Zm220 220h160v-160H400v160Zm0 220h160v-160H400v160ZM180-400h160v-160H180v160Zm440 0h160v-160H620v160ZM180-180h160v-160H180v160Zm440 0h160v-160H620v160Z\"/>\n",
              "  </svg>\n",
              "    </button>\n",
              "\n",
              "  <style>\n",
              "    .colab-df-container {\n",
              "      display:flex;\n",
              "      gap: 12px;\n",
              "    }\n",
              "\n",
              "    .colab-df-convert {\n",
              "      background-color: #E8F0FE;\n",
              "      border: none;\n",
              "      border-radius: 50%;\n",
              "      cursor: pointer;\n",
              "      display: none;\n",
              "      fill: #1967D2;\n",
              "      height: 32px;\n",
              "      padding: 0 0 0 0;\n",
              "      width: 32px;\n",
              "    }\n",
              "\n",
              "    .colab-df-convert:hover {\n",
              "      background-color: #E2EBFA;\n",
              "      box-shadow: 0px 1px 2px rgba(60, 64, 67, 0.3), 0px 1px 3px 1px rgba(60, 64, 67, 0.15);\n",
              "      fill: #174EA6;\n",
              "    }\n",
              "\n",
              "    .colab-df-buttons div {\n",
              "      margin-bottom: 4px;\n",
              "    }\n",
              "\n",
              "    [theme=dark] .colab-df-convert {\n",
              "      background-color: #3B4455;\n",
              "      fill: #D2E3FC;\n",
              "    }\n",
              "\n",
              "    [theme=dark] .colab-df-convert:hover {\n",
              "      background-color: #434B5C;\n",
              "      box-shadow: 0px 1px 3px 1px rgba(0, 0, 0, 0.15);\n",
              "      filter: drop-shadow(0px 1px 2px rgba(0, 0, 0, 0.3));\n",
              "      fill: #FFFFFF;\n",
              "    }\n",
              "  </style>\n",
              "\n",
              "    <script>\n",
              "      const buttonEl =\n",
              "        document.querySelector('#df-317dcd32-7de7-4071-ba85-6b16fc7c8a15 button.colab-df-convert');\n",
              "      buttonEl.style.display =\n",
              "        google.colab.kernel.accessAllowed ? 'block' : 'none';\n",
              "\n",
              "      async function convertToInteractive(key) {\n",
              "        const element = document.querySelector('#df-317dcd32-7de7-4071-ba85-6b16fc7c8a15');\n",
              "        const dataTable =\n",
              "          await google.colab.kernel.invokeFunction('convertToInteractive',\n",
              "                                                    [key], {});\n",
              "        if (!dataTable) return;\n",
              "\n",
              "        const docLinkHtml = 'Like what you see? Visit the ' +\n",
              "          '<a target=\"_blank\" href=https://colab.research.google.com/notebooks/data_table.ipynb>data table notebook</a>'\n",
              "          + ' to learn more about interactive tables.';\n",
              "        element.innerHTML = '';\n",
              "        dataTable['output_type'] = 'display_data';\n",
              "        await google.colab.output.renderOutput(dataTable, element);\n",
              "        const docLink = document.createElement('div');\n",
              "        docLink.innerHTML = docLinkHtml;\n",
              "        element.appendChild(docLink);\n",
              "      }\n",
              "    </script>\n",
              "  </div>\n",
              "\n",
              "    </div>\n",
              "  </div>\n"
            ]
          },
          "metadata": {},
          "execution_count": 5
        }
      ],
      "source": [
        "import pandas as pd\n",
        "\n",
        "# OBS_ASOS_MNH_~.csv 파일명 데이터를 'weather_data.csv'로 변경하기\n",
        "file = 'data/weather_data.csv'\n",
        "df = pd.read_csv('./sample_data/weather_data.csv', encoding='CP949')\n",
        "\n",
        "print(type(df))\n",
        "df.head(2)"
      ]
    },
    {
      "cell_type": "markdown",
      "metadata": {
        "id": "koT8yA7dZB2h"
      },
      "source": [
        "---"
      ]
    },
    {
      "cell_type": "markdown",
      "metadata": {
        "id": "NpEiU7JHZB2h"
      },
      "source": [
        "### 2.데이터 전처리(가공하기)\n",
        "- 함수 참고:  https://pandas.pydata.org/docs/reference/index.html"
      ]
    },
    {
      "cell_type": "markdown",
      "metadata": {
        "id": "k799gIeZZB2h"
      },
      "source": [
        "#### # 데이터 요약"
      ]
    },
    {
      "cell_type": "code",
      "execution_count": null,
      "metadata": {
        "scrolled": false,
        "id": "3DaHdCCXZB2h"
      },
      "outputs": [],
      "source": [
        "# 데이터 요약 정보\n",
        "df.info()"
      ]
    },
    {
      "cell_type": "markdown",
      "metadata": {
        "id": "EPXR_-s0ZB2h"
      },
      "source": [
        "#### # 기술통계 정보"
      ]
    },
    {
      "cell_type": "code",
      "execution_count": null,
      "metadata": {
        "scrolled": false,
        "id": "4O4ulj0YZB2h"
      },
      "outputs": [],
      "source": [
        "df.describe()"
      ]
    },
    {
      "cell_type": "markdown",
      "metadata": {
        "id": "SMiP0lYMZB2h"
      },
      "source": [
        "#### # 결측데이터 시각화\n",
        "missingno패키지는 pandas 데이터프레임 데이터에서 누락된 데이터를 찾고 시각화하는 기능 제공"
      ]
    },
    {
      "cell_type": "code",
      "execution_count": null,
      "metadata": {
        "id": "O1My-1LzZB2h"
      },
      "outputs": [],
      "source": [
        "!pip install missingno"
      ]
    },
    {
      "cell_type": "markdown",
      "metadata": {
        "id": "Bj_9UZgtZB2h"
      },
      "source": [
        "- **행에 결측 데이터 시각화**"
      ]
    },
    {
      "cell_type": "code",
      "execution_count": null,
      "metadata": {
        "id": "eqtZUZgdZB2i"
      },
      "outputs": [],
      "source": [
        "import missingno as msno\n",
        "import matplotlib.pyplot as plt\n",
        "# plt.rc('font', family='Malgun Gothic') # 윈도우용 폰트-코랩용은 해당폰트 지정\n",
        "\n",
        "msno.matrix(df)\n",
        "plt.show()"
      ]
    },
    {
      "cell_type": "markdown",
      "metadata": {
        "id": "y4hykH-fZB2i"
      },
      "source": [
        "- **열에 결측 데이터 시각화**"
      ]
    },
    {
      "cell_type": "code",
      "execution_count": null,
      "metadata": {
        "id": "VTiYIVNCZB2i"
      },
      "outputs": [],
      "source": [
        "msno.bar(df)\n",
        "plt.show()"
      ]
    },
    {
      "cell_type": "markdown",
      "metadata": {
        "id": "lHTGwOGfZB2i"
      },
      "source": [
        "---"
      ]
    },
    {
      "cell_type": "markdown",
      "metadata": {
        "id": "s79IuBnQZB2i"
      },
      "source": [
        "#### 2. 컬럼명 변경하기"
      ]
    },
    {
      "cell_type": "code",
      "execution_count": null,
      "metadata": {
        "scrolled": true,
        "id": "NdHSkmaVZB2i"
      },
      "outputs": [],
      "source": [
        "df.columns\n",
        "df.columns = ['지점', '지점명', '일시', '평균기온', '최고기온', '최저기온', '평균현지기압',\n",
        "       '평균상대습도', '월합강수량', '평균풍속','일조시간', '최심적설']\n",
        "df.head(3)"
      ]
    },
    {
      "cell_type": "markdown",
      "metadata": {
        "id": "ULPFUqlwZB2i"
      },
      "source": [
        "#### 3. 컬럼 추가하기\n",
        "DataFrame.insert(추가하고싶은위치,컬럼명,값, allow_duplicate=False)"
      ]
    },
    {
      "cell_type": "code",
      "execution_count": null,
      "metadata": {
        "scrolled": true,
        "id": "tf-irJ4PZB2i"
      },
      "outputs": [],
      "source": [
        "df.insert(3,'신규2',df['지점'])\n",
        "df"
      ]
    },
    {
      "cell_type": "code",
      "execution_count": null,
      "metadata": {
        "id": "tVTd4ox6ZB2i"
      },
      "outputs": [],
      "source": [
        "df.insert(3,'검색일자',df['일시'])\n",
        "df"
      ]
    },
    {
      "cell_type": "code",
      "execution_count": null,
      "metadata": {
        "id": "jP5ajHP8ZB2i"
      },
      "outputs": [],
      "source": [
        "df"
      ]
    },
    {
      "cell_type": "code",
      "execution_count": null,
      "metadata": {
        "id": "bU6muWO2ZB2i"
      },
      "outputs": [],
      "source": [
        "df.head(3)"
      ]
    },
    {
      "cell_type": "markdown",
      "metadata": {
        "id": "WZ6rOBfxZB2i"
      },
      "source": [
        "- **문자열에서 특정 문자 제거**: '검색일자' 값중에 '년도-월-일' 형태로 되어 있는 구조에서  '-'기호를 제거"
      ]
    },
    {
      "cell_type": "code",
      "execution_count": null,
      "metadata": {
        "scrolled": true,
        "id": "4T8cOdA7ZB2i"
      },
      "outputs": [],
      "source": [
        "df['검색일자']= df['검색일자'].str.replace(pat=r'-',repl=r'',regex=True)\n",
        "df.head(2)"
      ]
    },
    {
      "cell_type": "code",
      "execution_count": null,
      "metadata": {
        "id": "W5P65HruZB2i"
      },
      "outputs": [],
      "source": [
        "df.info()"
      ]
    },
    {
      "cell_type": "markdown",
      "metadata": {
        "id": "Ol3iT3vLZB2i"
      },
      "source": [
        "- **데이터형 변환하기**: str(object)-->int64 형으로 변환하기"
      ]
    },
    {
      "cell_type": "code",
      "execution_count": null,
      "metadata": {
        "id": "ZDka3y-oZB2i"
      },
      "outputs": [],
      "source": [
        "df['검색일자'] = df['검색일자'].apply('int64')\n",
        "df.dtypes"
      ]
    },
    {
      "cell_type": "markdown",
      "metadata": {
        "id": "4xXUzbe1ZB2j"
      },
      "source": [
        "- **데이터형 변환하기**: int64 --> str(object)형으로 변환하기"
      ]
    },
    {
      "cell_type": "code",
      "execution_count": null,
      "metadata": {
        "id": "KECPBtbwZB2j"
      },
      "outputs": [],
      "source": [
        "df['검색일자'] = df['검색일자'].apply(str)\n",
        "df.dtypes"
      ]
    },
    {
      "cell_type": "code",
      "execution_count": null,
      "metadata": {
        "scrolled": true,
        "id": "gxNslzvEZB2j"
      },
      "outputs": [],
      "source": [
        "# 년월 추가\n",
        "df.insert(3,'년도',df['일시'].str[0:4])\n",
        "df"
      ]
    },
    {
      "cell_type": "markdown",
      "metadata": {
        "id": "qNp4udFJZB2j"
      },
      "source": [
        "#### 4. 컬럼 삭제"
      ]
    },
    {
      "cell_type": "code",
      "execution_count": null,
      "metadata": {
        "id": "yZVohbPmZB2j"
      },
      "outputs": [],
      "source": [
        "# df.drop(['신규','신규2'], axis=1, inplace=True)\n",
        "df.drop('신규2', axis=1, inplace=True)\n",
        "df.drop('검색일자', axis=1, inplace=True)\n",
        "df.head(3)"
      ]
    },
    {
      "cell_type": "markdown",
      "metadata": {
        "id": "5Xb0dNy3ZB2j"
      },
      "source": [
        "#### 5. 특정 조건 검색"
      ]
    },
    {
      "cell_type": "code",
      "execution_count": null,
      "metadata": {
        "id": "LQM7A8ggZB2j"
      },
      "outputs": [],
      "source": [
        "print( '#지점명 개수: ', len( set(df['지점명']) ) )\n",
        "print( '#지점명: ', set( df['지점명'] ) )"
      ]
    },
    {
      "cell_type": "code",
      "execution_count": null,
      "metadata": {
        "id": "-U-Mi326ZB2j"
      },
      "outputs": [],
      "source": [
        "# 특정년도 데이터\n",
        "df_2023 = df.query(\" 년도 == '2023' \")\n",
        "# df_2023 = df[ df['년도']=='2023' ]"
      ]
    },
    {
      "cell_type": "code",
      "execution_count": null,
      "metadata": {
        "id": "l8-2X4Z9ZB2j"
      },
      "outputs": [],
      "source": [
        "print( '#지점명 개수: ', len( set(df_2023['지점명']) ) )\n",
        "print( '#지점명: ', set( df_2023['지점명'] ) )"
      ]
    },
    {
      "cell_type": "code",
      "execution_count": null,
      "metadata": {
        "scrolled": true,
        "id": "NBzQRzaqZB2j"
      },
      "outputs": [],
      "source": [
        "# 년도=='2023'이면서 전라북도 관측소 데이터만 추출하기\n",
        "df.query(\"년도 == '2023' and 지점명 in ('고창','고창군','전주','정읍','장수') \")\n",
        "df_2023.query(\" 지점명 in ('고창','고창군','전주','정읍','장수')\")"
      ]
    },
    {
      "cell_type": "markdown",
      "metadata": {
        "id": "OVEmmiU9ZB2j"
      },
      "source": [
        "- **특정 컬럼명 검색** : 지점명=='제주' 데이터"
      ]
    },
    {
      "cell_type": "code",
      "execution_count": null,
      "metadata": {
        "id": "VS8Ta--RZB2j"
      },
      "outputs": [],
      "source": [
        "df[df.지점명 == '제주' ]\n",
        "\n",
        "# df.query(\" 지점명 == '제주' \")\n",
        "\n",
        "# df.iloc[ df.index[ df['지점명'] == '제주' ] ]"
      ]
    },
    {
      "cell_type": "markdown",
      "metadata": {
        "id": "Lvpvcc7_ZB2j"
      },
      "source": [
        "- **또는(|) , 포함(in)** 조건 사용: 강릉 또는 속초 데이터 추출"
      ]
    },
    {
      "cell_type": "code",
      "execution_count": null,
      "metadata": {
        "scrolled": false,
        "id": "OIUaIaW7ZB2j"
      },
      "outputs": [],
      "source": [
        "# 또는(|) 사용\n",
        "df.query(\" 지점명=='제주' | 지점명=='서귀포' \")\n",
        "df.head()\n",
        "\n",
        "# df.query(\" 지점명=='제주' | 지점명=='서귀포' \").head()\n",
        "\n",
        "# df.query(\" 지점명 in ('제주','서귀포') \").head(2)"
      ]
    },
    {
      "cell_type": "markdown",
      "metadata": {
        "id": "WXlvHZE6ZB2j"
      },
      "source": [
        "- **그리고(&)** 조건 사용"
      ]
    },
    {
      "cell_type": "code",
      "execution_count": null,
      "metadata": {
        "id": "6eqfXLc_ZB2j"
      },
      "outputs": [],
      "source": [
        "df[ (df.지점명 == '제주' ) & (df.최고기온 >10) ]\n",
        "\n",
        "# df.query(\" 지점명=='제주' & 최저기온 <= 0 \")"
      ]
    },
    {
      "cell_type": "markdown",
      "metadata": {
        "id": "CwBjp0p8ZB2j"
      },
      "source": [
        "### [실습문제] 관측 지점이 제주도인 데이터 검색"
      ]
    },
    {
      "cell_type": "code",
      "execution_count": null,
      "metadata": {
        "id": "bENVOWrzZB2j"
      },
      "outputs": [],
      "source": [
        "# 포함(in) 사용\n",
        "df.query(\" 지점명 in ('고산','서귀포','성산','성산포','제주') \")"
      ]
    },
    {
      "cell_type": "markdown",
      "metadata": {
        "id": "UWMFh4QFZB2j"
      },
      "source": [
        "- **min()** : 최초 측정월, 마지막 측정월"
      ]
    },
    {
      "cell_type": "code",
      "execution_count": null,
      "metadata": {
        "scrolled": true,
        "id": "27lXey8uZB2k"
      },
      "outputs": [],
      "source": [
        "# 측정월 최소, 최대\n",
        "print ( '최초 측정일시: ', min(df['일시']) )\n",
        "print ( '최초 측정일시: ', df['일시'].min() )\n",
        "print ( '최근 측정일시: ', max(df['일시']) )\n",
        "print ( '최근 측정일시: ', df['일시'].max() )\n",
        "\n",
        "# 측정 최초월('1904-04')의 데이터\n",
        "# df['일시'].min()\n",
        "# df.query(\" 일시 == '1904-04-01'\")\n",
        "\n",
        "df.query(f\" 일시 == '{ df['일시'].min() }' \")\n",
        "df[ df['일시'] == df['일시'].min() ]"
      ]
    },
    {
      "cell_type": "code",
      "execution_count": null,
      "metadata": {
        "id": "qgklDualZB2k"
      },
      "outputs": [],
      "source": [
        "# 전주 최초 측정일\n",
        "df_junjoo = df.query(f\" 지점명 == '전주' \")\n",
        "df_junjoo['일시'].min()"
      ]
    },
    {
      "cell_type": "markdown",
      "metadata": {
        "id": "3ZOmwsYmZB2k"
      },
      "source": [
        "- **max()** : 최근 측정 월 검색"
      ]
    },
    {
      "cell_type": "code",
      "execution_count": null,
      "metadata": {
        "id": "qMgF1AciZB2k"
      },
      "outputs": [],
      "source": [
        "df.query(f\" 일시 == '{ df['일시'].max() }' \")"
      ]
    },
    {
      "cell_type": "code",
      "execution_count": null,
      "metadata": {
        "id": "PHfbKB9QZB2k"
      },
      "outputs": [],
      "source": [
        "df.query(f\" 지점명 == '전주' & 일시 == '{ df['일시'].min() }' \")"
      ]
    },
    {
      "cell_type": "code",
      "execution_count": null,
      "metadata": {
        "id": "yYbFgIOCZB2k"
      },
      "outputs": [],
      "source": [
        "df.query(f\" 지점명 in ('제주','성산','고산','성산포','서귀포') & 일시 == '{ df['일시'].max() }' \")"
      ]
    },
    {
      "cell_type": "markdown",
      "metadata": {
        "id": "s2cOo6gTZB2k"
      },
      "source": [
        "### [실습]: 가장 더웠던 날짜와 온도는?\n",
        "- 기상관측 데이터에서 가장 더웠던(추웠던) 해와 기온은?"
      ]
    },
    {
      "cell_type": "code",
      "execution_count": null,
      "metadata": {
        "id": "lozhWTpKZB2k"
      },
      "outputs": [],
      "source": [
        "# 컬럼 추출\n",
        "df['최고기온'].max()\n",
        "df.최고기온.max()\n",
        "\n",
        "\n",
        "# 행 추출\n",
        "df.query(f\" 최고기온 == {  df.최고기온.max()  } \")\n",
        "df[ df.최고기온 == df.최고기온.max() ]"
      ]
    },
    {
      "cell_type": "code",
      "execution_count": null,
      "metadata": {
        "scrolled": true,
        "id": "BoRvTDxTZB2k"
      },
      "outputs": [],
      "source": [
        "# 행 추출 특정 컬럼값(year) 추출\n",
        "print(f'기상관측 데이터를 통해 가장 더웠던 년도는?')\n",
        "print(df.query(f\" 최고기온 == {  df.최고기온.max()  } \").일시.str[0:4] )\n",
        "\n",
        "\n",
        "yymm = df.query(f\" 최고기온 == {  df.최고기온.max()  } \").일시.str[0:7]\n",
        "yymm = df[ df.최고기온 == df.최고기온.max() ].일시.str[0:7]\n",
        "print(f'기상관측 데이터를 통해 가장 더웠던 년-월: {yymm}')\n",
        "\n",
        "\n",
        "# 행 추출 특정 컬럼값(최고기온) 추출\n",
        "df.query(f\" 최고기온 == {  df.최고기온.max()  } \").최고기온\n",
        "df[ df.최고기온 == df.최고기온.max() ].최고기온"
      ]
    },
    {
      "cell_type": "code",
      "execution_count": null,
      "metadata": {
        "id": "D_AYVP-GZB2k"
      },
      "outputs": [],
      "source": [
        "# 전체 최고기온\n",
        "df.query(f\" 최고기온 == {df['최고기온'].max()} \")\n",
        "\n",
        "# 전체 최고기온 일시\n",
        "df.query(f\" 최고기온 == {df['최고기온'].max()} \")['일시'].str[0:4]\n",
        "\n",
        "# 전체 최고기온 지점명\n",
        "df.query(f\" 최고기온 == {df['최고기온'].max()} \")['지점명']\n",
        "\n",
        "# # 측정 지점이 제주인  최고기온\n",
        "df.query(f\" 지점명=='제주' \")['최고기온'].max()\n",
        "\n",
        "\n",
        "# 측정 지점이 제주 전역의   최고기온\n",
        "df.query(f\" 지점명 in ('고산','서귀포','성산','성산포','제주') \")['최고기온'].max()"
      ]
    },
    {
      "cell_type": "markdown",
      "metadata": {
        "id": "WhD1auT0ZB2k"
      },
      "source": [
        "### [실습]: 가장 추웠던 날짜와 온도는?"
      ]
    },
    {
      "cell_type": "code",
      "execution_count": null,
      "metadata": {
        "scrolled": false,
        "id": "NHTzF0n4ZB2k"
      },
      "outputs": [],
      "source": [
        "field = '최저기온'\n",
        "\n",
        "# 전체 최저기온\n",
        "df.query(f\" {field} <= { df[field].min() } \")\n",
        "\n",
        "# 전체 최저기온 일시\n",
        "df.query(f\" {field} <= { df[field].min() } \")['일시'].str[0:4]\n",
        "\n",
        "# 전체 최저기온 지점명\n",
        "df.query(f\" {field} <= { df[field].min() } \")['지점명']\n",
        "\n",
        "# 측정 지점이 제주인 최저기온\n",
        "df.query(f\" 지점명=='제주' \")[field].min()\n",
        "\n",
        "# 측정 지점이 제주 전역의  최고기온\n",
        "df.query(f\" 지점명 in ('고산','서귀포','성산','성산포','제주') \")['최저기온'].min()"
      ]
    },
    {
      "cell_type": "markdown",
      "metadata": {
        "id": "W67Dnn0IZB2k"
      },
      "source": [
        "###  [실습] : 'OO'에서 가장 더웠던 날짜와 기온?"
      ]
    },
    {
      "cell_type": "code",
      "execution_count": null,
      "metadata": {
        "id": "X6Wn2WIOZB2k"
      },
      "outputs": [],
      "source": [
        "\n"
      ]
    },
    {
      "cell_type": "markdown",
      "metadata": {
        "id": "bYVB7MBxZB2k"
      },
      "source": [
        "###  [실습] : 'OO'에서 가장 추웠던 날짜와 기온은?"
      ]
    },
    {
      "cell_type": "code",
      "execution_count": null,
      "metadata": {
        "scrolled": true,
        "id": "_LzcDM_aZB2k"
      },
      "outputs": [],
      "source": [
        "\n"
      ]
    },
    {
      "cell_type": "markdown",
      "metadata": {
        "id": "dbIv6DfsZB2k"
      },
      "source": [
        "--------"
      ]
    },
    {
      "cell_type": "markdown",
      "metadata": {
        "id": "oFAm5MDTZB2l"
      },
      "source": [
        "### 그룹핑(Grouping)"
      ]
    },
    {
      "cell_type": "markdown",
      "metadata": {
        "id": "TprN8uHUZB2l"
      },
      "source": [
        "#### #그룹핑: 지점별  "
      ]
    },
    {
      "cell_type": "code",
      "execution_count": null,
      "metadata": {
        "id": "SdRp68kGZB2l"
      },
      "outputs": [],
      "source": [
        "df.groupby(['지점명'], as_index=False).mean()\n",
        "df.groupby('지점명').mean()"
      ]
    },
    {
      "cell_type": "code",
      "execution_count": null,
      "metadata": {
        "scrolled": false,
        "id": "239sEcXxZB2l"
      },
      "outputs": [],
      "source": [
        "df.groupby(['지점명'], as_index=False).count()"
      ]
    },
    {
      "cell_type": "markdown",
      "metadata": {
        "id": "NCm_3AYKZB2l"
      },
      "source": [
        "#### #그룹핑(컬럼1개): 지점별  평균기온"
      ]
    },
    {
      "cell_type": "code",
      "execution_count": null,
      "metadata": {
        "id": "Ey80ZnbvZB2l"
      },
      "outputs": [],
      "source": [
        "# 방법1\n",
        "df['평균기온'].groupby(df['지점명']).mean()"
      ]
    },
    {
      "cell_type": "code",
      "execution_count": null,
      "metadata": {
        "id": "3YX4pw_-ZB2l"
      },
      "outputs": [],
      "source": [
        "# 방법2\n",
        "df.groupby('지점명')['평균기온'].agg('mean')"
      ]
    },
    {
      "cell_type": "code",
      "execution_count": null,
      "metadata": {
        "id": "K8tIPVIEZB2l"
      },
      "outputs": [],
      "source": [
        "# 방법3\n",
        "df.groupby('지점명')['평균기온'].agg(**{'평균기온':'mean'})"
      ]
    },
    {
      "cell_type": "code",
      "execution_count": null,
      "metadata": {
        "id": "7Jh_MSIZZB2l"
      },
      "outputs": [],
      "source": [
        "# 방법4\n",
        "df.groupby('지점명').aggregate({'평균기온':'mean'})"
      ]
    },
    {
      "cell_type": "code",
      "execution_count": null,
      "metadata": {
        "id": "K9etjIOMZB2l"
      },
      "outputs": [],
      "source": [
        "df_temp = df.groupby('지점명').aggregate({'평균기온':'mean'})\n",
        "df_temp.plot()"
      ]
    },
    {
      "cell_type": "markdown",
      "metadata": {
        "id": "e7SrK4pGZB2l"
      },
      "source": [
        "#### #그룹핑(컬럼 2개): 지점명+년도별,  평균기온"
      ]
    },
    {
      "cell_type": "code",
      "execution_count": null,
      "metadata": {
        "id": "6LNZkjgTZB2l"
      },
      "outputs": [],
      "source": [
        "df.groupby(['지점명','년도'])['평균기온'].agg('mean')\n",
        "df.groupby(['지점명','년도'])['평균기온'].agg(**{'평균':'mean'})\n",
        "df.groupby(['지점명','년도']).aggregate({'평균기온':'mean'})\n",
        "#df.groupby(['지점명','년도'])['평균기온'].agg(**{'평균기온':'mean'}).reset_index()"
      ]
    },
    {
      "cell_type": "code",
      "execution_count": null,
      "metadata": {
        "id": "LIo5G2hyZB2l"
      },
      "outputs": [],
      "source": [
        "df_temp = df.groupby(['지점명','년도'])['평균기온'].agg('mean')\n",
        "df_temp.plot()"
      ]
    },
    {
      "cell_type": "markdown",
      "metadata": {
        "id": "NLUfw_C6ZB2l"
      },
      "source": [
        "### [실습문제] : 지점별 최고기온?"
      ]
    },
    {
      "cell_type": "code",
      "execution_count": null,
      "metadata": {
        "id": "gRbNKmKjZB2l"
      },
      "outputs": [],
      "source": [
        "\n"
      ]
    },
    {
      "cell_type": "markdown",
      "metadata": {
        "id": "G6gY3uEIZB2l"
      },
      "source": [
        "- 인텍스를 초기화 하는 방법"
      ]
    },
    {
      "cell_type": "code",
      "execution_count": null,
      "metadata": {
        "id": "GPTZPeZmZB2l"
      },
      "outputs": [],
      "source": [
        "# 인텍스를 초기화 하는 방법\n",
        "df.groupby('지점명')['최고기온'].agg(**{'최고기온':'max'}).reset_index()\n",
        "df.groupby('지점명').aggregate({'최고기온':'max'}).reset_index()"
      ]
    },
    {
      "cell_type": "markdown",
      "metadata": {
        "id": "pRi3hB_BZB2m"
      },
      "source": [
        "### [실습문제] : 지점별 년도별 최다 월합강수량?"
      ]
    },
    {
      "cell_type": "code",
      "execution_count": null,
      "metadata": {
        "scrolled": false,
        "id": "a4BY5qdyZB2m"
      },
      "outputs": [],
      "source": [
        "\n"
      ]
    },
    {
      "cell_type": "markdown",
      "metadata": {
        "id": "R4FqoQfxZB2m"
      },
      "source": [
        "### [실습문제]  OO 지역의 지점별+년도별 최고 최고기온, 최저 최저기온 ,최다 월합강수량, 최다 최심적실은?"
      ]
    },
    {
      "cell_type": "code",
      "execution_count": null,
      "metadata": {
        "id": "4uaB7mBcZB2m"
      },
      "outputs": [],
      "source": [
        "\n",
        "\n"
      ]
    },
    {
      "cell_type": "markdown",
      "metadata": {
        "id": "Ff6gVE-lZB2m"
      },
      "source": [
        "#### # DataFrame에서 한 행씩 불러오기\n",
        "!!![주의]!!! 데이터가 많을 경우 실행하지 않도록"
      ]
    },
    {
      "cell_type": "code",
      "execution_count": null,
      "metadata": {
        "id": "7MX1IeULZB2m"
      },
      "outputs": [],
      "source": [
        "# 한 행씩 불러오기  ---->\n",
        "# for i, row in df_t.iterrows():\n",
        "#     print(i, row)\n",
        "#     print(i, row['지점명'], row['최고기온'])"
      ]
    },
    {
      "cell_type": "markdown",
      "metadata": {
        "id": "qdyWkvPAZB2m"
      },
      "source": [
        "#### 6.가공된 파일 신규 저장하기"
      ]
    },
    {
      "cell_type": "code",
      "execution_count": null,
      "metadata": {
        "scrolled": true,
        "id": "GoZVj8xcZB2m"
      },
      "outputs": [],
      "source": [
        "# 가공된 데이터 신규 파일로 저장하기\n",
        "file = 'data/weather_data2.csv'\n",
        "df.to_csv(file, encoding='cp949', mode='w', index=True)"
      ]
    },
    {
      "cell_type": "markdown",
      "metadata": {
        "id": "DSgCT0E5ZB2m"
      },
      "source": [
        "--------------------------"
      ]
    },
    {
      "cell_type": "markdown",
      "metadata": {
        "id": "_GVFdTKzZB2m"
      },
      "source": [
        "## 3. 데이터 시각화하기"
      ]
    },
    {
      "cell_type": "markdown",
      "metadata": {
        "id": "zfUPiI6CZB2m"
      },
      "source": [
        "### [실습] : 지점별 평균기온 그래프"
      ]
    },
    {
      "cell_type": "code",
      "execution_count": null,
      "metadata": {
        "scrolled": true,
        "id": "QdI_xaLRZB2m"
      },
      "outputs": [],
      "source": [
        "import pandas as pd\n",
        "import matplotlib.pyplot as plt\n",
        "\n",
        "# 한글,그래프크기\n",
        "plt.rcParams['font.family'] = 'Malgun Gothic'\n",
        "plt.rcParams['figure.figsize'] = (10, 4)\n",
        "plt.rcParams['axes.unicode_minus']\n",
        "\n",
        "# 1.데이터 불러오기\n",
        "\n",
        "\n",
        "\n",
        "\n",
        "# 2.컬럼명 지정\n",
        "df.columns = ['지점', '지점명', '일시', '평균기온', '최고기온', '최저기온',\n",
        "              '평균현지기압','평균상대습도', '월합강수량', '평균풍',\n",
        "              '일조시간','최심적설']\n",
        "df['년도'] = df.일시.str[0:4]\n",
        "df.head(2)\n",
        "\n",
        "\n",
        "# 3.지점별 평균 구하기(지점 30개만 추출)\n",
        "df_mean =\n",
        "\n",
        "plt.plot(df_mean, '^', linestyle='solid', c='red', label='평균기온')\n",
        "plt.xticks(rotation=90)\n",
        "plt.title('종관관측 지점별 평균기온', fontsize=20)\n",
        "plt.xlabel('지점명'); plt.ylabel('평균기온');\n",
        "plt.legend(); plt.grid();\n",
        "plt.show()"
      ]
    },
    {
      "cell_type": "code",
      "execution_count": null,
      "metadata": {
        "id": "oNM02TUQZB2m"
      },
      "outputs": [],
      "source": [
        "import pandas as pd\n",
        "import matplotlib.pyplot as plt\n",
        "\n",
        "# 한글,그래프크기\n",
        "plt.rcParams['font.family'] = 'Malgun Gothic'\n",
        "plt.rcParams['figure.figsize'] = (10, 4)\n",
        "plt.rcParams['axes.unicode_minus'] = False\n",
        "\n",
        "# 1.데이터 불러오기\n",
        "file = 'data/weather_data.csv'\n",
        "df = pd.read_csv(file, encoding='CP949')\n",
        "\n",
        "# 2.컬럼명 지정\n",
        "df.columns = ['지점', '지점명', '일시', '평균기온', '최고기온', '최저기온',\n",
        "              '평균현지기압','평균상대습도', '월합강수량', '평균풍',\n",
        "              '일조시간','최심적설']\n",
        "df['년도'] = df.일시.str[0:4]\n",
        "df.head(2)\n",
        "\n",
        "# 3.전주지역 데이터만 추출\n",
        "df_junju =  df.query(\" 지점명 == '전주'\")\n",
        "df_junju = df_junju.groupby('년도').aggregate({'평균기온':'mean', '최고기온':'max', '최저기온':'min' })\n",
        "df_junju\n",
        "\n",
        "plt.plot(df_junju)\n",
        "plt.xticks(rotation=45)\n",
        "plt.show()"
      ]
    },
    {
      "cell_type": "markdown",
      "metadata": {
        "id": "3MnFDhO6ZB2m"
      },
      "source": [
        "### [실습문제] : '제주' 지점의 년도별 평균기온을  선 그래프로 나타내기"
      ]
    },
    {
      "cell_type": "code",
      "execution_count": null,
      "metadata": {
        "id": "yD5mx1HrZB2m"
      },
      "outputs": [],
      "source": [
        "import pandas as pd\n",
        "import matplotlib.pyplot as plt\n",
        "\n",
        "# 한글,그래프크기\n",
        "plt.rcParams['font.family'] = 'Malgun Gothic'\n",
        "plt.rcParams['figure.figsize'] = (10, 4)\n",
        "plt.rcParams['axes.unicode_minus']\n",
        "\n",
        "# 1.데이터 불러오기\n",
        "file = 'data/weather_data2.csv'\n",
        "df = pd.read_csv(file, encoding='CP949')\n",
        "df.drop(['Unnamed: 0'], axis=1, inplace=True)\n",
        "df\n",
        "\n",
        "\n",
        "# 2,지점별 연도별 그룹핑하기\n",
        "df2 = df.query(\" 지점명 == '제주' \")\n",
        "# df2 = df.query(\" 지점명 in ('고산','서귀포','성산','성산포','제주') \")\n",
        "df2 = df2.groupby(['지점명','년도']).aggregate({'평균기온':'mean'}).reset_index()\n",
        "\n",
        "X = df2.년도\n",
        "Y = df2.평균기온\n",
        "\n",
        "# 3.지점별 평균 구하기(지점 30개만 추출)\n",
        "plt.plot(X, Y, '^', linestyle='solid', c='r', label='평균기온')\n",
        "plt.title('제주 지점별 평균기온', fontsize=20)\n",
        "plt.xlabel('년도')\n",
        "plt.ylabel('평균기온')\n",
        "plt.xticks(rotation=90)\n",
        "plt.legend()\n",
        "plt.grid()\n",
        "plt.show()"
      ]
    },
    {
      "cell_type": "markdown",
      "metadata": {
        "id": "dygI7vfUZB2m"
      },
      "source": [
        "### [실습]: 제주의 평균기온, 최고기온, 최저기온 통계를 그래프로 나타내기"
      ]
    },
    {
      "cell_type": "code",
      "execution_count": null,
      "metadata": {
        "scrolled": true,
        "id": "Z7_24YNHZB2m"
      },
      "outputs": [],
      "source": [
        "# 2. '제주'지점 년도별 기온 데이터 추출하기(년도 30개만)\n",
        "plt.rcParams['figure.figsize'] = (12, 6)\n",
        "plt.rcParams['axes.unicode_minus'] = False\n",
        "\n",
        "data = df.query(\" 지점명 == '제주' \")\n",
        "data1 = data.groupby('년도').평균기온.agg(**{'평균기온':'mean'})\n",
        "data2 = data.groupby('년도').최고기온.agg(**{'최고기온':'max'})\n",
        "data3 = data.groupby('년도').최저기온.agg(**{'최저기온':'min'})\n",
        "\n",
        "# 3. 그래프로 시각화하기\n",
        "plt.plot(data1, 'o', linestyle='solid', c='r', label='평균기온')\n",
        "plt.plot(data2, '^', linestyle='solid', c='g', label='최고기온')\n",
        "plt.plot(data3, 'v', linestyle='solid', c='b', label='최저기온')\n",
        "plt.title(\"'제주'지점 년도별 기온 통계\", fontsize=15) #제목\n",
        "plt.xlabel('년도')     # x축 레이블\n",
        "plt.ylabel('기온')     # y축 레이블\n",
        "plt.legend()           #범례,기본 위치 : loc='upper left'\n",
        "plt.xticks(rotation=45)  # x축 레이블 기울이기\n",
        "plt.grid()               # 격자 표시\n",
        "\n",
        "plt.show()\n"
      ]
    },
    {
      "cell_type": "code",
      "execution_count": null,
      "metadata": {
        "id": "eiEv9NQVZB2m"
      },
      "outputs": [],
      "source": [
        "# 2. '제주'지점 년도별 기온 데이터 추출하기(년도 30개만)\n",
        "plt.rcParams['axes.unicode_minus'] = False\n",
        "\n",
        "data = df.query(\" 지점명 == '제주' \")\n",
        "data1 = data.groupby('년도')['평균기온'].agg(**{'평균기온':'mean'}).reset_index()\n",
        "data2 = data.groupby('년도')['최고기온'].agg(**{'최고기온':'max'}).reset_index()\n",
        "\n",
        "# 3. 그래프로 시각화하기\n",
        "X = data1['년도']\n",
        "Y1 = data1['평균기온']\n",
        "Y2 = data2['최고기온']\n",
        "plt.bar(X, Y1, label='평균기온')\n",
        "plt.plot(X, Y2, 'o', linestyle='solid', c='r', label='최고기온')\n",
        "plt.title(\"'제주'지점 년도별 기온 통계\", fontsize=15) #제목\n",
        "plt.xlabel('년도')        # x축 레이블\n",
        "plt.ylabel('기온')        # y축 레이블\n",
        "plt.legend()             #범례,기본 위치 : loc='upper left'\n",
        "plt.xticks(rotation=45)  # x축 레이블 기울이기\n",
        "\n",
        "plt.grid()               # 격자 표시\n",
        "\n",
        "plt.show()"
      ]
    },
    {
      "cell_type": "markdown",
      "metadata": {
        "id": "iDzbM4DFZB2n"
      },
      "source": [
        "### [실습]: 제주의 최고기온(선그래프),평균기온(막대그래프)을 혼합 그래프로 나타내기"
      ]
    },
    {
      "cell_type": "code",
      "execution_count": null,
      "metadata": {
        "scrolled": true,
        "id": "pfQ851OAZB2n"
      },
      "outputs": [],
      "source": [
        "# 3. 그래프로 시각화하기\n",
        "plt.figure(figsize=(20,5))\n",
        "plt.title('제주 기온 통계', fontsize=15)         #제목\n",
        "plt.legend(['최고기온','평균기온']) #범례,기본 위치 : loc='upper left'\n",
        "plt.xlabel('년도')                 # x축 레이블\n",
        "plt.ylabel('기온')                 # y축 레이블\n",
        "plt.xticks(rotation=45)           # x축 레이블 기울이기\n",
        "plt.grid()                        # 격자 표시\n",
        "\n",
        "plt.bar(X, Y1)  # 막대 그래프\n",
        "plt.plot(X, Y2, 'o', linestyle='solid', c='r')  # 선그래프\n",
        "plt.show()\n"
      ]
    },
    {
      "cell_type": "markdown",
      "metadata": {
        "id": "n2eaVLJ_ZB2n"
      },
      "source": [
        "### [실습] : 2중 축 그래프 그리기 :  평균상대습도 & 월합강수량"
      ]
    },
    {
      "cell_type": "code",
      "execution_count": null,
      "metadata": {
        "scrolled": true,
        "id": "lLfbJFv0ZB2n"
      },
      "outputs": [],
      "source": [
        "# 2.'제주'지점의 평균상대습도 & 일최다강수량 센터수\n",
        "data = df.groupby(['지점명','년도'])['평균상대습도'].agg(**{'평균상대습도':'mean'}).reset_index()\n",
        "data = data.query(\" 지점명 == '제주' \")\n",
        "X  = data['년도']\n",
        "Y1 = data['평균상대습도']\n",
        "\n",
        "data = df.groupby(['지점명','년도'])['월합강수량'].agg(**{'월합강수량':'mean'}).reset_index()\n",
        "data = data.query(\" 지점명 == '제주' \")\n",
        "Y2 = data['월합강수량']\n",
        "# print(Y2)\n",
        "\n",
        "\n",
        "# 3. 그래프로 시각화하기\n",
        "plt.rcParams['figure.figsize'] = (10, 5)   # 그래프 크기\n",
        "\n",
        "fig, ax1 = plt.subplots()\n",
        "plt.suptitle('평균상대습도 & 월합강수량',fontsize=15)\n",
        "ax1.plot(X, Y1, color='green')     # 평균상대습도 (왼쪽)\n",
        "ax1.set_ylabel('평균상대습도', color = 'green', rotation = 90)\n",
        "ax2 = ax1.twinx()\n",
        "ax2.plot(X, Y2, color='deeppink')  # 월합강수량 (오른쪽)\n",
        "ax2.set_ylabel('월합강수량', color = 'deeppink', rotation = 270)\n",
        "\n",
        "fig.autofmt_xdate(rotation=45)  #X축 레이블 기울이기\n",
        "\n",
        "plt.savefig('image/graph.png')\n",
        "\n",
        "plt.show()"
      ]
    },
    {
      "cell_type": "markdown",
      "metadata": {
        "id": "ocOjJcSAZB2n"
      },
      "source": [
        "-------"
      ]
    },
    {
      "cell_type": "markdown",
      "metadata": {
        "id": "qalqYGrNZB2n"
      },
      "source": [
        "---------"
      ]
    },
    {
      "cell_type": "markdown",
      "metadata": {
        "id": "qjSJkgkuZB2n"
      },
      "source": [
        "끝!"
      ]
    }
  ],
  "metadata": {
    "kernelspec": {
      "display_name": "Python 3 (ipykernel)",
      "language": "python",
      "name": "python3"
    },
    "language_info": {
      "codemirror_mode": {
        "name": "ipython",
        "version": 3
      },
      "file_extension": ".py",
      "mimetype": "text/x-python",
      "name": "python",
      "nbconvert_exporter": "python",
      "pygments_lexer": "ipython3",
      "version": "3.10.9"
    },
    "colab": {
      "provenance": [],
      "include_colab_link": true
    }
  },
  "nbformat": 4,
  "nbformat_minor": 0
}