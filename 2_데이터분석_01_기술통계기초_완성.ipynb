{
  "cells": [
    {
      "cell_type": "markdown",
      "metadata": {
        "id": "view-in-github",
        "colab_type": "text"
      },
      "source": [
        "<a href=\"https://colab.research.google.com/github/susuusub/projectmanager/blob/main/2_%EB%8D%B0%EC%9D%B4%ED%84%B0%EB%B6%84%EC%84%9D_01_%EA%B8%B0%EC%88%A0%ED%86%B5%EA%B3%84%EA%B8%B0%EC%B4%88_%EC%99%84%EC%84%B1.ipynb\" target=\"_parent\"><img src=\"https://colab.research.google.com/assets/colab-badge.svg\" alt=\"Open In Colab\"/></a>"
      ]
    },
    {
      "cell_type": "markdown",
      "id": "d019c073",
      "metadata": {
        "id": "d019c073"
      },
      "source": [
        "# 데이터 분석\n",
        "\n",
        "## 1. 기술통계기초"
      ]
    },
    {
      "cell_type": "markdown",
      "id": "0c52a67e",
      "metadata": {
        "id": "0c52a67e"
      },
      "source": [
        "----------------------------------"
      ]
    },
    {
      "cell_type": "markdown",
      "id": "89e2259e",
      "metadata": {
        "id": "89e2259e"
      },
      "source": [
        "### 라이브러리 설치하기"
      ]
    },
    {
      "cell_type": "code",
      "execution_count": 1,
      "id": "7d9a2eb3",
      "metadata": {
        "colab": {
          "base_uri": "https://localhost:8080/"
        },
        "id": "7d9a2eb3",
        "outputId": "caa083b2-9dce-41ff-981b-42624eb97ea3"
      },
      "outputs": [
        {
          "output_type": "stream",
          "name": "stdout",
          "text": [
            "Requirement already satisfied: scipy in /usr/local/lib/python3.10/dist-packages (1.10.1)\n",
            "Requirement already satisfied: numpy<1.27.0,>=1.19.5 in /usr/local/lib/python3.10/dist-packages (from scipy) (1.23.5)\n"
          ]
        }
      ],
      "source": [
        "# SciPy는 과학, 수학, 엔지니어링 등에 사용되는 고급 계산 기능을 제공 라이브러리\n",
        "!pip install scipy"
      ]
    },
    {
      "cell_type": "code",
      "execution_count": 2,
      "id": "1a9009d1",
      "metadata": {
        "colab": {
          "base_uri": "https://localhost:8080/"
        },
        "id": "1a9009d1",
        "outputId": "78e8df13-d0c3-47ff-df3d-ae5f24151e21"
      },
      "outputs": [
        {
          "output_type": "stream",
          "name": "stdout",
          "text": [
            "Requirement already satisfied: numpy in /usr/local/lib/python3.10/dist-packages (1.23.5)\n"
          ]
        }
      ],
      "source": [
        "# 수치 데이터 분석 라이브러리\n",
        "!pip install numpy"
      ]
    },
    {
      "cell_type": "code",
      "execution_count": 3,
      "id": "a63d87de",
      "metadata": {
        "colab": {
          "base_uri": "https://localhost:8080/"
        },
        "id": "a63d87de",
        "outputId": "4206284a-ea1e-460e-b5f5-df7d10405eb7"
      },
      "outputs": [
        {
          "output_type": "stream",
          "name": "stdout",
          "text": [
            "Requirement already satisfied: pandas in /usr/local/lib/python3.10/dist-packages (1.5.3)\n",
            "Requirement already satisfied: python-dateutil>=2.8.1 in /usr/local/lib/python3.10/dist-packages (from pandas) (2.8.2)\n",
            "Requirement already satisfied: pytz>=2020.1 in /usr/local/lib/python3.10/dist-packages (from pandas) (2023.3)\n",
            "Requirement already satisfied: numpy>=1.21.0 in /usr/local/lib/python3.10/dist-packages (from pandas) (1.23.5)\n",
            "Requirement already satisfied: six>=1.5 in /usr/local/lib/python3.10/dist-packages (from python-dateutil>=2.8.1->pandas) (1.16.0)\n"
          ]
        }
      ],
      "source": [
        "# 데이터를 표 형태로 보여주는 데이터 분석 라이브러리\n",
        "!pip install pandas"
      ]
    },
    {
      "cell_type": "code",
      "execution_count": 4,
      "id": "ea109e26",
      "metadata": {
        "colab": {
          "base_uri": "https://localhost:8080/"
        },
        "id": "ea109e26",
        "outputId": "a8a9e518-8691-46ef-e144-fe3dcf157b4b",
        "scrolled": true
      },
      "outputs": [
        {
          "output_type": "stream",
          "name": "stdout",
          "text": [
            "Requirement already satisfied: matplotlib in /usr/local/lib/python3.10/dist-packages (3.7.1)\n",
            "Requirement already satisfied: contourpy>=1.0.1 in /usr/local/lib/python3.10/dist-packages (from matplotlib) (1.1.0)\n",
            "Requirement already satisfied: cycler>=0.10 in /usr/local/lib/python3.10/dist-packages (from matplotlib) (0.11.0)\n",
            "Requirement already satisfied: fonttools>=4.22.0 in /usr/local/lib/python3.10/dist-packages (from matplotlib) (4.42.0)\n",
            "Requirement already satisfied: kiwisolver>=1.0.1 in /usr/local/lib/python3.10/dist-packages (from matplotlib) (1.4.4)\n",
            "Requirement already satisfied: numpy>=1.20 in /usr/local/lib/python3.10/dist-packages (from matplotlib) (1.23.5)\n",
            "Requirement already satisfied: packaging>=20.0 in /usr/local/lib/python3.10/dist-packages (from matplotlib) (23.1)\n",
            "Requirement already satisfied: pillow>=6.2.0 in /usr/local/lib/python3.10/dist-packages (from matplotlib) (9.4.0)\n",
            "Requirement already satisfied: pyparsing>=2.3.1 in /usr/local/lib/python3.10/dist-packages (from matplotlib) (3.1.1)\n",
            "Requirement already satisfied: python-dateutil>=2.7 in /usr/local/lib/python3.10/dist-packages (from matplotlib) (2.8.2)\n",
            "Requirement already satisfied: six>=1.5 in /usr/local/lib/python3.10/dist-packages (from python-dateutil>=2.7->matplotlib) (1.16.0)\n"
          ]
        }
      ],
      "source": [
        "# 데이터를 다양한 그래프로 보여주는 시각화 라이브러리\n",
        "!pip install matplotlib"
      ]
    },
    {
      "cell_type": "code",
      "execution_count": 5,
      "id": "69b70be7",
      "metadata": {
        "colab": {
          "base_uri": "https://localhost:8080/"
        },
        "id": "69b70be7",
        "outputId": "c1d80db8-e215-4596-b6c0-4baf53080625"
      },
      "outputs": [
        {
          "output_type": "stream",
          "name": "stdout",
          "text": [
            "Requirement already satisfied: seaborn in /usr/local/lib/python3.10/dist-packages (0.12.2)\n",
            "Requirement already satisfied: numpy!=1.24.0,>=1.17 in /usr/local/lib/python3.10/dist-packages (from seaborn) (1.23.5)\n",
            "Requirement already satisfied: pandas>=0.25 in /usr/local/lib/python3.10/dist-packages (from seaborn) (1.5.3)\n",
            "Requirement already satisfied: matplotlib!=3.6.1,>=3.1 in /usr/local/lib/python3.10/dist-packages (from seaborn) (3.7.1)\n",
            "Requirement already satisfied: contourpy>=1.0.1 in /usr/local/lib/python3.10/dist-packages (from matplotlib!=3.6.1,>=3.1->seaborn) (1.1.0)\n",
            "Requirement already satisfied: cycler>=0.10 in /usr/local/lib/python3.10/dist-packages (from matplotlib!=3.6.1,>=3.1->seaborn) (0.11.0)\n",
            "Requirement already satisfied: fonttools>=4.22.0 in /usr/local/lib/python3.10/dist-packages (from matplotlib!=3.6.1,>=3.1->seaborn) (4.42.0)\n",
            "Requirement already satisfied: kiwisolver>=1.0.1 in /usr/local/lib/python3.10/dist-packages (from matplotlib!=3.6.1,>=3.1->seaborn) (1.4.4)\n",
            "Requirement already satisfied: packaging>=20.0 in /usr/local/lib/python3.10/dist-packages (from matplotlib!=3.6.1,>=3.1->seaborn) (23.1)\n",
            "Requirement already satisfied: pillow>=6.2.0 in /usr/local/lib/python3.10/dist-packages (from matplotlib!=3.6.1,>=3.1->seaborn) (9.4.0)\n",
            "Requirement already satisfied: pyparsing>=2.3.1 in /usr/local/lib/python3.10/dist-packages (from matplotlib!=3.6.1,>=3.1->seaborn) (3.1.1)\n",
            "Requirement already satisfied: python-dateutil>=2.7 in /usr/local/lib/python3.10/dist-packages (from matplotlib!=3.6.1,>=3.1->seaborn) (2.8.2)\n",
            "Requirement already satisfied: pytz>=2020.1 in /usr/local/lib/python3.10/dist-packages (from pandas>=0.25->seaborn) (2023.3)\n",
            "Requirement already satisfied: six>=1.5 in /usr/local/lib/python3.10/dist-packages (from python-dateutil>=2.7->matplotlib!=3.6.1,>=3.1->seaborn) (1.16.0)\n"
          ]
        }
      ],
      "source": [
        "# 통계 그래프 시각화 라이브러리\n",
        "!pip install seaborn"
      ]
    },
    {
      "cell_type": "code",
      "execution_count": 6,
      "id": "c2fb69b6",
      "metadata": {
        "scrolled": true,
        "colab": {
          "base_uri": "https://localhost:8080/"
        },
        "id": "c2fb69b6",
        "outputId": "9ad6ece5-4fb2-4e70-f731-5256049245b3"
      },
      "outputs": [
        {
          "output_type": "stream",
          "name": "stdout",
          "text": [
            "Requirement already satisfied: statsmodels in /usr/local/lib/python3.10/dist-packages (0.14.0)\n",
            "Requirement already satisfied: numpy>=1.18 in /usr/local/lib/python3.10/dist-packages (from statsmodels) (1.23.5)\n",
            "Requirement already satisfied: scipy!=1.9.2,>=1.4 in /usr/local/lib/python3.10/dist-packages (from statsmodels) (1.10.1)\n",
            "Requirement already satisfied: pandas>=1.0 in /usr/local/lib/python3.10/dist-packages (from statsmodels) (1.5.3)\n",
            "Requirement already satisfied: patsy>=0.5.2 in /usr/local/lib/python3.10/dist-packages (from statsmodels) (0.5.3)\n",
            "Requirement already satisfied: packaging>=21.3 in /usr/local/lib/python3.10/dist-packages (from statsmodels) (23.1)\n",
            "Requirement already satisfied: python-dateutil>=2.8.1 in /usr/local/lib/python3.10/dist-packages (from pandas>=1.0->statsmodels) (2.8.2)\n",
            "Requirement already satisfied: pytz>=2020.1 in /usr/local/lib/python3.10/dist-packages (from pandas>=1.0->statsmodels) (2023.3)\n",
            "Requirement already satisfied: six in /usr/local/lib/python3.10/dist-packages (from patsy>=0.5.2->statsmodels) (1.16.0)\n"
          ]
        }
      ],
      "source": [
        "# 통계 모델 라이브러리\n",
        "!pip install statsmodels"
      ]
    },
    {
      "cell_type": "code",
      "execution_count": 10,
      "id": "19ea0f8e",
      "metadata": {
        "colab": {
          "base_uri": "https://localhost:8080/"
        },
        "id": "19ea0f8e",
        "outputId": "6bce0adc-ba1b-4c11-dd80-42d9a0eda6b3"
      },
      "outputs": [
        {
          "output_type": "stream",
          "name": "stdout",
          "text": [
            "Collecting sklearn\n",
            "  Using cached sklearn-0.0.post7.tar.gz (3.6 kB)\n",
            "  Preparing metadata (setup.py) ... \u001b[?25l\u001b[?25hdone\n",
            "Building wheels for collected packages: sklearn\n",
            "  Building wheel for sklearn (setup.py) ... \u001b[?25l\u001b[?25hdone\n",
            "  Created wheel for sklearn: filename=sklearn-0.0.post7-py3-none-any.whl size=2951 sha256=1eb260b2612f0c5259ccce82af36e8a29148de01219e05f0c03d784c08b4c69e\n",
            "  Stored in directory: /root/.cache/pip/wheels/c8/9c/85/72901eb50bc4bc6e3b2629378d172384ea3dfd19759c77fd2c\n",
            "Successfully built sklearn\n",
            "Installing collected packages: sklearn\n",
            "Successfully installed sklearn-0.0.post7\n"
          ]
        }
      ],
      "source": [
        "# 머신러닝 라이브러리(사이킷런)\n",
        "!pip install sklearn"
      ]
    },
    {
      "cell_type": "code",
      "execution_count": 8,
      "id": "7e86e68f",
      "metadata": {
        "colab": {
          "base_uri": "https://localhost:8080/"
        },
        "id": "7e86e68f",
        "outputId": "b35adb62-93f6-49db-d7a6-0be10a2f0c8f"
      },
      "outputs": [
        {
          "output_type": "stream",
          "name": "stdout",
          "text": [
            "Requirement already satisfied: openpyxl in /usr/local/lib/python3.10/dist-packages (3.1.2)\n",
            "Requirement already satisfied: et-xmlfile in /usr/local/lib/python3.10/dist-packages (from openpyxl) (1.1.0)\n"
          ]
        }
      ],
      "source": [
        "# 엑셀 시트 사용을 위한 라이브러리\n",
        "!pip install openpyxl"
      ]
    },
    {
      "cell_type": "markdown",
      "id": "1e01e87e",
      "metadata": {
        "id": "1e01e87e"
      },
      "source": [
        "----------"
      ]
    },
    {
      "cell_type": "markdown",
      "id": "1ab82cff",
      "metadata": {
        "id": "1ab82cff"
      },
      "source": [
        "### 라이브러리 설치 확인하기\n",
        "아래 코드를 실행한 후 오류 메시지가 없으면 성공적으로 설치된 것입니다."
      ]
    },
    {
      "cell_type": "code",
      "execution_count": 11,
      "id": "06fd45bd",
      "metadata": {
        "colab": {
          "base_uri": "https://localhost:8080/",
          "height": 35
        },
        "id": "06fd45bd",
        "outputId": "06db23b9-330b-4336-a42f-54cccfe6523e"
      },
      "outputs": [
        {
          "output_type": "execute_result",
          "data": {
            "text/plain": [
              "'1.10.1'"
            ],
            "application/vnd.google.colaboratory.intrinsic+json": {
              "type": "string"
            }
          },
          "metadata": {},
          "execution_count": 11
        }
      ],
      "source": [
        "import scipy as sp\n",
        "sp.__version__"
      ]
    },
    {
      "cell_type": "code",
      "execution_count": 12,
      "id": "6786b404",
      "metadata": {
        "colab": {
          "base_uri": "https://localhost:8080/",
          "height": 35
        },
        "id": "6786b404",
        "outputId": "e0471b40-06e2-4117-b1c9-8e4cce7d1f3e",
        "scrolled": true
      },
      "outputs": [
        {
          "output_type": "execute_result",
          "data": {
            "text/plain": [
              "'1.23.5'"
            ],
            "application/vnd.google.colaboratory.intrinsic+json": {
              "type": "string"
            }
          },
          "metadata": {},
          "execution_count": 12
        }
      ],
      "source": [
        "import numpy as np\n",
        "np.__version__"
      ]
    },
    {
      "cell_type": "code",
      "execution_count": 13,
      "id": "59557988",
      "metadata": {
        "colab": {
          "base_uri": "https://localhost:8080/",
          "height": 35
        },
        "id": "59557988",
        "outputId": "4ffefeb1-208e-470e-b6ab-056182fc71de"
      },
      "outputs": [
        {
          "output_type": "execute_result",
          "data": {
            "text/plain": [
              "'1.5.3'"
            ],
            "application/vnd.google.colaboratory.intrinsic+json": {
              "type": "string"
            }
          },
          "metadata": {},
          "execution_count": 13
        }
      ],
      "source": [
        "import pandas  as pd\n",
        "pd.__version__"
      ]
    },
    {
      "cell_type": "code",
      "execution_count": 14,
      "id": "e4d9be5b",
      "metadata": {
        "colab": {
          "base_uri": "https://localhost:8080/",
          "height": 35
        },
        "id": "e4d9be5b",
        "outputId": "42eeeff6-ca19-46e0-e044-8e75c8bcd9ca"
      },
      "outputs": [
        {
          "output_type": "execute_result",
          "data": {
            "text/plain": [
              "'3.7.1'"
            ],
            "application/vnd.google.colaboratory.intrinsic+json": {
              "type": "string"
            }
          },
          "metadata": {},
          "execution_count": 14
        }
      ],
      "source": [
        "import matplotlib as plt\n",
        "plt.__version__"
      ]
    },
    {
      "cell_type": "code",
      "execution_count": 15,
      "id": "6cd4f004",
      "metadata": {
        "colab": {
          "base_uri": "https://localhost:8080/",
          "height": 35
        },
        "id": "6cd4f004",
        "outputId": "f7452c98-f3ce-4874-b0a2-bb01d9359240"
      },
      "outputs": [
        {
          "output_type": "execute_result",
          "data": {
            "text/plain": [
              "'0.12.2'"
            ],
            "application/vnd.google.colaboratory.intrinsic+json": {
              "type": "string"
            }
          },
          "metadata": {},
          "execution_count": 15
        }
      ],
      "source": [
        "import seaborn as sns\n",
        "sns.__version__"
      ]
    },
    {
      "cell_type": "markdown",
      "id": "3dae5378",
      "metadata": {
        "id": "3dae5378"
      },
      "source": [
        "---------------------------------------------"
      ]
    },
    {
      "cell_type": "markdown",
      "id": "1faaf002",
      "metadata": {
        "id": "1faaf002"
      },
      "source": [
        "### [실습] Scipy 라이브러리로 이항분포 구현하기"
      ]
    },
    {
      "cell_type": "code",
      "execution_count": null,
      "id": "2ec3a08f",
      "metadata": {
        "id": "2ec3a08f"
      },
      "outputs": [],
      "source": [
        "#scipy패키지의 special모듈에 있는 comb함수 사용\n",
        "import numpy as np\n",
        "from scipy.special import comb\n",
        "\n",
        "def Bin(n, p):\n",
        "    x_set = np.arange(n+1)\n",
        "\n",
        "    def f(x):\n",
        "        if x in x_set:\n",
        "            return comb(n,x) * p**x * (1-p)**(n-x)\n",
        "        else:\n",
        "            return 0\n",
        "\n",
        "    return x_set, f\n",
        "\n",
        "n, p = 10, 5/4\n",
        "X = Bin(n, p)\n",
        "X"
      ]
    },
    {
      "cell_type": "code",
      "execution_count": null,
      "id": "e7e3b05a",
      "metadata": {
        "scrolled": true,
        "id": "e7e3b05a"
      },
      "outputs": [],
      "source": [
        "import scipy as sp\n",
        "import scipy.stats\n",
        "import matplotlib.pyplot as plt\n",
        "\n",
        "plt.rcParams['figure.figsize'] = (5,3)\n",
        "plt.rcParams['font.family'] = 'Malgun Gothic'  # '맑은 고딕'으로 설정\n",
        "plt.rcParams['axes.unicode_minus'] = False     # 그래프에서 (-)숫자표시\n",
        "\n",
        "n = 5\n",
        "mu = 0.25\n",
        "rv = sp.stats.binom(n, mu)\n",
        "\n",
        "xx = np.arange(n)\n",
        "plt.bar(xx, rv.pmf(xx), align='center')\n",
        "plt.xlabel('표본값')\n",
        "plt.ylabel('$P(x)$')\n",
        "plt.title('이항분포의 확률질량함수')\n",
        "plt.grid()\n",
        "plt.show()"
      ]
    },
    {
      "cell_type": "markdown",
      "id": "abfe31f9",
      "metadata": {
        "id": "abfe31f9"
      },
      "source": [
        "### [실습] Scipy 라이브러리로 다항분포 구현하기"
      ]
    },
    {
      "cell_type": "code",
      "execution_count": null,
      "id": "ee66de7b",
      "metadata": {
        "scrolled": true,
        "id": "ee66de7b"
      },
      "outputs": [],
      "source": [
        "# 주사위를 N번 던져 각 면이 나오는 횟수 집합의 분포\n",
        "N = 100\n",
        "mu = [1/6, 1/6, 1/6, 1/6, 1/6, 1/6]\n",
        "rv = sp.stats.multinomial(N, mu) # 다항분포\n",
        "\n",
        "np.random.seed(10)\n",
        "X = rv.rvs(100)\n",
        "print(X[:6])  # 6개만 보여주기\n",
        "\n",
        "plt.boxplot(X)\n",
        "plt.xlabel('클래스')\n",
        "plt.ylabel('표본값')\n",
        "plt.title('다항분포의 시뮬레이션 결과')\n",
        "plt.grid()\n",
        "plt.show()"
      ]
    },
    {
      "cell_type": "markdown",
      "id": "46ee9996",
      "metadata": {
        "id": "46ee9996"
      },
      "source": [
        "### [실습] 이항분포 N(표본)을 늘리면 정규분포화 된다."
      ]
    },
    {
      "cell_type": "code",
      "execution_count": null,
      "id": "bb88b516",
      "metadata": {
        "scrolled": true,
        "id": "bb88b516"
      },
      "outputs": [],
      "source": [
        "import numpy as np\n",
        "import matplotlib.pyplot as plt\n",
        "from scipy import stats, integrate\n",
        "\n",
        "# 기대값:평균\n",
        "def E(X, g=lambda x:x):\n",
        "    x_range, f = X\n",
        "\n",
        "    def integrand(x):\n",
        "        return g(x) * f(x)\n",
        "\n",
        "    return integrate.quad(integrand, -np.inf, np.inf)[0]\n",
        "\n",
        "# 확률\n",
        "def get_prob(X, a, b):\n",
        "    x_range, f = X\n",
        "\n",
        "    prob_sum = np.round(integrate.quad(f, a, b), 4)\n",
        "\n",
        "    print(f'확률: {prob_sum[0]}')\n",
        "\n",
        "\n",
        "def plot_prob_bi(X):\n",
        "    x_set, f = X\n",
        "    prob = np.array([ f(x_k) for x_k in x_set])\n",
        "\n",
        "    fig = plt.figure(figsize=(10,6))\n",
        "    ax  = fig.add_subplot(111) # (1,1,1)\n",
        "\n",
        "    ax.bar(x_set, prob, label='prob')\n",
        "    ax.set_xticks(np.append(x_set, E(X)))   #x축의 값 출력\n",
        "    ax.set_ylim(0, prob.max()*1.2)          #y축의 한계 지정\n",
        "    ax.legend()\n",
        "\n",
        "    plt.show()\n",
        "\n",
        "n = 100    # n의 개수를 크게 해보기 --> 그래프가 종모양으로 변경됨\n",
        "p = 0.25   # 0.3, 0.5, 0.7 변경해보기\n",
        "X = Bin(n,p)   # 이항분포에서  n의 개수를 늘리면?\n",
        "plot_prob_bi(X)"
      ]
    },
    {
      "cell_type": "markdown",
      "id": "22c92842",
      "metadata": {
        "id": "22c92842"
      },
      "source": [
        "### [실습] Scipy 라이브러리로 정규분포 구현하기"
      ]
    },
    {
      "cell_type": "code",
      "execution_count": null,
      "id": "0e62c132",
      "metadata": {
        "scrolled": true,
        "id": "0e62c132"
      },
      "outputs": [],
      "source": [
        "import scipy as sp\n",
        "import seaborn as sns\n",
        "\n",
        "# 워닝 메시지 안나오게 하는 방법\n",
        "import warnings\n",
        "warnings.filterwarnings('ignore')\n",
        "\n",
        "np.random.seed(0)   # 랜덤 초기\n",
        "mu, std = 0, 1      # 평균, 표준편차\n",
        "rv = sp.stats.norm(mu, std)     #  정규분포\n",
        "X = rv.rvs(1000)                #  표본 반영\n",
        "# print(x)\n",
        "\n",
        "sns.distplot(X, rug=True, kde=False, fit=sp.stats.norm)\n",
        "plt.title('랜덤 표본 생성 결과')\n",
        "plt.xlabel('표본값')\n",
        "plt.ylabel('$P(x)$')\n",
        "plt.grid()\n",
        "plt.show()"
      ]
    },
    {
      "cell_type": "markdown",
      "id": "142dba18",
      "metadata": {
        "id": "142dba18"
      },
      "source": [
        "### [실습] 정규분포를 이용한 확률 구하기\n",
        "남자 고등학생 키의 평균이 170cm이고 표준편차가 5cm라면, 우연히 만난 남자 고등학생의 키는 N(170, 5^2)를 따른 다고 할 수 있다. 이 사실을 바탕으로 우연히 만난 남자 고등학생의 키가 165cm이상 175cm 이하일 확률은?"
      ]
    },
    {
      "cell_type": "code",
      "execution_count": null,
      "id": "07687afb",
      "metadata": {
        "id": "07687afb"
      },
      "outputs": [],
      "source": [
        "import numpy as np\n",
        "import matplotlib.pyplot as plt\n",
        "from scipy import stats, integrate\n",
        "\n",
        "# 확률\n",
        "def get_prob(X, a, b):\n",
        "    x_range, f = X\n",
        "\n",
        "    prob_sum = np.round(integrate.quad(f, a, b), 4)\n",
        "\n",
        "    print(f'확률: {prob_sum[0]}')\n",
        "\n",
        "#𝑍 ~ N(0,1) 정규화를 따른 정규분포\n",
        "def N(mu, sigma):\n",
        "    x_range = [-np.inf, np.inf]\n",
        "    def f(x):\n",
        "        return 1 / np.sqrt(2 * np.pi * sigma**2) *\\\n",
        "                    np.exp(-(x-mu)**2 / (2 * sigma**2))\n",
        "    return x_range, f\n",
        "\n",
        "mu, sigma = 170, 5\n",
        "X = N(mu, sigma)\n",
        "\n",
        "a, b = 165, 175\n",
        "get_prob(X, a, b)"
      ]
    },
    {
      "cell_type": "markdown",
      "id": "48a44588",
      "metadata": {
        "id": "48a44588"
      },
      "source": [
        "-----------------"
      ]
    },
    {
      "cell_type": "markdown",
      "id": "5aac1a65",
      "metadata": {
        "id": "5aac1a65"
      },
      "source": [
        "## 2.Numpy를 이용한 기술통계"
      ]
    },
    {
      "cell_type": "markdown",
      "id": "c849e3b9",
      "metadata": {
        "id": "c849e3b9"
      },
      "source": [
        "numpy는 아래와 같은 데이터 집합에 대해 간단한 통계를 계산하는 함수(통계량)를 제공한다.\n",
        "\n",
        "- 데이터의 개수(count)\n",
        " - 최댓값(maximum) : 데이터 중에서 가장 큰 값\n",
        " - 최솟값(minimum) : 데이터 중에서 가장 작은 값\n",
        "\n",
        "\n",
        "### 대표값\n",
        "데이터 분포의 중심 위치\n",
        " - 평균(mean, average): 평균을 통계용어->표본 평균(sample average, sample mean)\n",
        " - 중앙값(median) : 데이터를 크기대로 정렬하였을 때 가장 가운데에 있는 수\n",
        " - 최빈값(mode):\n",
        "\n",
        "### 산포도\n",
        "중심으로부터 데이터가 흩어져 있는 정도(변이도)를 수치적으로 측정\n",
        " - 분산(variance): 표본 분산, 데이터와 표본 평균간의 거리의 제곱의 평균, 표본 분산이 작으면 데이터가 모여있는 것이고 크면 흩어져 있는 것\n",
        " - 표준편차(standard deviation) : 표본 분산의 양의 제곱근 값\n",
        " - 사분위수(quartile) : 데이터를 가장 작은 수부터 가장 큰 수까지 크기가 커지는 순서대로 정렬하였을 때 1/4, 2/4, 3/4 위치에 있는 수\n",
        " - 변동계수(coefficient of variation): 두 집단 비교\n",
        " - 왜도(skewness) : 분포의 대칭이나 비대칭의 정도를 표시하는 척도\n",
        " - 첨도(kurtosis) : 뽀족함의 정도를 나타내는 척도"
      ]
    },
    {
      "cell_type": "code",
      "execution_count": null,
      "id": "5b164d18",
      "metadata": {
        "scrolled": false,
        "id": "5b164d18"
      },
      "outputs": [],
      "source": [
        "import numpy as np\n",
        "\n",
        "x = np.array([18,5,10,23,19,-8,10,0,0,5,2,15,8,2,5,4,15,-1,4,-7,-24,7,9,-6,23,-13])\n",
        "print(x)"
      ]
    },
    {
      "cell_type": "markdown",
      "id": "a0497239",
      "metadata": {
        "id": "a0497239"
      },
      "source": [
        "### - 길이/개수(len)"
      ]
    },
    {
      "cell_type": "code",
      "execution_count": null,
      "id": "04c6c5c7",
      "metadata": {
        "id": "04c6c5c7"
      },
      "outputs": [],
      "source": [
        "print( len(x) )"
      ]
    },
    {
      "cell_type": "markdown",
      "id": "f34a4f31",
      "metadata": {
        "id": "f34a4f31"
      },
      "source": [
        "### - 최대값(maximum)"
      ]
    },
    {
      "cell_type": "code",
      "execution_count": null,
      "id": "d370743e",
      "metadata": {
        "id": "d370743e"
      },
      "outputs": [],
      "source": [
        "print( np.max(x) )"
      ]
    },
    {
      "cell_type": "markdown",
      "id": "115b1276",
      "metadata": {
        "id": "115b1276"
      },
      "source": [
        "### - 최솟값(minimum)"
      ]
    },
    {
      "cell_type": "code",
      "execution_count": null,
      "id": "47eb2bc6",
      "metadata": {
        "id": "47eb2bc6"
      },
      "outputs": [],
      "source": [
        "print( np.min(x) )"
      ]
    },
    {
      "cell_type": "markdown",
      "id": "feb3b096",
      "metadata": {
        "id": "feb3b096"
      },
      "source": [
        "### - 배열의 최대값 인덱스(argmax)\n",
        "- 동일한 값이 있을 경우 첫 번째 인덱스"
      ]
    },
    {
      "cell_type": "code",
      "execution_count": null,
      "id": "3476ef32",
      "metadata": {
        "scrolled": true,
        "id": "3476ef32"
      },
      "outputs": [],
      "source": [
        "print( np.argmax(x) )"
      ]
    },
    {
      "cell_type": "markdown",
      "id": "2e0d9d0d",
      "metadata": {
        "id": "2e0d9d0d"
      },
      "source": [
        "### - 배열의 최소값 인덱스(argmin)\n",
        "- 동일한 값이 있을 경우 첫 번째 인덱스"
      ]
    },
    {
      "cell_type": "code",
      "execution_count": null,
      "id": "14dca3fc",
      "metadata": {
        "scrolled": true,
        "id": "14dca3fc"
      },
      "outputs": [],
      "source": [
        "print( np.argmin(x) )"
      ]
    },
    {
      "cell_type": "markdown",
      "id": "2f63dee4",
      "metadata": {
        "id": "2f63dee4"
      },
      "source": [
        "----------"
      ]
    },
    {
      "cell_type": "markdown",
      "id": "380fd23b",
      "metadata": {
        "id": "380fd23b"
      },
      "source": [
        "## 대표값\n",
        "데이터 분포의 중심 위치"
      ]
    },
    {
      "cell_type": "markdown",
      "id": "6ef50d49",
      "metadata": {
        "id": "6ef50d49"
      },
      "source": [
        "### - 평균(average)"
      ]
    },
    {
      "cell_type": "code",
      "execution_count": null,
      "id": "9aa8933d",
      "metadata": {
        "id": "9aa8933d"
      },
      "outputs": [],
      "source": [
        "print( np.mean(x) )  # 평균"
      ]
    },
    {
      "cell_type": "markdown",
      "id": "9f94da69",
      "metadata": {
        "id": "9f94da69"
      },
      "source": [
        "### - 중앙값(median)"
      ]
    },
    {
      "cell_type": "code",
      "execution_count": null,
      "id": "5e2a2f4f",
      "metadata": {
        "id": "5e2a2f4f"
      },
      "outputs": [],
      "source": [
        "print( np.median(x) )"
      ]
    },
    {
      "cell_type": "markdown",
      "id": "875fd4f7",
      "metadata": {
        "id": "875fd4f7"
      },
      "source": [
        "### - 최빈값(mode)"
      ]
    },
    {
      "cell_type": "code",
      "execution_count": null,
      "id": "72f64466",
      "metadata": {
        "scrolled": true,
        "id": "72f64466"
      },
      "outputs": [],
      "source": [
        "# 최빈값 찾기: numpy.unique() 사용\n",
        "values, counts = np.unique(x, return_counts=True)\n",
        "index = np.argmax(counts)\n",
        "print(f'#최빈값: {values[index]}, 최빈도(value): {counts[index]} ')"
      ]
    },
    {
      "cell_type": "markdown",
      "id": "7bdf75d3",
      "metadata": {
        "id": "7bdf75d3"
      },
      "source": [
        "### - 히스토그램 그리기"
      ]
    },
    {
      "cell_type": "code",
      "execution_count": null,
      "id": "bbc42d21",
      "metadata": {
        "scrolled": false,
        "id": "bbc42d21"
      },
      "outputs": [],
      "source": [
        "print(f'도수: {len(x)}')   # 도수\n",
        "\n",
        "bins = np.arange(-25,25,5)   # 도수분포 구간\n",
        "print(f'도수분포 구간: {bins}')   # 도수분포 구간\n",
        "\n",
        "hist, bins = np.histogram(x, bins)  #\n",
        "# hist, bins = np.histogram(x, bins=5)  # 도수를 5개의 구간으로 나눈 수\n",
        "\n",
        "print(f'도수분포 구간: {bins}')\n",
        "print(f'히스토그램 구간에 해당하는 도수: {hist}')\n",
        "\n",
        "\n",
        "import matplotlib.pyplot as plt\n",
        "plt.hist(x, edgecolor='w')\n",
        "plt.show()"
      ]
    },
    {
      "cell_type": "markdown",
      "id": "1a22fd51",
      "metadata": {
        "id": "1a22fd51"
      },
      "source": [
        "### [실습문제] 조선조 왕의 수명 데이터\n",
        " 1. 왕들의　평균　수명\n",
        " 2. 수명이　가장　짧은　왕,　나이\n",
        " 3. 수명이　가장　긴　왕，　나이\n",
        " 4. 왕들의　중앙값（나이）\n",
        " 5. 왕들의　최빈값（나이）"
      ]
    },
    {
      "cell_type": "code",
      "execution_count": null,
      "id": "5e174be4",
      "metadata": {
        "scrolled": true,
        "id": "5e174be4"
      },
      "outputs": [],
      "source": [
        "import numpy as np\n",
        "\n",
        "# 키가 중복되면 안됨, 정조가 2개임 주의!!!\n",
        "data = {'태조':73, '정조1':62, '태종':45, '세종':53, '문종':38,\n",
        "        '단종':16, '세조':51, '예종':28, '성종':37, '연산군':30,\n",
        "        '중종':56, '인종':30, '명종':33, '선조':56, '광해군':66,\n",
        "        '인조':54, '효종':40, '현종':33, '숙종':59, '경종': 36,\n",
        "        '영조':82, '정조2':48, '순조':44, '헌종':22, '철종':32,\n",
        "        '고종':67, '순종':52}\n",
        "\n",
        "def get_data_count(datas):\n",
        "    '''데이터별 빈도'''\n",
        "    values = sorted( list(set(datas)) )            # 고유값 리스트\n",
        "    counts = [ datas.count(i) for i in values ]   # 빈도수 리스트\n",
        "#     print(f'#데이터별 빈도: {list(zip(values, counts))}')\n",
        "    return values, counts\n",
        "\n",
        "\n",
        "def get_mode_value(datas):\n",
        "    '''최다 빈도'''\n",
        "    values, counts = get_data_count(datas)\n",
        "    maxs = [(k, v) for k, v in zip(values, counts) if max(counts)== v]\n",
        "    return maxs\n",
        "\n",
        "\n",
        "names= list(data.keys())\n",
        "ages = list(data.values())\n",
        "\n",
        "x_ = np.mean(ages)               # 평균값\n",
        "me = np.median(ages)             # 중앙값\n",
        "mo = get_mode_value(ages)        # 최빈값\n",
        "\n",
        "print(f'#조선의 왕: {names}')\n",
        "print(f'#왕들의 나이: {ages}')\n",
        "\n",
        "values, counts = get_data_count(ages)\n",
        "print(f'#데이터별 빈도: {list(zip(values, counts))}')\n",
        "\n",
        "print()\n",
        "print(f'#1.왕들의 평균나이   : {round(x_)}세')\n",
        "\n",
        "idx = ages.index( min(ages) ) # 값이 여러 개가 아니라는 가정\n",
        "print(f'2.수명이 가장 짧은 왕: {names[idx]}, {ages[idx]}세')\n",
        "\n",
        "idx = ages.index( max(ages) )\n",
        "print(f'3.수명이 가장 긴 왕  : {names[idx]}, {ages[idx]}세')\n",
        "\n",
        "print(f'4.왕들의 중앙값(나이): {round(me)}세')\n",
        "\n",
        "print(f\"5.왕들의 최빈값(나이): {[f'{k}세 ' for k, v in mo ] } \")"
      ]
    },
    {
      "cell_type": "markdown",
      "id": "5580fe92",
      "metadata": {
        "id": "5580fe92"
      },
      "source": [
        "### [실습문제] 산술평균, 중앙값, 최빈값 사이의 관계 설명\n",
        "벤처기업에 근무하는 직원  30명의 연령 자료에 대한 산술평균, 중앙값, 최빈값 사이의 관계 설명하기"
      ]
    },
    {
      "cell_type": "code",
      "execution_count": null,
      "id": "39fda502",
      "metadata": {
        "id": "39fda502"
      },
      "outputs": [],
      "source": [
        "import math\n",
        "import numpy as np\n",
        "import pandas as pd\n",
        "import matplotlib.pyplot as plt\n",
        "\n",
        "# 그래프 기본 설정\n",
        "plt.rcParams['figure.figsize'] = (5, 3)        # (가로,세로) 인치 단위\n",
        "plt.rcParams['axes.unicode_minus'] = False    # 그래프 눈금 값에서 (-)숫자표시\n",
        "plt.rcParams['lines.linewidth'] = 2            # 선 굵기\n",
        "plt.rcParams['font.family'] = 'Malgun Gothic'  # 한글 폰트 사용  (AppleGothic)\n",
        "\n",
        "\n",
        "def makeFrequencyTable(datas, k=5):\n",
        "    # 도수분포표 만들기 사전 과정\n",
        "    # k = 5                               # 1.계급 수\n",
        "    R = round(max(datas) - min(datas), 6) # 2.R : 최대측정값 - 최소측정값\n",
        "    w = math.ceil(R/k)                    # 3.계급 간격\n",
        "    s = min(datas) - 0.5                  # 4.시작 계급값\n",
        "    bins = np.arange(s, max(datas)+w+1, step=w)  #계급\n",
        "    index = [f'{bins[i]} ~ {bins[i+1]}' for i in range(len(bins)) if i<(len(bins)-1) ] # 계급 구간(index)\n",
        "    hist, bins = np.histogram(datas, bins)  # 계급 구간별 도수 데이터\n",
        "    print(f'계급수(K):{k}, R:{R}, 계급간격(w):{w}, 계급시작값(s):{s}')\n",
        "    print(f'계급:{bins}')\n",
        "\n",
        "\n",
        "    # 도수분포표 만들기\n",
        "    df = pd.DataFrame(hist, index=index, columns=['도수'])\n",
        "    df.index.name = '계급간격'\n",
        "\n",
        "    df['상대도수'] = [x/sum(hist) for x in hist]\n",
        "    df['누적도수'] = [sum(hist[:i+1]) if i>0 else hist[i] for i in range(k)]\n",
        "    df['누적상대도수'] = [sum(hist[:i+1]) if i>0 else df['상대도수'].values[i] for i in range(k)]\n",
        "    df['계급값'] = [ (bins[x]+bins[x+1])/2 for x in range(k)]\n",
        "\n",
        "    return df\n",
        "\n",
        "\n",
        "datas = [31, 27, 25, 24, 21, 44, 36, 29, 35, 28,\n",
        "         16, 26, 21, 37, 26, 22, 30, 29, 40, 33,\n",
        "         35, 26, 22, 42, 25, 28, 39, 30, 27, 30]\n",
        "\n",
        "# 도수분포표 만들기\n",
        "df =  makeFrequencyTable(datas, k=6)\n",
        "df"
      ]
    },
    {
      "cell_type": "code",
      "execution_count": null,
      "id": "e208afe8",
      "metadata": {
        "scrolled": true,
        "id": "e208afe8"
      },
      "outputs": [],
      "source": [
        "def make_histogram(datas, x, y, width=10):\n",
        "    fig = plt.bar(x,y, width=width, edgecolor='w') # 막대그래프\n",
        "    plt.xticks(ticks=x, labels=x)\n",
        "\n",
        "    x_ = np.mean(datas)      # 평균값\n",
        "    me = round(np.median(datas))    # 중앙값\n",
        "    from collections import Counter\n",
        "    counts = Counter(datas)\n",
        "    mo = counts.most_common(1)[0][0]  # 최빈값\n",
        "\n",
        "    plt.axvline(x_, 0, max(y),\n",
        "                c='red', label=f'mean({x_})')     # # 평균값 표시\n",
        "    plt.annotate('평균', xy=(x_, 10), xytext=(50,10),\n",
        "                 fontsize=12,\n",
        "                 arrowprops=dict(facecolor='black', width=1, shrink=0.1, headwidth=5))\n",
        "\n",
        "    plt.axvline(me, 0, max(y),\n",
        "                c='green', label=f'median({me})') # 중앙값 표시\n",
        "\n",
        "    plt.axvline(mo, 0, max(y),\n",
        "                c='violet', label=f'mode({mo})')  # 최빈값 표시\n",
        "\n",
        "    plt.title('(도수)히스토그램')\n",
        "    plt.xlabel('계급값')\n",
        "    plt.ylabel('도수')\n",
        "\n",
        "    plt.legend()\n",
        "    plt.show()\n",
        "\n",
        "\n",
        "# 히스토그램 만들기\n",
        "x = df['계급값']\n",
        "y = df['도수']\n",
        "make_histogram(datas, x, y)"
      ]
    },
    {
      "cell_type": "code",
      "execution_count": null,
      "id": "86591001",
      "metadata": {
        "id": "86591001"
      },
      "outputs": [],
      "source": [
        "# seaborn 라이브러리로 히스토그램 그리기\n",
        "import seaborn as sns\n",
        "sns.histplot(datas, kde=True, bins=5)"
      ]
    },
    {
      "cell_type": "markdown",
      "id": "6ebc92e2",
      "metadata": {
        "id": "6ebc92e2"
      },
      "source": [
        "-------"
      ]
    },
    {
      "cell_type": "markdown",
      "id": "d77a5f76",
      "metadata": {
        "id": "d77a5f76"
      },
      "source": [
        "## 산포도\n",
        "중심으로부터 데이터가 흩어져 있는 정도(변이도)를 수치적으로 측정"
      ]
    },
    {
      "cell_type": "code",
      "execution_count": null,
      "id": "6355e22a",
      "metadata": {
        "id": "6355e22a"
      },
      "outputs": [],
      "source": [
        "import numpy as np\n",
        "\n",
        "x = np.array([18,5,10,23,19,-8,10,0,0,5,2,15,8,2,5,4,15,-1,4,-7,-24,7,9,-6,23,-13])\n",
        "print(x)"
      ]
    },
    {
      "cell_type": "markdown",
      "id": "c01e3de1",
      "metadata": {
        "id": "c01e3de1"
      },
      "source": [
        "### - 분산(variance)\n",
        "평균을 중심으로 밀집되거나 퍼짐 정도를 나타내는 척도"
      ]
    },
    {
      "cell_type": "code",
      "execution_count": null,
      "id": "c460c850",
      "metadata": {
        "id": "c460c850"
      },
      "outputs": [],
      "source": [
        "print( np.var(x) )  # 분산"
      ]
    },
    {
      "cell_type": "markdown",
      "id": "20cd7c7c",
      "metadata": {
        "id": "20cd7c7c"
      },
      "source": [
        "### - 표준 편차(standard deviation)"
      ]
    },
    {
      "cell_type": "code",
      "execution_count": null,
      "id": "edac23c6",
      "metadata": {
        "id": "edac23c6"
      },
      "outputs": [],
      "source": [
        "print( np.std(x) )"
      ]
    },
    {
      "cell_type": "markdown",
      "id": "ce3c3884",
      "metadata": {
        "id": "ce3c3884"
      },
      "source": [
        " ### - 사분위수(quartile)\n",
        " - 백분위수(percentile): 수집한 자료를 크기순으로 나열할 때, 1%씩 등간격으로 구분하는 척도\n",
        " - 사분위수(quartiles): 수집한 자룔를 크기순으로 나열하여 4등분하는 척도, Q1, Q2, Q3 <br>\n",
        " - 자동 정렬 후 계산"
      ]
    },
    {
      "cell_type": "code",
      "execution_count": null,
      "id": "2a6d5128",
      "metadata": {
        "id": "2a6d5128"
      },
      "outputs": [],
      "source": [
        "print( np.percentile(x, 0) ) # 0% 해당하는 수\n",
        "print( np.percentile(x, 25) )  # 25%,  1사분위 수\n",
        "print( np.percentile(x, 50) )  # 50%, 2사분위 수\n",
        "print( np.percentile(x, 75) ) # 75%, 3사분위 수\n",
        "print( np.percentile(x, 100) )  # 100%,  최대값"
      ]
    },
    {
      "cell_type": "markdown",
      "id": "9d6c5717",
      "metadata": {
        "id": "9d6c5717"
      },
      "source": [
        "### - 변동계수(coefficient of variation)\n",
        " - 측정단위가 동일한 두 자료집단: 평균이 큰 차이를 보이는 두 자료집단\n",
        " - 측정단위가 서로 다른 두 자료집단: 산포의 척도를 비교할 때 많이 사용한다."
      ]
    },
    {
      "cell_type": "code",
      "execution_count": null,
      "id": "e4ffd378",
      "metadata": {
        "id": "e4ffd378"
      },
      "outputs": [],
      "source": [
        "def get_cov(S, ddof=0):\n",
        "    M   = np.mean(S)            # 평균\n",
        "    STD = np.std(S, ddof=ddof)  # 표준편차\n",
        "    cov =  STD / M * 100        #변동계수\n",
        "    print('mean: %.2f'%M, 'std: %.2f'%STD) #소수점 2자리로 표현\n",
        "\n",
        "    return ( np.std(S, ddof=ddof) / np.mean(S) )* 100  #변동계수\n",
        "\n",
        "A = [171, 164, 167, 156, 159, 164]\n",
        "B = [11.5, 12.2, 12.0, 12.4, 13.6, 10.5]\n",
        "\n",
        "print(f'#A 변동계수: ', round(get_cov(A, ddof=1), 2))\n",
        "print(f'#B 변동계수: ', round(get_cov(B, ddof=1), 2) )"
      ]
    },
    {
      "cell_type": "markdown",
      "id": "7ac5f31b",
      "metadata": {
        "id": "7ac5f31b"
      },
      "source": [
        "### - 왜도(skewness)\n",
        "- 분포의 대칭이나 비대칭의 정도를 표시하는 척도\n",
        "- 정규분포로부터 얼마나 멀어져있는지를 보는 수치(왜도=0, 완전한 정규분포)\n",
        "- $\\alpha = 0$ :   완전한 정규분포\n",
        "- $\\alpha > 0$ :   왼쪽으로 치우친 분포\n",
        "- $\\alpha < 0$ :   오른쪽으로 치우친 분포"
      ]
    },
    {
      "cell_type": "markdown",
      "id": "145d4ce3",
      "metadata": {
        "id": "145d4ce3"
      },
      "source": [
        "### - 첨도(kurtosis)\n",
        "- 뽀족함의 정도를 나타내는 척도\n",
        "- 정규뷴포상에서 평균을 중심으로 집중화된 정도를 나타냄\n",
        "- $\\beta = 3$ :   뽀족한 정도가 정규분포와 같다\n",
        "- $\\beta > 3$ :   표준정규분포보다 정점이 높고 뽀족하다, 꼬리가 더 두꺼워짐\n",
        "- $\\beta < 3$ :   표준정규분포보다 정점이 낮고 완만하다, 꼬리가 더 얇아짐"
      ]
    },
    {
      "cell_type": "code",
      "execution_count": null,
      "id": "709d6485",
      "metadata": {
        "scrolled": true,
        "id": "709d6485"
      },
      "outputs": [],
      "source": [
        "# 왜도 & 첨도 구하기:  수학적 방법\n",
        "import numpy as np\n",
        "\n",
        "def skew_kurtosis(data):\n",
        "    mean = np.mean(data)\n",
        "    var = np.var(data)\n",
        "    std = np.sqrt(var)\n",
        "\n",
        "    # skewness\n",
        "    skew = np.sum((data - mean)**3) / (len(data) * std**3)\n",
        "    # kurtosis\n",
        "    kurt = np.sum((data - mean)**4) / (len(data) * std**4) - 3\n",
        "\n",
        "    return skew, kurt\n",
        "\n",
        "datas = [31, 27, 25, 24, 21, 44, 36, 29, 35, 28,\n",
        "         16, 26, 21, 37, 26, 22, 30, 29, 40, 33,\n",
        "         35, 26, 22, 42, 25, 28, 39, 30, 27, 30]\n",
        "\n",
        "skew, kurt = skew_kurtosis(datas)\n",
        "print(\"Skewness: \", skew)\n",
        "print(\"Kurtosis: \", kurt)"
      ]
    },
    {
      "cell_type": "markdown",
      "id": "d0ed56e9",
      "metadata": {
        "id": "d0ed56e9"
      },
      "source": [
        "### [실습문제] 산포도 구하기\n",
        "다음은 어느 정유회사에서 생산하는 자동차용 휘발유의 옥탄가 자료이다. 평균, 분산, 표준편차, 왜도, 첨도, 분포 형태 설명"
      ]
    },
    {
      "cell_type": "code",
      "execution_count": null,
      "id": "83399012",
      "metadata": {
        "id": "83399012"
      },
      "outputs": [],
      "source": [
        "import numpy as np\n",
        "import matplotlib.pyplot as plt\n",
        "import scipy.stats as stats\n",
        "\n",
        "datas=[ 90.7, 90.0, 92.2, 91.0, 88.5, 87.8, 83.4, 82.1, 88.6, 100.2,\n",
        "        95.6, 93.3, 88.2, 91.0, 92.7, 93.2, 91.0, 93.4, 85.3, 88.6,\n",
        "        96.1, 98.9, 89.9, 89.8, 91.1, 89.7, 88.2, 93.7, 84.3, 97.9,\n",
        "        87.9, 90.1, 88.3, 93.3, 95.4, 91.6, 88.9, 92.6, 97.4, 87.4,\n",
        "        86.7, 90.4, 91.1, 92.6, 88.8, 89.3, 89.8, 89.2, 88.6, 89.0,\n",
        "        96.1, 95.6, 92.2 ]\n",
        "\n",
        "x_ = np.mean(datas)\n",
        "var= np.var(datas)\n",
        "std= np.sqrt(var)\n",
        "std = np.std(datas)\n",
        "skew, kurt = skew_kurtosis(datas)\n",
        "print(\"1. mean              : \", round(x_, 5) )\n",
        "print(\"2. variance          : \", round(var, 5) )\n",
        "print(\"3. standard deviation: \", round(std, 5) )\n",
        "print(\"4. Skewness          : \", round(skew, 5) )\n",
        "print(\"5. Kurtosis          : \", round(kurt, 5) )\n"
      ]
    },
    {
      "cell_type": "code",
      "execution_count": null,
      "id": "56a065e2",
      "metadata": {
        "scrolled": true,
        "id": "56a065e2"
      },
      "outputs": [],
      "source": [
        "# 도수분포표 만들기\n",
        "df =  makeFrequencyTable(datas, k=5)\n",
        "x, y = df['계급값'], df['도수']\n",
        "make_histogram(datas, x, y, width=5)"
      ]
    },
    {
      "cell_type": "code",
      "execution_count": null,
      "id": "eaf480b4",
      "metadata": {
        "scrolled": false,
        "id": "eaf480b4"
      },
      "outputs": [],
      "source": [
        "# seaborn 라이브러리로 히스토그램 그리기\n",
        "import seaborn as sns\n",
        "sns.histplot(datas, kde=True, bins=5)"
      ]
    },
    {
      "cell_type": "markdown",
      "id": "2a4c2c1a",
      "metadata": {
        "id": "2a4c2c1a"
      },
      "source": [
        "### [실습문제] 변동계수 비교하기\n",
        "- data1 : 1부터 10 사이의 정수 100개 무작위 추출\n",
        "- data2 : 평균 1 이고, 표준편차가 1인 정규분포를 이루는 100개 무작위 추출"
      ]
    },
    {
      "cell_type": "code",
      "execution_count": null,
      "id": "208f326f",
      "metadata": {
        "id": "208f326f"
      },
      "outputs": [],
      "source": [
        "import numpy as np\n",
        "\n",
        "# 데이터 집단 만들기\n",
        "data1 = np.random.randint(1, 11, size=100)  # 1부터 10 사이의 정수 100개 무작위 추출\n",
        "data2 = np.random.normal(loc=1, scale=1, size=100)  # 평균 1, 표준편차 1인 정규분포에서 100개 무작위 추출\n",
        "\n",
        "print('#data1 변동계수: ', get_cov(data1, ddof=0), '%')\n",
        "print('#data2 변동계수: ', get_cov(data2, ddof=0), '%')"
      ]
    },
    {
      "cell_type": "code",
      "execution_count": null,
      "id": "afe0d1dc",
      "metadata": {
        "id": "afe0d1dc"
      },
      "outputs": [],
      "source": [
        "sns.histplot(data1, kde=True, bins=5)"
      ]
    },
    {
      "cell_type": "code",
      "execution_count": null,
      "id": "2998a59a",
      "metadata": {
        "id": "2998a59a"
      },
      "outputs": [],
      "source": [
        "sns.histplot(data2, kde=True, bins=5)"
      ]
    },
    {
      "cell_type": "markdown",
      "id": "27291366",
      "metadata": {
        "id": "27291366"
      },
      "source": [
        "### [실습문제] 사분위수를 이용하여 위치 확인하기\n",
        "- 사분위수를 구하시오\n",
        "- 상자그림을 그리시오."
      ]
    },
    {
      "cell_type": "code",
      "execution_count": null,
      "id": "3da1e23b",
      "metadata": {
        "id": "3da1e23b"
      },
      "outputs": [],
      "source": [
        "import numpy as np\n",
        "\n",
        "datas = [26, 31, 27, 38, 42, 26, 18, 17, 25, 29,\n",
        "         39, 38, 38, 40, 46, 38, 39, 41, 41, 40,\n",
        "         26, 19, 39, 28, 45, 34, 21, 41, 30, 30,\n",
        "         12, 22, 48, 34, 29, 26, 29, 58, 43, 16,\n",
        "         42, 44, 38, 44, 28, 43, 39, 42, 39, 46]\n",
        "\n",
        "print(sorted(datas))\n",
        "\n",
        "Q1 = np.percentile(datas, 25).astype('int') # 1사분위\n",
        "Q2 = np.percentile(datas, 50).astype('int')  # 2사분위\n",
        "Q3 = np.percentile(datas, 75).astype('int')  # 3사분위\n",
        "Q4 = np.percentile(datas, 100).astype('int') # 4사분위\n",
        "\n",
        "print('1사분위(Q1: 25%):', Q1 )\n",
        "print('2사분위(Q2: 50%):', Q2 )\n",
        "print('3사분위(Q3: 75%):', Q3 )\n",
        "print('4사분위(Q4:100%):', Q4 )"
      ]
    },
    {
      "cell_type": "markdown",
      "id": "0553808c",
      "metadata": {
        "id": "0553808c"
      },
      "source": [
        "### 상자그림\n",
        " - Box Plot: 사분위수를 이용하여 수집한 자료에 포함된 **특이값**을 알려주는 그림\n",
        " - 두 개 이상의 자료 집단을 비교할 때 매우 유용\n",
        " - https://matplotlib.org/stable/api/_as_gen/matplotlib.pyplot.boxplot.html"
      ]
    },
    {
      "cell_type": "code",
      "execution_count": null,
      "id": "7ce273c7",
      "metadata": {
        "id": "7ce273c7"
      },
      "outputs": [],
      "source": [
        "import matplotlib.pyplot as plt\n",
        "\n",
        "# 가로로 그리기\n",
        "plt.boxplot(datas, vert=False, showmeans=True)\n",
        "plt.grid()\n",
        "plt.show()"
      ]
    },
    {
      "cell_type": "code",
      "execution_count": null,
      "id": "1fd6e607",
      "metadata": {
        "scrolled": true,
        "id": "1fd6e607"
      },
      "outputs": [],
      "source": [
        "plt.boxplot(datas, showmeans=True)\n",
        "plt.grid()\n",
        "plt.show()"
      ]
    },
    {
      "cell_type": "markdown",
      "id": "adfea130",
      "metadata": {
        "id": "adfea130"
      },
      "source": [
        "### [실습문제] 위치척도와 상자그림"
      ]
    },
    {
      "cell_type": "code",
      "execution_count": null,
      "id": "ef7372fa",
      "metadata": {
        "scrolled": false,
        "id": "ef7372fa"
      },
      "outputs": [],
      "source": [
        "import numpy as np\n",
        "import matplotlib.pyplot as plt\n",
        "\n",
        "def get_outlier_data(datas):\n",
        "    Q1 = np.percentile(datas, 25).astype('int') # 1사분위 (편의상 정수로 만듦)\n",
        "    Q3 = np.percentile(datas, 75).astype('int')  # 3사분위\n",
        "    IQR = Q3 - Q1\n",
        "    fl = Q1 - 1.5*IQR  # lower inner fence\n",
        "    fu = Q3 + 1.5*IQR  # upper inner fence\n",
        "    fL = Q1 - 3*IQR    # lower outer fence\n",
        "    fU = Q3 + 3*IQR    # upper outer fence\n",
        "    mid_outlier = [x for x in datas if (fL<=x<=fl) or (fu<=x<=fU)] # mid ouetlier(보통 특이값)\n",
        "    ext_outlier = [x for x in datas if (fL>=x) or (fU<=x)]         # extreme outlier(특이값)\n",
        "#     print(f\"ordered data     : {sorted(datas)} \")\n",
        "#     print(f'lower inner fence: {fl}')\n",
        "#     print(f'upper inner fence: {fu}')\n",
        "#     print(f'lower outer fence: {fL}')\n",
        "    print(f'ext_outlier      : {ext_outlier}')\n",
        "    print(f'mid_outlier      : {mid_outlier}')\n",
        "\n",
        "\n",
        "\n",
        "data1 = [56,  90,  88,  87,  68,  32,  76,  54, 100,  41]  # 특이값 미 포함\n",
        "data2 = [8, 51, 70, 86,  2, 77, 81, 75, 64, 89]    # (보통)특이값 포함\n",
        "data3 = [15, 55, 64, 95, 67, 67, 51, 58, 57, 89]   # (보통)특이값 + 특이값 포함\n",
        "print(f'data1: {data1}')\n",
        "print(f'data2: {data2}')\n",
        "print(f'data3: {data3}')\n",
        "print()\n",
        "\n",
        "# outlier 값 찾기\n",
        "get_outlier_data(data1)\n",
        "get_outlier_data(data2)\n",
        "get_outlier_data(data3)\n",
        "\n",
        "# 상자그림 그리기\n",
        "plt.boxplot([data1, data2, data3], showmeans=True)\n",
        "plt.grid()\n",
        "plt.show()"
      ]
    },
    {
      "cell_type": "markdown",
      "id": "152f2e72",
      "metadata": {
        "id": "152f2e72"
      },
      "source": [
        "---------------"
      ]
    },
    {
      "cell_type": "code",
      "execution_count": null,
      "id": "edda8205",
      "metadata": {
        "id": "edda8205"
      },
      "outputs": [],
      "source": []
    },
    {
      "cell_type": "markdown",
      "id": "29166f0d",
      "metadata": {
        "id": "29166f0d"
      },
      "source": [
        "### [실습문제] 산점도와 상관계수\n",
        "학생 건강검사 자료(2019년도 학생 건강검사 표본통계, 교육부) 중 서울지역 초등학교 3학년 남학생에 대한 표본에 대해 키와 몸무게를 이용하여 산점도를 나타내고 상관계수를 계산하시오."
      ]
    },
    {
      "cell_type": "code",
      "execution_count": null,
      "id": "30bb7f68",
      "metadata": {
        "id": "30bb7f68"
      },
      "outputs": [],
      "source": [
        "# 1. 데이터 확인\n",
        "import pandas as pd\n",
        "\n",
        "df = pd.read_excel('./data/초등학교3학년_남자.xlsx')\n",
        "df\n",
        "# 기술통계 나타내기\n",
        "df.describe()"
      ]
    },
    {
      "cell_type": "code",
      "execution_count": null,
      "id": "c9e5c6a0",
      "metadata": {
        "scrolled": true,
        "id": "c9e5c6a0"
      },
      "outputs": [],
      "source": [
        "# 2. 산점도로 확인\n",
        "import matplotlib.pyplot as plt\n",
        "\n",
        "plt.scatter(df.키, df.몸무게)\n",
        "plt.xlabel('키')\n",
        "plt.ylabel('몸무게')\n",
        "plt.grid()\n",
        "plt.show()"
      ]
    },
    {
      "cell_type": "code",
      "execution_count": null,
      "id": "21c6b950",
      "metadata": {
        "id": "21c6b950"
      },
      "outputs": [],
      "source": [
        "# 표본 상관계수(print(df.corr(method='pearson')) 확인\n",
        "import scipy as sp\n",
        "\n",
        "corr = sp.stats.pearsonr(df.키, df.몸무게) # 피어슨 상관계수\n",
        "print(f'scipy stats 피어슨상관계수: {corr}')\n",
        "print()\n",
        "# pandas print(df.corr(method='pearson'))\n",
        "print(f'pandas 피어슨상관계수: {df.corr(method=\"pearson\")}')"
      ]
    },
    {
      "cell_type": "markdown",
      "id": "8ae81d78",
      "metadata": {
        "id": "8ae81d78"
      },
      "source": [
        "----"
      ]
    },
    {
      "cell_type": "markdown",
      "id": "1842bf9a",
      "metadata": {
        "id": "1842bf9a"
      },
      "source": [
        "### 회귀분석(regression analysis)**\n",
        "- 변수가 **다른 변수에 영향을 미치는 관계를 식별**하기 위한 통계적 방법\n",
        "- 두 변수 간의 관계를 파악하여 **한 변수의 값으로부터 그에 대응하는 다른 변수의 값을 예측**하고자 할 때 사용하는 통계적 방법\n",
        "<br><br>\n",
        "- **독립변수(independent variable)** : 다른 변수에 영향을 주는 변수, 설명변수(explanatory variable)\n",
        "- **종속변수(dependent variable)** : 영향을 받는 변수, 반응변수(response variable)"
      ]
    },
    {
      "cell_type": "markdown",
      "id": "e9adbf01",
      "metadata": {
        "id": "e9adbf01"
      },
      "source": [
        "### 단순선형회귀모형(simple linear regression model) : 직선회귀모형\n",
        "\n",
        " - $y_i = a + bx_i + e_i$   $(e_i ~ N(0,\\sigma^2), i=1,2,...,n)$ <br><br>\n",
        " - $a, b$ : 모회귀계수\n",
        " - $x_i$  : 독립변수(설명변수), $y_i$:종속변수(반응변수)\n",
        " - $e_i$  : $N(0,\\sigma^2)$을 따르는 확률변수(오차항) <br><br>\n",
        " -- **==> 모회귀계수 $a, b$를 추정함으로서 회귀직선을 추정할 수 있다!**"
      ]
    },
    {
      "cell_type": "markdown",
      "id": "cc5fb8ea",
      "metadata": {
        "id": "cc5fb8ea"
      },
      "source": [
        "### [실습문제] 단순 회귀분석"
      ]
    },
    {
      "cell_type": "code",
      "execution_count": null,
      "id": "6bb4855b",
      "metadata": {
        "id": "6bb4855b"
      },
      "outputs": [],
      "source": [
        "# 1. 데이터 확인\n",
        "import pandas as pd\n",
        "\n",
        "cm = 2.54  # 키데이터를  inch --> cm로 변환하기 위해\n",
        "df = pd.read_excel('./data/Galtons Height Data_딸.xlsx')\n",
        "df['father'] = df.father * cm\n",
        "df['daughter'] = df.daughter * cm\n",
        "\n",
        "df"
      ]
    },
    {
      "cell_type": "code",
      "execution_count": null,
      "id": "e52ffbea",
      "metadata": {
        "scrolled": true,
        "id": "e52ffbea"
      },
      "outputs": [],
      "source": [
        "# 2. 산점도(추정된 회귀직선 표시) 확인\n",
        "# 방법: seaborn 사용하기\n",
        "import matplotlib.pyplot as plt\n",
        "import seaborn as sns\n",
        "\n",
        "sns.regplot(x=df.father, y=df.daughter)\n",
        "plt.xlabel('father')\n",
        "plt.ylabel('daughter')\n",
        "plt.show()"
      ]
    },
    {
      "cell_type": "code",
      "execution_count": null,
      "id": "96166c8f",
      "metadata": {
        "scrolled": true,
        "id": "96166c8f"
      },
      "outputs": [],
      "source": [
        "# 3. 결정계수 구하기\n",
        "# 방법: statsmodels 사용하기\n",
        "from statsmodels.formula.api import ols\n",
        "\n",
        "model = ols('df.daughter ~ df.father', data=df).fit() #ols('종속변수명 ~ 독립변수명', data=데이터프레임객체)\n",
        "\n",
        "print(f'결정계수: {model.rsquared: .4f}')\n",
        "\n",
        "model.summary() # 모델 요약"
      ]
    },
    {
      "cell_type": "code",
      "execution_count": null,
      "id": "95f9e573",
      "metadata": {
        "id": "95f9e573"
      },
      "outputs": [],
      "source": [
        "# 추정된 회귀직선 표시\n",
        "# 방법1: 직접 그리기\n",
        "target_pred = model.predict()\n",
        "\n",
        "plt.scatter(df.father, df.daughter, marker='o', label='$MEDV_i$ 실제 관측치')\n",
        "plt.plot(df.father, target_pred, color = 'g', label='$\\hat{MEDV}_i$ 회귀선')\n",
        "plt.hlines(df.daughter.mean(), df.father.min(), df.father.max(), color = 'r', label='$MEDV_i$ 평균선')\n",
        "plt.legend()\n",
        "plt.xlabel('df.father')\n",
        "plt.ylabel('df.daughter')\n",
        "plt.show()"
      ]
    },
    {
      "cell_type": "code",
      "execution_count": null,
      "id": "ff1be3da",
      "metadata": {
        "scrolled": true,
        "id": "ff1be3da"
      },
      "outputs": [],
      "source": [
        "# 추정된 회귀직선 표시\n",
        "# 방법2: seaborn regplot()함수 사용\n",
        "sns.regplot(x=df.father, y=df.daughter)\n",
        "plt.xlabel('아빠')\n",
        "plt.ylabel('딸')\n",
        "plt.title('추정회귀직선')\n",
        "plt.show()"
      ]
    },
    {
      "cell_type": "markdown",
      "id": "449c833c",
      "metadata": {
        "id": "449c833c"
      },
      "source": [
        "### [실습문제] 키로 몸무게 추정하는 선형회귀 모델\n",
        "- 167cm 남학생의 몸무게는?\n",
        "- 167cm 여학생의 몸무게는?"
      ]
    },
    {
      "cell_type": "markdown",
      "id": "a4c9300a",
      "metadata": {
        "id": "a4c9300a"
      },
      "source": [
        "---------------------------"
      ]
    },
    {
      "cell_type": "markdown",
      "id": "fede246a",
      "metadata": {
        "id": "fede246a"
      },
      "source": [
        "THE END"
      ]
    }
  ],
  "metadata": {
    "colab": {
      "provenance": [],
      "toc_visible": true,
      "include_colab_link": true
    },
    "kernelspec": {
      "display_name": "Python 3 (ipykernel)",
      "language": "python",
      "name": "python3"
    },
    "language_info": {
      "codemirror_mode": {
        "name": "ipython",
        "version": 3
      },
      "file_extension": ".py",
      "mimetype": "text/x-python",
      "name": "python",
      "nbconvert_exporter": "python",
      "pygments_lexer": "ipython3",
      "version": "3.10.9"
    },
    "vscode": {
      "interpreter": {
        "hash": "b41e41bff03a930185ac2cbea60ce521f7c8c2f5401ceb5c30214081f77ab4f5"
      }
    }
  },
  "nbformat": 4,
  "nbformat_minor": 5
}