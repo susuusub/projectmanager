{
  "nbformat": 4,
  "nbformat_minor": 0,
  "metadata": {
    "colab": {
      "provenance": [],
      "authorship_tag": "ABX9TyN04uNNcXowAMZ8JW6KDfB7",
      "include_colab_link": true
    },
    "kernelspec": {
      "name": "python3",
      "display_name": "Python 3"
    },
    "language_info": {
      "name": "python"
    }
  },
  "cells": [
    {
      "cell_type": "markdown",
      "metadata": {
        "id": "view-in-github",
        "colab_type": "text"
      },
      "source": [
        "<a href=\"https://colab.research.google.com/github/susuusub/projectmanager/blob/main/1_%ED%8C%8C%EC%9D%B4%EC%8D%AC_1%EC%9D%BC%EC%B0%A8_%EC%8B%A4%EC%8A%B5.ipynb\" target=\"_parent\"><img src=\"https://colab.research.google.com/assets/colab-badge.svg\" alt=\"Open In Colab\"/></a>"
      ]
    },
    {
      "cell_type": "markdown",
      "source": [
        "#파이썬 기초 프로그래밍- 1일"
      ],
      "metadata": {
        "id": "dBZidA48eVBK"
      }
    },
    {
      "cell_type": "markdown",
      "source": [
        "##코랩에서 파이썬 사용하기\n",
        "##파이썬 실습 1일차\n",
        "###시작\n"
      ],
      "metadata": {
        "id": "LKAicsIgemJx"
      }
    },
    {
      "cell_type": "markdown",
      "source": [],
      "metadata": {
        "id": "-seYo4Iqeyyi"
      }
    },
    {
      "cell_type": "code",
      "execution_count": null,
      "metadata": {
        "colab": {
          "base_uri": "https://localhost:8080/",
          "height": 35
        },
        "id": "iH89tTeKeGZD",
        "outputId": "6cf1c6f5-ffbc-4106-89e3-ff7a45942d25"
      },
      "outputs": [
        {
          "output_type": "execute_result",
          "data": {
            "text/plain": [
              "'3.10.12 (main, Jun 11 2023, 05:26:28) [GCC 11.4.0]'"
            ],
            "application/vnd.google.colaboratory.intrinsic+json": {
              "type": "string"
            }
          },
          "metadata": {},
          "execution_count": 1
        }
      ],
      "source": [
        "import sys\n",
        "sys.version"
      ]
    },
    {
      "cell_type": "markdown",
      "source": [
        "\n",
        "\n",
        "*   간단한 계산기 프로그램\n",
        "\n"
      ],
      "metadata": {
        "id": "cbl1WATifRWd"
      }
    },
    {
      "cell_type": "code",
      "source": [
        "a=100\n",
        "b=50\n",
        "print('덧셈',a+b)\n",
        "print('뺄셈',a-b)\n",
        "print('곱셈',a*b)\n",
        "print('나눗셈',a/b)"
      ],
      "metadata": {
        "colab": {
          "base_uri": "https://localhost:8080/"
        },
        "id": "VmhnkIutfxTk",
        "outputId": "bea7119f-89ea-453a-db6a-f4ee633572e8"
      },
      "execution_count": null,
      "outputs": [
        {
          "output_type": "stream",
          "name": "stdout",
          "text": [
            "덧셈 150\n",
            "뺄셈 50\n",
            "곱셈 5000\n",
            "나눗셈 2.0\n"
          ]
        }
      ]
    }
  ]
}