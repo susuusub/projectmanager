{
  "cells": [
    {
      "cell_type": "markdown",
      "metadata": {
        "id": "view-in-github",
        "colab_type": "text"
      },
      "source": [
        "<a href=\"https://colab.research.google.com/github/susuusub/projectmanager/blob/main/2_%EB%8D%B0%EC%9D%B4%ED%84%B0%EB%B6%84%EC%84%9D_06_%EC%A7%80%EB%8F%84%EC%97%90%EC%8B%9C%EA%B0%81%ED%99%94%ED%95%98%EA%B8%B0_%EB%B0%B0%ED%8F%AC.ipynb\" target=\"_parent\"><img src=\"https://colab.research.google.com/assets/colab-badge.svg\" alt=\"Open In Colab\"/></a>"
      ]
    },
    {
      "cell_type": "markdown",
      "id": "bb56a1da",
      "metadata": {
        "id": "bb56a1da"
      },
      "source": [
        "# 데이터 분석\n",
        "\n",
        "## 6. 지도를 이용한 데이터 시각화"
      ]
    },
    {
      "cell_type": "markdown",
      "id": "a4870ebb",
      "metadata": {
        "id": "a4870ebb"
      },
      "source": [
        "----------------------------------"
      ]
    },
    {
      "cell_type": "markdown",
      "id": "b973a861",
      "metadata": {
        "id": "b973a861"
      },
      "source": [
        "## 01.지도에 위치 표시하기"
      ]
    },
    {
      "cell_type": "markdown",
      "id": "16c85b41",
      "metadata": {
        "id": "16c85b41"
      },
      "source": [
        "### #라이브러리 설치하기\n",
        "아래 코드를 실행하는 방법 : 마우스로 실행시킬 셀(cell) 또는 행을 선택한 후  화면 위 Run(run cell) 메뉴를 선택해서 실행한다."
      ]
    },
    {
      "cell_type": "code",
      "execution_count": null,
      "id": "b9f6b8e2",
      "metadata": {
        "id": "b9f6b8e2"
      },
      "outputs": [],
      "source": [
        "!pip install folium"
      ]
    },
    {
      "cell_type": "markdown",
      "id": "50b4479b",
      "metadata": {
        "id": "50b4479b"
      },
      "source": [
        "### #라이브러리 설치 확인하기\n",
        "아래 코드를 실행한 후 오류 메시지가 없으면 성공적으로 설치된 것입니다."
      ]
    },
    {
      "cell_type": "code",
      "execution_count": null,
      "id": "527ebba5",
      "metadata": {
        "id": "527ebba5"
      },
      "outputs": [],
      "source": [
        "import folium\n",
        "\n",
        "folium.__version__"
      ]
    },
    {
      "cell_type": "markdown",
      "id": "f7881e05",
      "metadata": {
        "id": "f7881e05"
      },
      "source": [
        "### [실습] :  지도에 숭례문 위치 표시하기\n",
        "구글지도에서 찾은 숭례문의 위도 & 경도 값을 가지고 folium 지도에 마커로 표시를 해보세요."
      ]
    },
    {
      "cell_type": "markdown",
      "id": "0e6d81e9",
      "metadata": {
        "id": "0e6d81e9"
      },
      "source": [
        "- **구글맵**에서 **숭례문**의 위도/경도 좌표값 기록해 두기\n",
        "- https://www.google.com/maps ~~\n",
        "- !3d37.559984!4d126.9753071 --> **위도:37.559984** & **경도:126.9753071**"
      ]
    },
    {
      "cell_type": "code",
      "execution_count": null,
      "id": "c8e24512",
      "metadata": {
        "id": "c8e24512"
      },
      "outputs": [],
      "source": [
        "# folium.Icon 정보 확인하기\n",
        "help(folium.Icon)"
      ]
    },
    {
      "cell_type": "code",
      "execution_count": null,
      "id": "1d957361",
      "metadata": {
        "id": "1d957361"
      },
      "outputs": [],
      "source": [
        "import folium\n",
        "\n",
        "# 지도 중심좌표 지정하기\n",
        "title = '숭례문'\n",
        "center = [37.559984 , 126.9753071]  # 숭례문 위도&경도\n",
        "\n",
        "# 지도 객체 만들기\n",
        "m = folium.Map(location=center , zoom_start=16)\n",
        "\n",
        "# 지도에 마커로 표시하기\n",
        "folium.Marker(location = center, max_width=200,\n",
        "              popup = title,\n",
        "              icon=folium.Icon(color='red', icon='info-sign')\n",
        ").add_to(m)\n",
        "\n",
        "m"
      ]
    },
    {
      "cell_type": "markdown",
      "id": "dd961688",
      "metadata": {
        "id": "dd961688"
      },
      "source": [
        "### #지도 종류 변경하기\n",
        "아래 값을 참고하여 Map의 tiles 옵션값을 수정하여 folium 지도의 종류를 변경해 보세요.\n",
        "#### # 지도 변경 방법 및 지도 테마 종류\n",
        "- **지도 종류 변경 방법** :  folium.Map(tiles='Stamen Toner') **tiles 옵션을 사용한다.**\n",
        "- **지도 종류** : OpenStreetMap(기본테마) / Stamen Terrain / Stamen Toner / cartodbpositron"
      ]
    },
    {
      "cell_type": "markdown",
      "id": "641c4e00",
      "metadata": {
        "id": "641c4e00"
      },
      "source": [
        "### [실습문제] :  웹 브라우저에 지도 표시하기\n",
        "주피터 노트북에 표시한 folium 지도를 browser 라이브러리를 사용하여 PC 기본 웹 브라우저로 실행시켜보세요."
      ]
    },
    {
      "cell_type": "code",
      "execution_count": null,
      "id": "84abd505",
      "metadata": {
        "id": "84abd505"
      },
      "outputs": [],
      "source": [
        "import folium\n",
        "import webbrowser\n",
        "\n",
        "# 지도 중심좌표 지정하기\n",
        "center = [37.559984, 126.9753071]  # 숭례문 위도&경도\n",
        "\n",
        "# 지도 객체 만들기\n",
        "m = folium.Map(location=center , zoom_start=16)\n",
        "\n",
        "# 지도에 마커로 표시하기\n",
        "folium.Marker(location = center, max_width=200,\n",
        "              popup = '숭례문',\n",
        "              icon=folium.Icon(color='red', icon='star')\n",
        ").add_to(m)\n",
        "m\n",
        "\n",
        "#----------------------------\n",
        "# 웹 브라우저에서 실행하기 : 코드 작성\n",
        "#----------------------------\n",
        "\n",
        "\n"
      ]
    },
    {
      "cell_type": "markdown",
      "id": "423d69ed",
      "metadata": {
        "id": "423d69ed"
      },
      "source": [
        "### [실습] 유튜브 링크 포함된 folium 지도를 웹 브라우저로 실행하기\n",
        "- 웹브라우저를 사용할 겨우 유튜브 링크를 넣을 수 있다."
      ]
    },
    {
      "cell_type": "code",
      "execution_count": null,
      "id": "36045bf2",
      "metadata": {
        "scrolled": true,
        "id": "36045bf2"
      },
      "outputs": [],
      "source": [
        "import folium\n",
        "import webbrowser\n",
        "\n",
        "# 지도 중심좌표 지정하기\n",
        "center = [37.559984, 126.9753071]  # 숭례문 위도&경도\n",
        "\n",
        "# 지도 객체 만들기\n",
        "m = folium.Map(location=center , zoom_start=16)\n",
        "\n",
        "# 지도에 마커로 표시하기\n",
        "folium.Marker(location = center, max_width=200,\n",
        "              popup = '<iframe width=\"560\" height=\"315\" src=\"https://www.youtube.com/embed/gSWohjyQ3Bs\" title=\"YouTube video player\" frameborder=\"0\" allow=\"accelerometer; autoplay; clipboard-write; encrypted-media; gyroscope; picture-in-picture\" allowfullscreen></iframe>',\n",
        "              icon=folium.Icon(color='red', icon='star')\n",
        ").add_to(m)\n",
        "\n",
        "m"
      ]
    },
    {
      "cell_type": "markdown",
      "id": "1bd18a72",
      "metadata": {
        "id": "1bd18a72"
      },
      "source": [
        "### [실습문제]\n",
        "**여행가고 싶은 장소(국내외)를 지도에 다른 색상 마커로 표시하기**\n",
        "자신이 가고 싶은 여행지 3곳 이상을 folium 지도에 표시해 보세요. 단, 마커 모양과 색상은 모두가 다르게 표시되도록 아이콘을 변경해 주세요.\n",
        "\n",
        "- tiles='Mapbox'\n",
        "> - Stamen Terrain: 녹색 지도\n",
        "> - Stamen Toner: 흑백 토너"
      ]
    },
    {
      "cell_type": "code",
      "execution_count": null,
      "id": "cf040a61",
      "metadata": {
        "id": "cf040a61"
      },
      "outputs": [],
      "source": [
        "# 여행지와 아이콘, 아이콘 색상 지정\n",
        "buckets = {장소1: [위도, 경도],\n",
        "           장소2: [위도, 경도],\n",
        "           장소3: [위도, 경도],\n",
        "           장소4: [위도, 경도],\n",
        "           장소5: [위도, 경도] }\n",
        "icons  = ['star','cloud','info-sign','camera','glyphicon glyphicon-thumbs-up']\n",
        "colors = ['red', 'purple', 'blue', 'green','black']\n",
        "\n",
        "\n",
        "# 지도 중심 객체 만들기\n",
        "m = folium.Map(location= [중심위도, 중심경도],\n",
        "               zoom_start=2,\n",
        "               tiles='Stamen Terrain')\n",
        "\n",
        "\n",
        "# 지도에 마커 표시하기\n",
        "\n",
        "\n",
        "\n",
        "\n",
        "# html 파일 저장하고 열기\n",
        "\n",
        "\n"
      ]
    },
    {
      "cell_type": "markdown",
      "id": "0f9577d8",
      "metadata": {
        "id": "0f9577d8"
      },
      "source": [
        "### [참고예제] Pandas를 이용하여 (위치정보)파일 읽어 다수개 마커 표시하는 방법"
      ]
    },
    {
      "cell_type": "code",
      "execution_count": null,
      "id": "3bac6f5c",
      "metadata": {
        "id": "3bac6f5c"
      },
      "outputs": [],
      "source": [
        "import folium\n",
        "import webbrowser\n",
        "import pandas as pd\n",
        "\n",
        "# 지도 (중심) 객체 만들기\n",
        "center = [중심위도, 중심경도]\n",
        "m = folium.Map(location=center, zoom_start=8)\n",
        "\n",
        "\n",
        "# Pandas로 (위치정보) 파일 읽어오기\n",
        "\n",
        "\n",
        "\n",
        "# DataFrame의 Row를 반복해서 읽어와 지도에 마커 추가하기\n",
        "for row in df.iterrows():\n",
        "    # DataFrame에서 위도&경도 컬럼 읽어서 location에 지정하기지정하기\n",
        "    folium.Marker(location= [row[위도컬럼], row[경도컬럼],\n",
        "            popup = row[제목컬럼]],\n",
        "            icon  = folium.Icon(icon=아이콘, color=아이콘색상, icon_color='white'),\n",
        "    ).add_to(m)\n",
        "\n",
        "# html 파일 저장하고 열기\n",
        "\n"
      ]
    },
    {
      "cell_type": "markdown",
      "id": "99676470",
      "metadata": {
        "id": "99676470"
      },
      "source": [
        "-------------------------"
      ]
    },
    {
      "cell_type": "markdown",
      "id": "5679f7f3",
      "metadata": {
        "id": "5679f7f3"
      },
      "source": [
        "## 02.지도에 의미 있는 데이터 분포 표현하기"
      ]
    },
    {
      "cell_type": "markdown",
      "id": "588917f0",
      "metadata": {
        "id": "588917f0"
      },
      "source": [
        "### [실습] : 우리나라 행정구역 경계 지도에 표시하기\n",
        "folium 지도에 행정구역 경계를 표시하기 위해서는 우선 행정구역의 경계 위치 좌표 값이 표시된  geoJson 데이터가 필요합니다. 이를 위해 아래와 같이 이미 배포된 파일을 사용합니다."
      ]
    },
    {
      "cell_type": "markdown",
      "id": "c8423973",
      "metadata": {
        "id": "c8423973"
      },
      "source": [
        "#### #대한민국 행정구역 경계 geoJson 파일 확인하기\n",
        "- 파일 다운로드: https://github.com/southkorea/southkorea-maps  > /kostat/2018/json/\n",
        "- 다운로드된 파일 위치 : **C:\\python\\projectmanager\\data\\** <br>\n",
        "\n",
        "     - skorea-provinces-geo.json  (시/도 경계 )\n",
        "     - skorea-municipalities-geo.json  (시/군/구 경계)\n",
        "     - skorea-submunicipalities-geo.json  (읍/면/동 경계)"
      ]
    },
    {
      "cell_type": "code",
      "execution_count": null,
      "id": "639e5cb1",
      "metadata": {
        "id": "639e5cb1"
      },
      "outputs": [],
      "source": [
        "import folium\n",
        "import json\n",
        "import webbrowser\n",
        "\n",
        "# 지도 객체 만들기\n",
        "m = folium.Map(location=[37.566345, 126.977893], zoom_start=7)\n",
        "\n",
        "\n",
        "# GeoJson 파일 불러오기\n",
        "file = './data/skorea-provinces-geo.json'         # 대한민국 시도 경계 정보\n",
        "# file = './data/skorea-municipalities-geo.json'    # 대한민국 시군구 경계 정보\n",
        "# file = './data/skorea-submunicipalities-geo.json' # 대한민국 시군구 읍면동 경계 정보\n",
        "data = open(file, 'r', encoding='utf-8').read() # 파일 열어서 읽어오기\n",
        "geo_data = json.loads(data)                     # json 형태로 불러오기\n",
        "\n",
        "\n",
        "# 지도에 GeoJson 정보를 표현하기\n",
        "folium.GeoJson(geo_data,          # GeoJson 정보를 담고 있는 변수이름\n",
        "               name='json_data'\n",
        ").add_to(m)\n",
        "\n",
        "\n",
        "# 지도 정도 html파일로 저장하고 웹 브라우저에서 열기\n",
        "m.save('./data/map_provinces.html')\n",
        "webbrowser.open('c:/python/projectmanager/data/map_provinces.html')"
      ]
    },
    {
      "cell_type": "markdown",
      "id": "fbc32bb1",
      "metadata": {
        "id": "fbc32bb1"
      },
      "source": [
        "### [실습] : 우리나라 행정구역별 의미 있는 색상 칠하기\n",
        "- 행정구역 데이터 : skorea-provinces-geo.json\n",
        "- 행정구역별 인구 데이터 : 행정구역별-인구현황.csv\n",
        "- 행정구역별 인구 데이터 조회 및 다운로드 : https://jumin.mois.go.kr/에서 2022년 데이터 검색"
      ]
    },
    {
      "cell_type": "code",
      "execution_count": null,
      "id": "4122dd56",
      "metadata": {
        "id": "4122dd56"
      },
      "outputs": [],
      "source": [
        "import folium\n",
        "import json\n",
        "import webbrowser\n",
        "import pandas as pd\n",
        "\n",
        "# 1.지도 객체 만들기\n",
        "m = folium.Map(location=[37.566345, 126.977893], zoom_start=7, tiles=\"Stamen Toner\")\n",
        "\n",
        "\n",
        "# 2.GeoJson 파일 불러오기\n",
        "file = './data/skorea-provinces-geo.json'         # 대한민국 시도 경계 정보\n",
        "data = open(file, 'r', encoding='utf-8').read() # 파일 열어서 읽어오기\n",
        "geo_data = json.loads(data)                     # json 형태로 불러오기\n",
        "\n",
        "\n",
        "# 3.행정구열별 숫자 데이터 불러오기\n",
        "file = './data/행정구역별-인구현황.csv'\n",
        "df = pd.read_csv(file, encoding = 'cp949')\n",
        "df\n",
        "df.info()\n",
        "\n",
        "\n",
        "# 4.지도 경계별 색상 칠하기\n",
        "# folium.Choropleth(\n",
        "#     geo_data=geo_data,\n",
        "#     name='json_data',\n",
        "#     data=df,\n",
        "#     columns=('지역', '인구'),\n",
        "#     key_on='feature.properties.name',\n",
        "#     fill_color='YlOrRd',  #Greens\n",
        "#     legend_name='인구'\n",
        "# ).add_to(m)\n",
        "folium.Choropleth(\n",
        "    geo_data=geo_data, name='json_data',\n",
        "    data=df, columns=('지역', '인구'), legend_name='인구',\n",
        "    key_on='feature.properties.name', fill_color='YlOrRd'\n",
        ").add_to(m)\n",
        "\n",
        "\n",
        "# 지도 정보를 html파일로 저장하고 웹 브라우저에서 열기\n",
        "m.save('./data/map_provinces_color.html')\n",
        "webbrowser.open('c:/python/projectmanager/data/map_provinces_color.html')"
      ]
    },
    {
      "cell_type": "markdown",
      "id": "e7d82b50",
      "metadata": {
        "id": "e7d82b50"
      },
      "source": [
        "------------------"
      ]
    },
    {
      "cell_type": "markdown",
      "id": "e2c9e0ad",
      "metadata": {
        "id": "e2c9e0ad"
      },
      "source": [
        "### [실습문제]\n",
        "- **지역별 구씨 현황(family_name_goo.csv) 데이터 분포 지도에 시각화 하기**"
      ]
    },
    {
      "cell_type": "code",
      "execution_count": null,
      "id": "54d45013",
      "metadata": {
        "id": "54d45013"
      },
      "outputs": [],
      "source": [
        "import pandas as pd\n",
        "import folium\n",
        "import json\n",
        "import webbrowser\n",
        "\n",
        "# 1.지도 객체 만들기\n",
        "m = folium.Map(location=[37.566345, 126.977893], zoom_start=7, tiles=\"Stamen Terrain\")\n",
        "\n",
        "\n",
        "# 2.GeoJson 파일 불러오기\n",
        "file = './data/skorea-provinces-geo.json'          # 대한민국 시도\n",
        "data = open(file, 'r', encoding='utf-8').read()\n",
        "geo_data = json.loads(data)\n",
        "geo_data\n",
        "\n",
        "\n",
        "# 3.지역별 구씨 정보 가져오기\n",
        "file = './data/family_name_goo.csv'\n",
        "df = pd.read_csv(file, encoding = 'cp949')\n",
        "\n",
        "\n",
        "# 4.지도 경계별 색상 칠하기\n",
        "folium.Choropleth(\n",
        "    geo_data=geo_data,\n",
        "    name='json_data',\n",
        "    data=df,\n",
        "    columns=('지역', '인구'),\n",
        "    key_on='feature.properties.name',\n",
        "    fill_color='viridis',\n",
        "    legend_name='인구',\n",
        ").add_to(m)\n",
        "\n",
        "# 5.데이터 분포 지도를 출력한다.\n",
        "m.save('./data/family_goo_map.html')\n",
        "webbrowser.open('c:/python/projectmanager/data/family_goo_map.html') # fullpath를 사용해야 오류가 없다"
      ]
    },
    {
      "cell_type": "markdown",
      "id": "01972598",
      "metadata": {
        "id": "01972598"
      },
      "source": [
        "-----------------------------------------"
      ]
    },
    {
      "cell_type": "markdown",
      "id": "84cfc183",
      "metadata": {
        "id": "84cfc183"
      },
      "source": [
        "THE END"
      ]
    }
  ],
  "metadata": {
    "kernelspec": {
      "display_name": "Python 3 (ipykernel)",
      "language": "python",
      "name": "python3"
    },
    "language_info": {
      "codemirror_mode": {
        "name": "ipython",
        "version": 3
      },
      "file_extension": ".py",
      "mimetype": "text/x-python",
      "name": "python",
      "nbconvert_exporter": "python",
      "pygments_lexer": "ipython3",
      "version": "3.10.9"
    },
    "vscode": {
      "interpreter": {
        "hash": "b41e41bff03a930185ac2cbea60ce521f7c8c2f5401ceb5c30214081f77ab4f5"
      }
    },
    "colab": {
      "provenance": [],
      "include_colab_link": true
    }
  },
  "nbformat": 4,
  "nbformat_minor": 5
}