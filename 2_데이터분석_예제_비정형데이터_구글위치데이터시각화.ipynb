{
  "cells": [
    {
      "cell_type": "markdown",
      "metadata": {
        "id": "view-in-github",
        "colab_type": "text"
      },
      "source": [
        "<a href=\"https://colab.research.google.com/github/susuusub/projectmanager/blob/main/2_%EB%8D%B0%EC%9D%B4%ED%84%B0%EB%B6%84%EC%84%9D_%EC%98%88%EC%A0%9C_%EB%B9%84%EC%A0%95%ED%98%95%EB%8D%B0%EC%9D%B4%ED%84%B0_%EA%B5%AC%EA%B8%80%EC%9C%84%EC%B9%98%EB%8D%B0%EC%9D%B4%ED%84%B0%EC%8B%9C%EA%B0%81%ED%99%94.ipynb\" target=\"_parent\"><img src=\"https://colab.research.google.com/assets/colab-badge.svg\" alt=\"Open In Colab\"/></a>"
      ]
    },
    {
      "cell_type": "markdown",
      "id": "23ea32cb",
      "metadata": {
        "id": "23ea32cb"
      },
      "source": [
        "# (나의) 구글 Location History 데이터 지도에 표시하기"
      ]
    },
    {
      "cell_type": "markdown",
      "id": "f3023518",
      "metadata": {
        "id": "f3023518"
      },
      "source": [
        "-------------------------------"
      ]
    },
    {
      "cell_type": "markdown",
      "id": "70d01b40",
      "metadata": {
        "id": "70d01b40"
      },
      "source": [
        "### 지도 라이브러리"
      ]
    },
    {
      "cell_type": "code",
      "execution_count": 1,
      "id": "fd2285cb",
      "metadata": {
        "scrolled": false,
        "colab": {
          "base_uri": "https://localhost:8080/"
        },
        "id": "fd2285cb",
        "outputId": "05d556fb-8cca-4d7a-9ac8-00869eefd850"
      },
      "outputs": [
        {
          "output_type": "stream",
          "name": "stdout",
          "text": [
            "Requirement already satisfied: folium in /usr/local/lib/python3.10/dist-packages (0.14.0)\n",
            "Requirement already satisfied: branca>=0.6.0 in /usr/local/lib/python3.10/dist-packages (from folium) (0.6.0)\n",
            "Requirement already satisfied: jinja2>=2.9 in /usr/local/lib/python3.10/dist-packages (from folium) (3.1.2)\n",
            "Requirement already satisfied: numpy in /usr/local/lib/python3.10/dist-packages (from folium) (1.23.5)\n",
            "Requirement already satisfied: requests in /usr/local/lib/python3.10/dist-packages (from folium) (2.31.0)\n",
            "Requirement already satisfied: MarkupSafe>=2.0 in /usr/local/lib/python3.10/dist-packages (from jinja2>=2.9->folium) (2.1.3)\n",
            "Requirement already satisfied: charset-normalizer<4,>=2 in /usr/local/lib/python3.10/dist-packages (from requests->folium) (3.2.0)\n",
            "Requirement already satisfied: idna<4,>=2.5 in /usr/local/lib/python3.10/dist-packages (from requests->folium) (3.4)\n",
            "Requirement already satisfied: urllib3<3,>=1.21.1 in /usr/local/lib/python3.10/dist-packages (from requests->folium) (2.0.4)\n",
            "Requirement already satisfied: certifi>=2017.4.17 in /usr/local/lib/python3.10/dist-packages (from requests->folium) (2023.7.22)\n"
          ]
        }
      ],
      "source": [
        "!pip install folium"
      ]
    },
    {
      "cell_type": "code",
      "execution_count": 2,
      "id": "1eea0171",
      "metadata": {
        "colab": {
          "base_uri": "https://localhost:8080/",
          "height": 35
        },
        "id": "1eea0171",
        "outputId": "3ca0a6a9-a56d-4a49-cc5e-d0ba4a13eea6"
      },
      "outputs": [
        {
          "output_type": "execute_result",
          "data": {
            "text/plain": [
              "'0.14.0'"
            ],
            "application/vnd.google.colaboratory.intrinsic+json": {
              "type": "string"
            }
          },
          "metadata": {},
          "execution_count": 2
        }
      ],
      "source": [
        "import folium\n",
        "\n",
        "folium.__version__"
      ]
    },
    {
      "cell_type": "code",
      "execution_count": 3,
      "id": "76a4d7d3",
      "metadata": {
        "scrolled": true,
        "colab": {
          "base_uri": "https://localhost:8080/",
          "height": 519
        },
        "id": "76a4d7d3",
        "outputId": "7aa45c47-e000-47d0-d7e2-0c0df6802d7d"
      },
      "outputs": [
        {
          "output_type": "execute_result",
          "data": {
            "text/plain": [
              "<folium.folium.Map at 0x7aec2c1130a0>"
            ],
            "text/html": [
              "<div style=\"width:100%;\"><div style=\"position:relative;width:100%;height:0;padding-bottom:60%;\"><span style=\"color:#565656\">Make this Notebook Trusted to load map: File -> Trust Notebook</span><iframe srcdoc=\"&lt;!DOCTYPE html&gt;\n",
              "&lt;html&gt;\n",
              "&lt;head&gt;\n",
              "    \n",
              "    &lt;meta http-equiv=&quot;content-type&quot; content=&quot;text/html; charset=UTF-8&quot; /&gt;\n",
              "    \n",
              "        &lt;script&gt;\n",
              "            L_NO_TOUCH = false;\n",
              "            L_DISABLE_3D = false;\n",
              "        &lt;/script&gt;\n",
              "    \n",
              "    &lt;style&gt;html, body {width: 100%;height: 100%;margin: 0;padding: 0;}&lt;/style&gt;\n",
              "    &lt;style&gt;#map {position:absolute;top:0;bottom:0;right:0;left:0;}&lt;/style&gt;\n",
              "    &lt;script src=&quot;https://cdn.jsdelivr.net/npm/leaflet@1.9.3/dist/leaflet.js&quot;&gt;&lt;/script&gt;\n",
              "    &lt;script src=&quot;https://code.jquery.com/jquery-1.12.4.min.js&quot;&gt;&lt;/script&gt;\n",
              "    &lt;script src=&quot;https://cdn.jsdelivr.net/npm/bootstrap@5.2.2/dist/js/bootstrap.bundle.min.js&quot;&gt;&lt;/script&gt;\n",
              "    &lt;script src=&quot;https://cdnjs.cloudflare.com/ajax/libs/Leaflet.awesome-markers/2.0.2/leaflet.awesome-markers.js&quot;&gt;&lt;/script&gt;\n",
              "    &lt;link rel=&quot;stylesheet&quot; href=&quot;https://cdn.jsdelivr.net/npm/leaflet@1.9.3/dist/leaflet.css&quot;/&gt;\n",
              "    &lt;link rel=&quot;stylesheet&quot; href=&quot;https://cdn.jsdelivr.net/npm/bootstrap@5.2.2/dist/css/bootstrap.min.css&quot;/&gt;\n",
              "    &lt;link rel=&quot;stylesheet&quot; href=&quot;https://netdna.bootstrapcdn.com/bootstrap/3.0.0/css/bootstrap.min.css&quot;/&gt;\n",
              "    &lt;link rel=&quot;stylesheet&quot; href=&quot;https://cdn.jsdelivr.net/npm/@fortawesome/fontawesome-free@6.2.0/css/all.min.css&quot;/&gt;\n",
              "    &lt;link rel=&quot;stylesheet&quot; href=&quot;https://cdnjs.cloudflare.com/ajax/libs/Leaflet.awesome-markers/2.0.2/leaflet.awesome-markers.css&quot;/&gt;\n",
              "    &lt;link rel=&quot;stylesheet&quot; href=&quot;https://cdn.jsdelivr.net/gh/python-visualization/folium/folium/templates/leaflet.awesome.rotate.min.css&quot;/&gt;\n",
              "    \n",
              "            &lt;meta name=&quot;viewport&quot; content=&quot;width=device-width,\n",
              "                initial-scale=1.0, maximum-scale=1.0, user-scalable=no&quot; /&gt;\n",
              "            &lt;style&gt;\n",
              "                #map_6c75ae98d8aecbd8829f814d319725b7 {\n",
              "                    position: relative;\n",
              "                    width: 100.0%;\n",
              "                    height: 100.0%;\n",
              "                    left: 0.0%;\n",
              "                    top: 0.0%;\n",
              "                }\n",
              "                .leaflet-container { font-size: 1rem; }\n",
              "            &lt;/style&gt;\n",
              "        \n",
              "&lt;/head&gt;\n",
              "&lt;body&gt;\n",
              "    \n",
              "    \n",
              "            &lt;div class=&quot;folium-map&quot; id=&quot;map_6c75ae98d8aecbd8829f814d319725b7&quot; &gt;&lt;/div&gt;\n",
              "        \n",
              "&lt;/body&gt;\n",
              "&lt;script&gt;\n",
              "    \n",
              "    \n",
              "            var map_6c75ae98d8aecbd8829f814d319725b7 = L.map(\n",
              "                &quot;map_6c75ae98d8aecbd8829f814d319725b7&quot;,\n",
              "                {\n",
              "                    center: [37.5393556, 127.0667081],\n",
              "                    crs: L.CRS.EPSG3857,\n",
              "                    zoom: 16,\n",
              "                    zoomControl: true,\n",
              "                    preferCanvas: false,\n",
              "                }\n",
              "            );\n",
              "\n",
              "            \n",
              "\n",
              "        \n",
              "    \n",
              "            var tile_layer_0a15a763f29143aa7a6d927a9354fa83 = L.tileLayer(\n",
              "                &quot;https://{s}.tile.openstreetmap.org/{z}/{x}/{y}.png&quot;,\n",
              "                {&quot;attribution&quot;: &quot;Data by \\u0026copy; \\u003ca target=\\&quot;_blank\\&quot; href=\\&quot;http://openstreetmap.org\\&quot;\\u003eOpenStreetMap\\u003c/a\\u003e, under \\u003ca target=\\&quot;_blank\\&quot; href=\\&quot;http://www.openstreetmap.org/copyright\\&quot;\\u003eODbL\\u003c/a\\u003e.&quot;, &quot;detectRetina&quot;: false, &quot;maxNativeZoom&quot;: 18, &quot;maxZoom&quot;: 18, &quot;minZoom&quot;: 0, &quot;noWrap&quot;: false, &quot;opacity&quot;: 1, &quot;subdomains&quot;: &quot;abc&quot;, &quot;tms&quot;: false}\n",
              "            ).addTo(map_6c75ae98d8aecbd8829f814d319725b7);\n",
              "        \n",
              "    \n",
              "            var marker_fef86a6557fb79133a8f3d6cd79e4ae0 = L.marker(\n",
              "                [37.5393556, 127.0667081],\n",
              "                {}\n",
              "            ).addTo(map_6c75ae98d8aecbd8829f814d319725b7);\n",
              "        \n",
              "    \n",
              "            var icon_ef890357547179a276b4955c05d367ef = L.AwesomeMarkers.icon(\n",
              "                {&quot;extraClasses&quot;: &quot;fa-rotate-0&quot;, &quot;icon&quot;: &quot;star&quot;, &quot;iconColor&quot;: &quot;white&quot;, &quot;markerColor&quot;: &quot;red&quot;, &quot;prefix&quot;: &quot;glyphicon&quot;}\n",
              "            );\n",
              "            marker_fef86a6557fb79133a8f3d6cd79e4ae0.setIcon(icon_ef890357547179a276b4955c05d367ef);\n",
              "        \n",
              "    \n",
              "        var popup_a1dc4640a22cd4f297c32694e020240f = L.popup({&quot;maxWidth&quot;: &quot;100%&quot;});\n",
              "\n",
              "        \n",
              "            \n",
              "                var html_f7628e68ce3175fa857e054355ca3f72 = $(`&lt;div id=&quot;html_f7628e68ce3175fa857e054355ca3f72&quot; style=&quot;width: 100.0%; height: 100.0%;&quot;&gt;동부여성발전센터&lt;/div&gt;`)[0];\n",
              "                popup_a1dc4640a22cd4f297c32694e020240f.setContent(html_f7628e68ce3175fa857e054355ca3f72);\n",
              "            \n",
              "        \n",
              "\n",
              "        marker_fef86a6557fb79133a8f3d6cd79e4ae0.bindPopup(popup_a1dc4640a22cd4f297c32694e020240f)\n",
              "        ;\n",
              "\n",
              "        \n",
              "    \n",
              "&lt;/script&gt;\n",
              "&lt;/html&gt;\" style=\"position:absolute;width:100%;height:100%;left:0;top:0;border:none !important;\" allowfullscreen webkitallowfullscreen mozallowfullscreen></iframe></div></div>"
            ]
          },
          "metadata": {},
          "execution_count": 3
        }
      ],
      "source": [
        "import folium\n",
        "\n",
        "#------------------\n",
        "# 중심위치 [위도,경도]=[Latitude, longitude]\n",
        "#------------------\n",
        "m = folium.Map(location = [37.5393556, 127.0667081],\n",
        "               zoom_start=16)\n",
        "\n",
        "# 마커 표시하기\n",
        "folium.Marker(location = [37.5393556, 127.0667081],\n",
        "              popup = '동부여성발전센터',\n",
        "              icon=folium.Icon(color='red', icon='star')\n",
        ").add_to(m)\n",
        "m"
      ]
    },
    {
      "cell_type": "markdown",
      "id": "f24b7ddd",
      "metadata": {
        "id": "f24b7ddd"
      },
      "source": [
        "## [실습] (나의) 구글 Location History 데이터 지도에 표시하기\n"
      ]
    },
    {
      "cell_type": "markdown",
      "id": "5d8b361a",
      "metadata": {
        "id": "5d8b361a"
      },
      "source": [
        "### 1. 구글 Location History 데이터 다운로드\n",
        "- 구글 크롬 브라우저에 로그인 된 상태에서\n",
        "- https://takeout.google.com/settings/takeout 사이트로 이동하기\n",
        "- 모두 체크를 해제시키고 **[위치 기록]** 만 체크표시하고\n",
        "- takeout~.zip 파일이 다운로드 된다."
      ]
    },
    {
      "cell_type": "markdown",
      "id": "d09758cd",
      "metadata": {
        "id": "d09758cd"
      },
      "source": [
        "### 2. 필요한 라이브러리 설치하기\n",
        "설치시 오류가 발생하면 윈도우 명령프롬프트창에서 timezonefinder 설치를 진행해 본다."
      ]
    },
    {
      "cell_type": "code",
      "execution_count": 4,
      "id": "a69de2e3",
      "metadata": {
        "colab": {
          "base_uri": "https://localhost:8080/",
          "height": 35
        },
        "id": "a69de2e3",
        "outputId": "7d87bd6a-84f1-40ea-8e4e-eedc0e38293d"
      },
      "outputs": [
        {
          "output_type": "execute_result",
          "data": {
            "text/plain": [
              "'1.23.5'"
            ],
            "application/vnd.google.colaboratory.intrinsic+json": {
              "type": "string"
            }
          },
          "metadata": {},
          "execution_count": 4
        }
      ],
      "source": [
        "import numpy as np\n",
        "\n",
        "np.__version__"
      ]
    },
    {
      "cell_type": "code",
      "execution_count": 5,
      "id": "a6868f32",
      "metadata": {
        "collapsed": true,
        "colab": {
          "base_uri": "https://localhost:8080/"
        },
        "id": "a6868f32",
        "outputId": "cf2525c3-1902-4ec9-ee71-4d15614bb713"
      },
      "outputs": [
        {
          "output_type": "stream",
          "name": "stdout",
          "text": [
            "Collecting timezonefinder\n",
            "  Downloading timezonefinder-6.2.0.tar.gz (46.9 MB)\n",
            "\u001b[2K     \u001b[90m━━━━━━━━━━━━━━━━━━━━━━━━━━━━━━━━━━━━━━━━\u001b[0m \u001b[32m46.9/46.9 MB\u001b[0m \u001b[31m17.9 MB/s\u001b[0m eta \u001b[36m0:00:00\u001b[0m\n",
            "\u001b[?25h  Installing build dependencies ... \u001b[?25l\u001b[?25hdone\n",
            "  Getting requirements to build wheel ... \u001b[?25l\u001b[?25hdone\n",
            "  Preparing metadata (pyproject.toml) ... \u001b[?25l\u001b[?25hdone\n",
            "Requirement already satisfied: cffi<2,>=1.15.1 in /usr/local/lib/python3.10/dist-packages (from timezonefinder) (1.15.1)\n",
            "Collecting h3<4,>=3.7.6 (from timezonefinder)\n",
            "  Downloading h3-3.7.6-cp310-cp310-manylinux_2_17_x86_64.manylinux2014_x86_64.whl (1.1 MB)\n",
            "\u001b[2K     \u001b[90m━━━━━━━━━━━━━━━━━━━━━━━━━━━━━━━━━━━━━━━━\u001b[0m \u001b[32m1.1/1.1 MB\u001b[0m \u001b[31m43.4 MB/s\u001b[0m eta \u001b[36m0:00:00\u001b[0m\n",
            "\u001b[?25hRequirement already satisfied: numpy<2,>=1.18 in /usr/local/lib/python3.10/dist-packages (from timezonefinder) (1.23.5)\n",
            "Requirement already satisfied: setuptools>=65.5 in /usr/local/lib/python3.10/dist-packages (from timezonefinder) (67.7.2)\n",
            "Requirement already satisfied: pycparser in /usr/local/lib/python3.10/dist-packages (from cffi<2,>=1.15.1->timezonefinder) (2.21)\n",
            "Building wheels for collected packages: timezonefinder\n",
            "  Building wheel for timezonefinder (pyproject.toml) ... \u001b[?25l\u001b[?25hdone\n",
            "  Created wheel for timezonefinder: filename=timezonefinder-6.2.0-cp310-cp310-manylinux_2_35_x86_64.whl size=46900628 sha256=044411f2798529fb79f40dccb575017d7916c6cf619b6ba02d52958c5926407a\n",
            "  Stored in directory: /root/.cache/pip/wheels/17/19/d4/ae94459b7f74f7e8f171862d1c08adedf9b7c76ddfc514a620\n",
            "Successfully built timezonefinder\n",
            "Installing collected packages: h3, timezonefinder\n",
            "Successfully installed h3-3.7.6 timezonefinder-6.2.0\n"
          ]
        }
      ],
      "source": [
        "!pip install timezonefinder"
      ]
    },
    {
      "cell_type": "code",
      "execution_count": 6,
      "id": "f189a120",
      "metadata": {
        "colab": {
          "base_uri": "https://localhost:8080/",
          "height": 35
        },
        "id": "f189a120",
        "outputId": "42466f82-7a8a-4ee5-b84e-10b207a06c75"
      },
      "outputs": [
        {
          "output_type": "execute_result",
          "data": {
            "text/plain": [
              "'Asia/Seoul'"
            ],
            "application/vnd.google.colaboratory.intrinsic+json": {
              "type": "string"
            }
          },
          "metadata": {},
          "execution_count": 6
        }
      ],
      "source": [
        "# 경도, 위도값으로 시간대 정보 가져오기\n",
        "from timezonefinder import TimezoneFinder\n",
        "\n",
        "tzf= TimezoneFinder()\n",
        "tz = tzf.timezone_at(lng=128, lat=38)  # 'Asia/Seoul'\n",
        "#tz = tzf.timezone_at(lng=13.358, lat=52.5061)  # 'Europe/Berlin'\n",
        "tz"
      ]
    },
    {
      "cell_type": "markdown",
      "id": "290641e2",
      "metadata": {
        "id": "290641e2"
      },
      "source": [
        "### 3.나의 Local History데이터 정보를 딕셔너리타입으로 변환하기"
      ]
    },
    {
      "cell_type": "code",
      "execution_count": 7,
      "id": "704dcef2",
      "metadata": {
        "id": "704dcef2"
      },
      "outputs": [],
      "source": [
        "from zipfile import ZipFile\n",
        "import pandas as pd\n",
        "import json\n",
        "from timezonefinder import TimezoneFinder"
      ]
    },
    {
      "cell_type": "code",
      "execution_count": 9,
      "id": "e3249433",
      "metadata": {
        "colab": {
          "base_uri": "https://localhost:8080/",
          "height": 386
        },
        "id": "e3249433",
        "outputId": "a2c85a24-5b90-46d9-9ce4-bdef078f3d36"
      },
      "outputs": [
        {
          "output_type": "error",
          "ename": "FileNotFoundError",
          "evalue": "ignored",
          "traceback": [
            "\u001b[0;31m---------------------------------------------------------------------------\u001b[0m",
            "\u001b[0;31mFileNotFoundError\u001b[0m                         Traceback (most recent call last)",
            "\u001b[0;32m<ipython-input-9-416a101b5320>\u001b[0m in \u001b[0;36m<cell line: 8>\u001b[0;34m()\u001b[0m\n\u001b[1;32m      6\u001b[0m \u001b[0mplace_visits\u001b[0m \u001b[0;34m=\u001b[0m \u001b[0;34m[\u001b[0m\u001b[0;34m]\u001b[0m\u001b[0;34m\u001b[0m\u001b[0;34m\u001b[0m\u001b[0m\n\u001b[1;32m      7\u001b[0m \u001b[0;34m\u001b[0m\u001b[0m\n\u001b[0;32m----> 8\u001b[0;31m \u001b[0;32mwith\u001b[0m \u001b[0mZipFile\u001b[0m\u001b[0;34m(\u001b[0m\u001b[0min_file\u001b[0m\u001b[0;34m)\u001b[0m \u001b[0;32mas\u001b[0m \u001b[0mmyzip\u001b[0m\u001b[0;34m:\u001b[0m\u001b[0;34m\u001b[0m\u001b[0;34m\u001b[0m\u001b[0m\n\u001b[0m\u001b[1;32m      9\u001b[0m     \u001b[0;32mfor\u001b[0m \u001b[0mfile\u001b[0m \u001b[0;32min\u001b[0m \u001b[0mmyzip\u001b[0m\u001b[0;34m.\u001b[0m\u001b[0mfilelist\u001b[0m\u001b[0;34m[\u001b[0m\u001b[0;34m:\u001b[0m\u001b[0;34m]\u001b[0m\u001b[0;34m:\u001b[0m\u001b[0;34m\u001b[0m\u001b[0;34m\u001b[0m\u001b[0m\n\u001b[1;32m     10\u001b[0m         \u001b[0mfilename\u001b[0m \u001b[0;34m=\u001b[0m \u001b[0mfile\u001b[0m\u001b[0;34m.\u001b[0m\u001b[0mfilename\u001b[0m\u001b[0;34m\u001b[0m\u001b[0;34m\u001b[0m\u001b[0m\n",
            "\u001b[0;32m/usr/lib/python3.10/zipfile.py\u001b[0m in \u001b[0;36m__init__\u001b[0;34m(self, file, mode, compression, allowZip64, compresslevel, strict_timestamps)\u001b[0m\n\u001b[1;32m   1249\u001b[0m             \u001b[0;32mwhile\u001b[0m \u001b[0;32mTrue\u001b[0m\u001b[0;34m:\u001b[0m\u001b[0;34m\u001b[0m\u001b[0;34m\u001b[0m\u001b[0m\n\u001b[1;32m   1250\u001b[0m                 \u001b[0;32mtry\u001b[0m\u001b[0;34m:\u001b[0m\u001b[0;34m\u001b[0m\u001b[0;34m\u001b[0m\u001b[0m\n\u001b[0;32m-> 1251\u001b[0;31m                     \u001b[0mself\u001b[0m\u001b[0;34m.\u001b[0m\u001b[0mfp\u001b[0m \u001b[0;34m=\u001b[0m \u001b[0mio\u001b[0m\u001b[0;34m.\u001b[0m\u001b[0mopen\u001b[0m\u001b[0;34m(\u001b[0m\u001b[0mfile\u001b[0m\u001b[0;34m,\u001b[0m \u001b[0mfilemode\u001b[0m\u001b[0;34m)\u001b[0m\u001b[0;34m\u001b[0m\u001b[0;34m\u001b[0m\u001b[0m\n\u001b[0m\u001b[1;32m   1252\u001b[0m                 \u001b[0;32mexcept\u001b[0m \u001b[0mOSError\u001b[0m\u001b[0;34m:\u001b[0m\u001b[0;34m\u001b[0m\u001b[0;34m\u001b[0m\u001b[0m\n\u001b[1;32m   1253\u001b[0m                     \u001b[0;32mif\u001b[0m \u001b[0mfilemode\u001b[0m \u001b[0;32min\u001b[0m \u001b[0mmodeDict\u001b[0m\u001b[0;34m:\u001b[0m\u001b[0;34m\u001b[0m\u001b[0;34m\u001b[0m\u001b[0m\n",
            "\u001b[0;31mFileNotFoundError\u001b[0m: [Errno 2] No such file or directory: 'data/takeout-20230828T092131Z-001.zip'"
          ]
        }
      ],
      "source": [
        "# Google Location History takeout file\n",
        "in_file = \"./sample_data/takeout-20230828T092131Z-001.zip\"\n",
        "out_file = \"./sample_data/place_visits.csv\"\n",
        "\n",
        "# store all places into this array\n",
        "place_visits = []\n",
        "\n",
        "with ZipFile(in_file) as myzip:\n",
        "    for file in myzip.filelist[:]:\n",
        "        filename = file.filename\n",
        "\n",
        "        if \"Semantic Location History\" in filename:\n",
        "            # process all files in \"Semantic Location History\" directory\n",
        "            history_json = json.load(myzip.open(filename))\n",
        "\n",
        "            for timeline_object in history_json[\"timelineObjects\"]:\n",
        "\n",
        "                if \"placeVisit\" in timeline_object:\n",
        "                    place_visit_json = timeline_object[\"placeVisit\"]\n",
        "\n",
        "                    # 위도.경도 값 없으면 skip\n",
        "                    if not \"location\" in place_visit_json or not \"latitudeE7\" in place_visit_json[\"location\"]:\n",
        "                        continue\n",
        "\n",
        "                    place_visit = {\n",
        "                        \"placeId\": place_visit_json[\"location\"][\"placeId\"],\n",
        "                        \"locationConfidence\": place_visit_json[\"location\"][\"locationConfidence\"],\n",
        "                        \"startTimestamp\": place_visit_json[\"duration\"][\"startTimestamp\"],\n",
        "                        \"endTimestamp\": place_visit_json[\"duration\"][\"endTimestamp\"],\n",
        "                        \"placeVisitImportance\": place_visit_json[\"placeVisitImportance\"],\n",
        "                        \"placeVisitType\": place_visit_json[\"placeVisitType\"],\n",
        "                        \"latitudeE7\": place_visit_json[\"location\"][\"latitudeE7\"],\n",
        "                        \"longitudeE7\": place_visit_json[\"location\"][\"longitudeE7\"],\n",
        "                    }\n",
        "\n",
        "                    for optional_field in [\"centerLatE7\", \"centerLngE7\"]:\n",
        "                        if optional_field in place_visit_json:\n",
        "                            place_visit[optional_field] = place_visit_json[optional_field]\n",
        "                        else:\n",
        "                            place_visit[optional_field] = None\n",
        "\n",
        "                    for optional_field in [\"name\", \"address\"]:\n",
        "                        if optional_field in place_visit_json[\"location\"]:\n",
        "                            place_visit[optional_field] = place_visit_json[\"location\"][optional_field]\n",
        "                        else:\n",
        "                            place_visit[optional_field] = None\n",
        "\n",
        "\n",
        "                    place_visits.append(place_visit)\n",
        "\n",
        "print(f'레코드 총 개수: {len(place_visits)}')\n",
        "place_visits[:3]"
      ]
    },
    {
      "cell_type": "markdown",
      "id": "b7ebd0ce",
      "metadata": {
        "id": "b7ebd0ce"
      },
      "source": [
        "### 4. DataFrame 형태로 변환하기"
      ]
    },
    {
      "cell_type": "code",
      "execution_count": 11,
      "id": "659ad7e1",
      "metadata": {
        "colab": {
          "base_uri": "https://localhost:8080/",
          "height": 539
        },
        "id": "659ad7e1",
        "outputId": "34e90bb0-4a74-48f3-e9cb-de00af14fc05"
      },
      "outputs": [
        {
          "output_type": "error",
          "ename": "KeyError",
          "evalue": "ignored",
          "traceback": [
            "\u001b[0;31m---------------------------------------------------------------------------\u001b[0m",
            "\u001b[0;31mKeyError\u001b[0m                                  Traceback (most recent call last)",
            "\u001b[0;32m/usr/local/lib/python3.10/dist-packages/pandas/core/indexes/base.py\u001b[0m in \u001b[0;36mget_loc\u001b[0;34m(self, key, method, tolerance)\u001b[0m\n\u001b[1;32m   3801\u001b[0m             \u001b[0;32mtry\u001b[0m\u001b[0;34m:\u001b[0m\u001b[0;34m\u001b[0m\u001b[0;34m\u001b[0m\u001b[0m\n\u001b[0;32m-> 3802\u001b[0;31m                 \u001b[0;32mreturn\u001b[0m \u001b[0mself\u001b[0m\u001b[0;34m.\u001b[0m\u001b[0m_engine\u001b[0m\u001b[0;34m.\u001b[0m\u001b[0mget_loc\u001b[0m\u001b[0;34m(\u001b[0m\u001b[0mcasted_key\u001b[0m\u001b[0;34m)\u001b[0m\u001b[0;34m\u001b[0m\u001b[0;34m\u001b[0m\u001b[0m\n\u001b[0m\u001b[1;32m   3803\u001b[0m             \u001b[0;32mexcept\u001b[0m \u001b[0mKeyError\u001b[0m \u001b[0;32mas\u001b[0m \u001b[0merr\u001b[0m\u001b[0;34m:\u001b[0m\u001b[0;34m\u001b[0m\u001b[0;34m\u001b[0m\u001b[0m\n",
            "\u001b[0;32m/usr/local/lib/python3.10/dist-packages/pandas/_libs/index.pyx\u001b[0m in \u001b[0;36mpandas._libs.index.IndexEngine.get_loc\u001b[0;34m()\u001b[0m\n",
            "\u001b[0;32m/usr/local/lib/python3.10/dist-packages/pandas/_libs/index.pyx\u001b[0m in \u001b[0;36mpandas._libs.index.IndexEngine.get_loc\u001b[0;34m()\u001b[0m\n",
            "\u001b[0;32mpandas/_libs/hashtable_class_helper.pxi\u001b[0m in \u001b[0;36mpandas._libs.hashtable.PyObjectHashTable.get_item\u001b[0;34m()\u001b[0m\n",
            "\u001b[0;32mpandas/_libs/hashtable_class_helper.pxi\u001b[0m in \u001b[0;36mpandas._libs.hashtable.PyObjectHashTable.get_item\u001b[0;34m()\u001b[0m\n",
            "\u001b[0;31mKeyError\u001b[0m: 'startTimestamp'",
            "\nThe above exception was the direct cause of the following exception:\n",
            "\u001b[0;31mKeyError\u001b[0m                                  Traceback (most recent call last)",
            "\u001b[0;32m<ipython-input-11-97b90860acf5>\u001b[0m in \u001b[0;36m<cell line: 8>\u001b[0;34m()\u001b[0m\n\u001b[1;32m      6\u001b[0m \u001b[0;31m# 2.데이터 전처리하기\u001b[0m\u001b[0;34m\u001b[0m\u001b[0;34m\u001b[0m\u001b[0m\n\u001b[1;32m      7\u001b[0m \u001b[0;31m# convert to datetime type\u001b[0m\u001b[0;34m\u001b[0m\u001b[0;34m\u001b[0m\u001b[0m\n\u001b[0;32m----> 8\u001b[0;31m \u001b[0mplace_visits_df\u001b[0m\u001b[0;34m[\u001b[0m\u001b[0;34m\"startTimestamp\"\u001b[0m\u001b[0;34m]\u001b[0m \u001b[0;34m=\u001b[0m \u001b[0mpd\u001b[0m\u001b[0;34m.\u001b[0m\u001b[0mto_datetime\u001b[0m\u001b[0;34m(\u001b[0m\u001b[0mplace_visits_df\u001b[0m\u001b[0;34m[\u001b[0m\u001b[0;34m\"startTimestamp\"\u001b[0m\u001b[0;34m]\u001b[0m\u001b[0;34m)\u001b[0m\u001b[0;34m\u001b[0m\u001b[0;34m\u001b[0m\u001b[0m\n\u001b[0m\u001b[1;32m      9\u001b[0m \u001b[0mplace_visits_df\u001b[0m\u001b[0;34m[\u001b[0m\u001b[0;34m\"endTimestamp\"\u001b[0m\u001b[0;34m]\u001b[0m \u001b[0;34m=\u001b[0m \u001b[0mpd\u001b[0m\u001b[0;34m.\u001b[0m\u001b[0mto_datetime\u001b[0m\u001b[0;34m(\u001b[0m\u001b[0mplace_visits_df\u001b[0m\u001b[0;34m[\u001b[0m\u001b[0;34m\"endTimestamp\"\u001b[0m\u001b[0;34m]\u001b[0m\u001b[0;34m)\u001b[0m\u001b[0;34m\u001b[0m\u001b[0;34m\u001b[0m\u001b[0m\n\u001b[1;32m     10\u001b[0m \u001b[0;34m\u001b[0m\u001b[0m\n",
            "\u001b[0;32m/usr/local/lib/python3.10/dist-packages/pandas/core/frame.py\u001b[0m in \u001b[0;36m__getitem__\u001b[0;34m(self, key)\u001b[0m\n\u001b[1;32m   3805\u001b[0m             \u001b[0;32mif\u001b[0m \u001b[0mself\u001b[0m\u001b[0;34m.\u001b[0m\u001b[0mcolumns\u001b[0m\u001b[0;34m.\u001b[0m\u001b[0mnlevels\u001b[0m \u001b[0;34m>\u001b[0m \u001b[0;36m1\u001b[0m\u001b[0;34m:\u001b[0m\u001b[0;34m\u001b[0m\u001b[0;34m\u001b[0m\u001b[0m\n\u001b[1;32m   3806\u001b[0m                 \u001b[0;32mreturn\u001b[0m \u001b[0mself\u001b[0m\u001b[0;34m.\u001b[0m\u001b[0m_getitem_multilevel\u001b[0m\u001b[0;34m(\u001b[0m\u001b[0mkey\u001b[0m\u001b[0;34m)\u001b[0m\u001b[0;34m\u001b[0m\u001b[0;34m\u001b[0m\u001b[0m\n\u001b[0;32m-> 3807\u001b[0;31m             \u001b[0mindexer\u001b[0m \u001b[0;34m=\u001b[0m \u001b[0mself\u001b[0m\u001b[0;34m.\u001b[0m\u001b[0mcolumns\u001b[0m\u001b[0;34m.\u001b[0m\u001b[0mget_loc\u001b[0m\u001b[0;34m(\u001b[0m\u001b[0mkey\u001b[0m\u001b[0;34m)\u001b[0m\u001b[0;34m\u001b[0m\u001b[0;34m\u001b[0m\u001b[0m\n\u001b[0m\u001b[1;32m   3808\u001b[0m             \u001b[0;32mif\u001b[0m \u001b[0mis_integer\u001b[0m\u001b[0;34m(\u001b[0m\u001b[0mindexer\u001b[0m\u001b[0;34m)\u001b[0m\u001b[0;34m:\u001b[0m\u001b[0;34m\u001b[0m\u001b[0;34m\u001b[0m\u001b[0m\n\u001b[1;32m   3809\u001b[0m                 \u001b[0mindexer\u001b[0m \u001b[0;34m=\u001b[0m \u001b[0;34m[\u001b[0m\u001b[0mindexer\u001b[0m\u001b[0;34m]\u001b[0m\u001b[0;34m\u001b[0m\u001b[0;34m\u001b[0m\u001b[0m\n",
            "\u001b[0;32m/usr/local/lib/python3.10/dist-packages/pandas/core/indexes/base.py\u001b[0m in \u001b[0;36mget_loc\u001b[0;34m(self, key, method, tolerance)\u001b[0m\n\u001b[1;32m   3802\u001b[0m                 \u001b[0;32mreturn\u001b[0m \u001b[0mself\u001b[0m\u001b[0;34m.\u001b[0m\u001b[0m_engine\u001b[0m\u001b[0;34m.\u001b[0m\u001b[0mget_loc\u001b[0m\u001b[0;34m(\u001b[0m\u001b[0mcasted_key\u001b[0m\u001b[0;34m)\u001b[0m\u001b[0;34m\u001b[0m\u001b[0;34m\u001b[0m\u001b[0m\n\u001b[1;32m   3803\u001b[0m             \u001b[0;32mexcept\u001b[0m \u001b[0mKeyError\u001b[0m \u001b[0;32mas\u001b[0m \u001b[0merr\u001b[0m\u001b[0;34m:\u001b[0m\u001b[0;34m\u001b[0m\u001b[0;34m\u001b[0m\u001b[0m\n\u001b[0;32m-> 3804\u001b[0;31m                 \u001b[0;32mraise\u001b[0m \u001b[0mKeyError\u001b[0m\u001b[0;34m(\u001b[0m\u001b[0mkey\u001b[0m\u001b[0;34m)\u001b[0m \u001b[0;32mfrom\u001b[0m \u001b[0merr\u001b[0m\u001b[0;34m\u001b[0m\u001b[0;34m\u001b[0m\u001b[0m\n\u001b[0m\u001b[1;32m   3805\u001b[0m             \u001b[0;32mexcept\u001b[0m \u001b[0mTypeError\u001b[0m\u001b[0;34m:\u001b[0m\u001b[0;34m\u001b[0m\u001b[0;34m\u001b[0m\u001b[0m\n\u001b[1;32m   3806\u001b[0m                 \u001b[0;31m# If we have a listlike key, _check_indexing_error will raise\u001b[0m\u001b[0;34m\u001b[0m\u001b[0;34m\u001b[0m\u001b[0m\n",
            "\u001b[0;31mKeyError\u001b[0m: 'startTimestamp'"
          ]
        }
      ],
      "source": [
        "# 1.DataFrame형태로 변환하기\n",
        "place_visits_df = pd.DataFrame(place_visits)\n",
        "place_visits_df.head(2)\n",
        "\n",
        "\n",
        "# 2.데이터 전처리하기\n",
        "# convert to datetime type\n",
        "place_visits_df[\"startTimestamp\"] = pd.to_datetime(place_visits_df[\"startTimestamp\"])\n",
        "place_visits_df[\"endTimestamp\"] = pd.to_datetime(place_visits_df[\"endTimestamp\"])\n",
        "\n",
        "\n",
        "# get geo coordinates as float value\n",
        "place_visits_df[\"latitude\"] = place_visits_df.latitudeE7/10**7   #(1E7 = 1e7 = 1x10^7 = 10**7)\n",
        "place_visits_df[\"longitude\"] = place_visits_df.longitudeE7/1e7\n",
        "place_visits_df[\"centerLat\"] = place_visits_df.centerLatE7/1E7\n",
        "place_visits_df[\"centerLng\"] = place_visits_df.centerLngE7/1E7\n",
        "\n",
        "# add timezone based on geo coordinates\n",
        "tf = TimezoneFinder()\n",
        "place_visits_df[\"timezone\"] = place_visits_df.apply(lambda row: tf.timezone_at(lng=row.longitude, lat=row.latitude), axis=1)\n",
        "\n",
        "# convert UTC time to local timezone\n",
        "place_visits_df['startTimestamp_local'] = place_visits_df.apply(lambda row: row.startTimestamp.tz_convert(row.timezone), axis=1)\n",
        "place_visits_df['endTimestamp_local'] =place_visits_df.apply(lambda row: row.endTimestamp.tz_convert(row.timezone), axis=1)\n",
        "\n",
        "# remove TZ info from datetime\n",
        "place_visits_df['startTimestamp_local'] = pd.to_datetime(place_visits_df['startTimestamp_local'].apply(lambda x: x.replace(tzinfo=None)))\n",
        "place_visits_df['endTimestamp_local'] = pd.to_datetime(place_visits_df['endTimestamp_local'].apply(lambda x: x.replace(tzinfo=None)))\n",
        "\n",
        "# add datetime parts as a separate column to data frame\n",
        "for datetime_type in [(\"year\", lambda x: x.year), (\"month\", lambda x: x.month), (\"day\", lambda x: x.day), (\"hour\", lambda x: x.hour), (\"minute\", lambda x: x.minute), (\"weekday\", lambda x: x.weekday)]:\n",
        "    for tztype in [\"\", \"_local\"]:\n",
        "        place_visits_df[f\"{datetime_type[0]}{tztype}\"] = datetime_type[1](place_visits_df[f\"startTimestamp{tztype}\"].dt)\n",
        "\n",
        "\n",
        "place_visits_df.drop(columns=[\"latitudeE7\", \"longitudeE7\", \"centerLatE7\", \"centerLngE7\"], inplace=True)\n",
        "place_visits_df[\"duration\"] = place_visits_df.endTimestamp - place_visits_df.startTimestamp\n",
        "place_visits_df[\"duration_minutes\"] = place_visits_df.duration.dt.total_seconds()/60\n",
        "\n",
        "\n",
        "# 3. 파일로 저장하기\n",
        "place_visits_df.to_csv(in_file, index=False)\n",
        "\n",
        "\n",
        "place_visits_df.head(2)"
      ]
    },
    {
      "cell_type": "markdown",
      "id": "b0b39008",
      "metadata": {
        "id": "b0b39008"
      },
      "source": [
        "### 5. (나의)Location History 지도에 표시하기"
      ]
    },
    {
      "cell_type": "code",
      "execution_count": 10,
      "id": "3501a1c6",
      "metadata": {
        "scrolled": true,
        "colab": {
          "base_uri": "https://localhost:8080/",
          "height": 258
        },
        "id": "3501a1c6",
        "outputId": "0f057f58-a06a-4615-9d29-39690f9fcfda"
      },
      "outputs": [
        {
          "output_type": "error",
          "ename": "NameError",
          "evalue": "ignored",
          "traceback": [
            "\u001b[0;31m---------------------------------------------------------------------------\u001b[0m",
            "\u001b[0;31mNameError\u001b[0m                                 Traceback (most recent call last)",
            "\u001b[0;32m<ipython-input-10-cab97e18fdeb>\u001b[0m in \u001b[0;36m<cell line: 7>\u001b[0;34m()\u001b[0m\n\u001b[1;32m      5\u001b[0m \u001b[0;31m# 파일 불러오기\u001b[0m\u001b[0;34m\u001b[0m\u001b[0;34m\u001b[0m\u001b[0m\n\u001b[1;32m      6\u001b[0m \u001b[0;31m# df = pd.read_csv(file)\u001b[0m\u001b[0;34m\u001b[0m\u001b[0;34m\u001b[0m\u001b[0m\n\u001b[0;32m----> 7\u001b[0;31m \u001b[0mdf\u001b[0m \u001b[0;34m=\u001b[0m \u001b[0mplace_visits_df\u001b[0m\u001b[0;34m\u001b[0m\u001b[0;34m\u001b[0m\u001b[0m\n\u001b[0m\u001b[1;32m      8\u001b[0m \u001b[0;34m\u001b[0m\u001b[0m\n\u001b[1;32m      9\u001b[0m \u001b[0;34m\u001b[0m\u001b[0m\n",
            "\u001b[0;31mNameError\u001b[0m: name 'place_visits_df' is not defined"
          ]
        }
      ],
      "source": [
        "import folium\n",
        "import webbrowser\n",
        "import pandas as pd\n",
        "\n",
        "# 파일 불러오기\n",
        "# df = pd.read_csv(file)\n",
        "df = place_visits_df\n",
        "\n",
        "\n",
        "center = [37.4306881, 126.8845086]\n",
        "# m = folium.Map(location=center ,\n",
        "#                   zoom_start=6,\n",
        "#                   width=750,\n",
        "#                   height=500)\n",
        "m = folium.Map(location=center ,\n",
        "                  zoom_start=6)\n",
        "\n",
        "# df에서 위도&경도 정보 지도 Marker에 추가하기\n",
        "folium.Marker(location=center,\n",
        "                popup='우리집', icon=folium.Icon(color='red', icon='star'),\n",
        "                color='tomato', radius = 50,\n",
        ").add_to(m)\n",
        "\n",
        "\n",
        "# 구글 Location History 마커로 표시하기\n",
        "for i, row in df.iterrows():\n",
        "    # 아이콘 색상 지정\n",
        "    date = row['startTimestamp'].strftime('%Y-%m-%d')  # timestamp -> string타입으로 변환\n",
        "    if date <= '2022-12-31':\n",
        "        icon_color='green'\n",
        "    elif date < '2023-07-01':\n",
        "        icon_color='blue'\n",
        "    else:\n",
        "        icon_color='red'\n",
        "    # 마커 추가하기\n",
        "    folium.Marker(location= [row['latitude'], row['longitude']],\n",
        "                  icon=folium.Icon(icon='cloud', color=icon_color),\n",
        "                  popup=row['name']\n",
        "    ).add_to(m)\n",
        "\n",
        "m\n",
        "\n",
        "#html 파일로 저장하여 불러오기\n",
        "m.save('data/map_google_lh.html')\n",
        "webbrowser.open('C:/python/projectmanager/data/map_google_lh.html')"
      ]
    },
    {
      "cell_type": "markdown",
      "id": "eeebf4ce",
      "metadata": {
        "id": "eeebf4ce"
      },
      "source": [
        "--------------------"
      ]
    },
    {
      "cell_type": "markdown",
      "id": "ea0cf8b5",
      "metadata": {
        "id": "ea0cf8b5"
      },
      "source": [
        "THE END"
      ]
    }
  ],
  "metadata": {
    "kernelspec": {
      "display_name": "Python 3 (ipykernel)",
      "language": "python",
      "name": "python3"
    },
    "language_info": {
      "codemirror_mode": {
        "name": "ipython",
        "version": 3
      },
      "file_extension": ".py",
      "mimetype": "text/x-python",
      "name": "python",
      "nbconvert_exporter": "python",
      "pygments_lexer": "ipython3",
      "version": "3.10.9"
    },
    "colab": {
      "provenance": [],
      "include_colab_link": true
    }
  },
  "nbformat": 4,
  "nbformat_minor": 5
}