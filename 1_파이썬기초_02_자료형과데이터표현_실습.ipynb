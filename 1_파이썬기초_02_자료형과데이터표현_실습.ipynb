{
  "cells": [
    {
      "cell_type": "markdown",
      "metadata": {
        "id": "view-in-github",
        "colab_type": "text"
      },
      "source": [
        "<a href=\"https://colab.research.google.com/github/susuusub/projectmanager/blob/main/1_%ED%8C%8C%EC%9D%B4%EC%8D%AC%EA%B8%B0%EC%B4%88_02_%EC%9E%90%EB%A3%8C%ED%98%95%EA%B3%BC%EB%8D%B0%EC%9D%B4%ED%84%B0%ED%91%9C%ED%98%84_%EC%8B%A4%EC%8A%B5.ipynb\" target=\"_parent\"><img src=\"https://colab.research.google.com/assets/colab-badge.svg\" alt=\"Open In Colab\"/></a>"
      ]
    },
    {
      "cell_type": "markdown",
      "id": "8daf7079",
      "metadata": {
        "id": "8daf7079"
      },
      "source": [
        "# 파이썬 기초 다지기"
      ]
    },
    {
      "cell_type": "markdown",
      "id": "3f3da3bd",
      "metadata": {
        "id": "3f3da3bd"
      },
      "source": [
        "## 2 - 파이썬 자료형과 데이터 표현\n",
        "파이썬의 다양한 데이터 타입과 다양한 연산자, 문자열"
      ]
    },
    {
      "cell_type": "markdown",
      "id": "0c52a67e",
      "metadata": {
        "id": "0c52a67e"
      },
      "source": [
        "----------------------------------"
      ]
    },
    {
      "cell_type": "markdown",
      "id": "1ff36611",
      "metadata": {
        "id": "1ff36611"
      },
      "source": [
        "## 2-1.파이썬 자료형(Data Type)"
      ]
    },
    {
      "cell_type": "markdown",
      "id": "278fb39c",
      "metadata": {
        "id": "278fb39c"
      },
      "source": [
        "### 수학 연산하기"
      ]
    },
    {
      "cell_type": "code",
      "execution_count": null,
      "id": "7ea3146f",
      "metadata": {
        "colab": {
          "base_uri": "https://localhost:8080/"
        },
        "id": "7ea3146f",
        "outputId": "12374f6e-57bd-4f01-f6f9-2103ce417dff"
      },
      "outputs": [
        {
          "output_type": "stream",
          "name": "stdout",
          "text": [
            "120\n",
            "80\n",
            "2000\n",
            "5.0\n"
          ]
        }
      ],
      "source": [
        "a=100\n",
        "b=20\n",
        "print(a+b)\n",
        "print(a-b)\n",
        "print(a*b)\n",
        "print(a/b)\n"
      ]
    },
    {
      "cell_type": "markdown",
      "id": "105f773c",
      "metadata": {
        "id": "105f773c"
      },
      "source": [
        "### [실습문제]\n",
        "- 문제1: 10 + 3 x 4 결과 출력\n",
        "- 문제2: 아이폰 15대를 가지고 있다. 아이폰의 가격이 130만원 일 때 총 금액은?\n",
        "- 문제3: 주어진 자연수가 홀수인지 짝수인지 판별하는 방법은?\n",
        "- 문제4: 2x2x2x5x5x5x5x3x3x3x3을 제곱형태로 나타낸 후 그 결과 출력하기"
      ]
    },
    {
      "cell_type": "code",
      "execution_count": null,
      "id": "7a853d89",
      "metadata": {
        "colab": {
          "base_uri": "https://localhost:8080/"
        },
        "id": "7a853d89",
        "outputId": "9cdff819-681a-4d3d-e3fb-8b2953cecdff"
      },
      "outputs": [
        {
          "output_type": "stream",
          "name": "stdout",
          "text": [
            "22\n",
            "15 x 1300000=19500000\n",
            "    15    x1300000=  19500000\n",
            "71 홀수\n",
            "짝수\n",
            "405000\n"
          ]
        }
      ],
      "source": [
        "#1\n",
        "print(10+3*4)\n",
        "#2\n",
        "iphone=15\n",
        "price=1300000\n",
        "print('%d x %d=%d' %(iphone,price,iphone*price))\n",
        "print(f'{iphone:^10}x{price}={iphone*price:>10}')\n",
        "#3\n",
        "import random\n",
        "number=random.randint(1,100)#1~100까지 정수\n",
        "if number%2==0: print(number,'짝수')\n",
        "else: print(number,'홀수')\n",
        "\n",
        "print(\"짝수\" if 10%2==0 else \"홀수\")\n",
        "\n",
        "#4\n",
        "print(2**3*5**4*3**4)\n",
        "\n",
        "\n"
      ]
    },
    {
      "cell_type": "markdown",
      "id": "65487a5c",
      "metadata": {
        "id": "65487a5c"
      },
      "source": [
        "### 변수\n",
        "데이터를 저장할 수 있는 공간\n",
        "\n",
        "**변수 사용 시 주의사항**\n",
        "- 첫 글자는 영문, 혹은 _(언더바)로 시작할 것 (한글도 가능)\n",
        "- 영문자, 숫자, _(언더바)만으로 구성할 것 (공백문자 불가)\n",
        "- 대문자, 소문자 구분해서 사용할 것\n",
        "- 예약어는 피할 것"
      ]
    },
    {
      "cell_type": "code",
      "execution_count": null,
      "id": "c86ab944",
      "metadata": {
        "id": "c86ab944"
      },
      "outputs": [],
      "source": []
    },
    {
      "cell_type": "markdown",
      "id": "6b43e39d",
      "metadata": {
        "id": "6b43e39d"
      },
      "source": [
        "### 파이썬 자료형"
      ]
    },
    {
      "cell_type": "code",
      "execution_count": null,
      "id": "bdcd0ef1",
      "metadata": {
        "colab": {
          "base_uri": "https://localhost:8080/"
        },
        "id": "bdcd0ef1",
        "outputId": "aee95742-4815-40e7-91b9-d7dfd86e1e43"
      },
      "outputs": [
        {
          "output_type": "stream",
          "name": "stdout",
          "text": [
            "데이터 123의 자료형: <class 'int'>\n",
            "데이터 123의 자료형: <class 'str'>\n",
            "데이터 [123]의 자료형: <class 'list'>\n",
            "데이터 (123,)의 자료형: <class 'tuple'>\n",
            "데이터 {'key': 123}의 자료형: <class 'dict'>\n",
            "데이터 {123}의 자료형: <class 'set'>\n",
            "데이터 True의 자료형: <class 'bool'>\n"
          ]
        }
      ],
      "source": [
        "d1 = 123\n",
        "d2 = '123'\n",
        "d3 = [123]\n",
        "d4 = (123,)\n",
        "d5 = {'key':123}\n",
        "d6 = {123}\n",
        "d7 = True\n",
        "\n",
        "print(f'데이터 {d1}의 자료형: {type(d1)}')\n",
        "print(f'데이터 {d2}의 자료형: {type(d2)}')\n",
        "print(f'데이터 {d3}의 자료형: {type(d3)}')\n",
        "print(f'데이터 {d4}의 자료형: {type(d4)}')\n",
        "print(f'데이터 {d5}의 자료형: {type(d5)}')\n",
        "print(f'데이터 {d6}의 자료형: {type(d6)}')\n",
        "print(f'데이터 {d7}의 자료형: {type(d7)}')"
      ]
    },
    {
      "cell_type": "markdown",
      "id": "7cda86df",
      "metadata": {
        "id": "7cda86df"
      },
      "source": [
        "### 표준 입력과 출력\n",
        "- 키보드로부터 입력을 받는 함수( input() )을 표준 입력함수라 한다.\n",
        "- 화면에 출력하는 함수( print() )를 표준 출력함수라 한다."
      ]
    },
    {
      "cell_type": "code",
      "execution_count": null,
      "id": "00ff5c37",
      "metadata": {
        "colab": {
          "base_uri": "https://localhost:8080/"
        },
        "id": "00ff5c37",
        "outputId": "349f4884-6d7e-4039-84dd-083d7e2bc14c"
      },
      "outputs": [
        {
          "output_type": "stream",
          "name": "stdout",
          "text": [
            "숫자를 입력하세요: 11\n",
            "변수 a의 값:['a', 'p', 'p', 'l', 'e'], <class 'list'>\n"
          ]
        }
      ],
      "source": [
        "# 표준 입력(키보드로부터 데이터를 입력 받는 것)\n",
        "a=int(input('숫자를 입력하세요: '))\n",
        "a=list('apple')\n",
        "\n",
        "# 표준 출력\n",
        "print(f'변수 a의 값:{a}, {type(a)}')\n"
      ]
    },
    {
      "cell_type": "markdown",
      "id": "18bc822a",
      "metadata": {
        "id": "18bc822a"
      },
      "source": [
        "#### 문자열 데이터를 숫자(정수)로 변환하기"
      ]
    },
    {
      "cell_type": "code",
      "execution_count": null,
      "id": "aaf9890f",
      "metadata": {
        "id": "aaf9890f"
      },
      "outputs": [],
      "source": [
        "# 문자열 데이터를 숫자(정수)로 변환하기\n",
        "\n"
      ]
    },
    {
      "cell_type": "markdown",
      "id": "c0436ecb",
      "metadata": {
        "id": "c0436ecb"
      },
      "source": [
        "#### 다양한 변수 출력 방법"
      ]
    },
    {
      "cell_type": "code",
      "execution_count": null,
      "id": "7d2e160d",
      "metadata": {
        "scrolled": true,
        "id": "7d2e160d"
      },
      "outputs": [],
      "source": [
        "a = input('키보드로 숫자를 입력해 주세요 ')\n",
        "\n"
      ]
    },
    {
      "cell_type": "markdown",
      "id": "7ea5c22e",
      "metadata": {
        "id": "7ea5c22e"
      },
      "source": [
        "### [실습문제] : 계산기 프로그램 만들기\n",
        "정수 2개를 키보드로 각각 입력 받아 아래와 같이 덧셈, 뺄셈, 곱셈, 몫, 나머지를\n",
        "\n",
        "\n",
        "출력하는 프로그램을 만들어 보세요.\n"
      ]
    },
    {
      "cell_type": "code",
      "execution_count": null,
      "id": "fa128ef7",
      "metadata": {
        "colab": {
          "base_uri": "https://localhost:8080/"
        },
        "id": "fa128ef7",
        "outputId": "8f3e6fb3-06da-42c8-897b-adba52401fa9"
      },
      "outputs": [
        {
          "output_type": "stream",
          "name": "stdout",
          "text": [
            "first num: 10\n",
            "second num: 2\n",
            "--------------------------------------------------\n",
            "덧셈: 10 + 2 = 12\n",
            "뺄셈: 10 - 2 = 8\n",
            "곱셈: 10 * 2 = 20\n",
            "나눗셈: 10 / 2 = 5\n"
          ]
        }
      ],
      "source": [
        "num1=int(input('first num: '))\n",
        "num2=int(input('second num: '))\n",
        "print('-'*50)\n",
        "print(f'덧셈: {num1} + {num2} = {num1+num2}')#데이터타입 구분x\n",
        "print('뺄셈: %d - %d = %d'%(num1,num2,num1-num2))\n",
        "print('곱셈: %d * %d = %d'%(num1,num2,num1*num2))\n",
        "print('나눗셈: %d / %d = %d'%(num1,num2,num1/num2))\n",
        "\n",
        "\n",
        "\n"
      ]
    },
    {
      "cell_type": "markdown",
      "id": "ca1816b6",
      "metadata": {
        "id": "ca1816b6"
      },
      "source": [
        "- f'string' 함수를 이용해 출력하기"
      ]
    },
    {
      "cell_type": "code",
      "execution_count": null,
      "id": "8b486e15",
      "metadata": {
        "id": "8b486e15"
      },
      "outputs": [],
      "source": [
        "\n",
        "\n"
      ]
    },
    {
      "cell_type": "markdown",
      "id": "157b41ef",
      "metadata": {
        "id": "157b41ef"
      },
      "source": [
        "### [실습문제] : 시간 계산 프로그램\n",
        "속력과 거리를 입력 받아 시간을 계산하여 출력하는 프로그램을 만드세요!\n",
        "- 시간 = 거리 / 속력"
      ]
    },
    {
      "cell_type": "code",
      "execution_count": null,
      "id": "93102e01",
      "metadata": {
        "colab": {
          "base_uri": "https://localhost:8080/"
        },
        "id": "93102e01",
        "outputId": "e756a599-4d38-424b-a258-7411d35a498b"
      },
      "outputs": [
        {
          "output_type": "stream",
          "name": "stdout",
          "text": [
            "속력를 입력해 주세요(km/h) : 100\n",
            "거리를 입력해 주세요(km) : 340\n",
            "--------------------------------------------------\n",
            "속력 : 100.0 km/h\n",
            "거리 : 340.0 km\n",
            "시간 : 3.4 h\n"
          ]
        }
      ],
      "source": [
        "velocity = float(input('속력를 입력해 주세요(km/h) : '))\n",
        "distance = float(input('거리를 입력해 주세요(km) : '))\n",
        "print('-'*50)\n",
        "print(f'속력 : {velocity} km/h')\n",
        "print(f'거리 : {distance} km')\n",
        "print(f'시간 : {distance/velocity} h')\n",
        "\n",
        "\n",
        "\n"
      ]
    },
    {
      "cell_type": "markdown",
      "id": "89f48168",
      "metadata": {
        "id": "89f48168"
      },
      "source": [
        "- eval()함수 사용하여 문자열을 계산할 수 있다"
      ]
    },
    {
      "cell_type": "code",
      "execution_count": null,
      "id": "39dab77c",
      "metadata": {
        "colab": {
          "base_uri": "https://localhost:8080/"
        },
        "id": "39dab77c",
        "outputId": "fc4c3587-b0fc-4e8f-be4e-9ded525691d4"
      },
      "outputs": [
        {
          "output_type": "stream",
          "name": "stdout",
          "text": [
            "속력를 입력해 주세요(km/h) : 100\n",
            "거리를 입력해 주세요(km) : 340\n",
            "--------------------------------------------------\n",
            "<class 'float'>\n",
            "시간 : 3.4 h\n"
          ]
        }
      ],
      "source": [
        "# eval()함수 사용\n",
        "velocity = input('속력를 입력해 주세요(km/h) : ')\n",
        "distance = input('거리를 입력해 주세요(km) : ')\n",
        "print('-'*50)\n",
        "time=eval(f'{distance}/{velocity}') #문자->숫자로 계산\n",
        "print(type(time))\n",
        "print(f'시간 : {time} h')\n",
        "\n"
      ]
    },
    {
      "cell_type": "markdown",
      "id": "85b8c542",
      "metadata": {
        "id": "85b8c542"
      },
      "source": [
        "### 내장 수학 함수\n",
        "- 파이썬 내장 함수 https://docs.python.org/ko/3.10/library/functions.html"
      ]
    },
    {
      "cell_type": "code",
      "execution_count": null,
      "id": "2bfba8be",
      "metadata": {
        "scrolled": true,
        "colab": {
          "base_uri": "https://localhost:8080/"
        },
        "id": "2bfba8be",
        "outputId": "066cc588-076e-4065-a37a-5992c24105ea"
      },
      "outputs": [
        {
          "output_type": "stream",
          "name": "stdout",
          "text": [
            "원주율: 3.141592653589793\n",
            "절대값: 3.14\n",
            "반올림: -3\n",
            "올림  : -3\n",
            "내림  : -4\n",
            "제곱  : 256.0\n",
            "제곱근: 2.0\n",
            "로그  : 2.302585092994046\n"
          ]
        }
      ],
      "source": [
        "import math\n",
        "\n",
        "a=-3.14\n",
        "\n",
        "print(f'원주율: {math.pi }')\n",
        "print(f'절대값: {abs(a)}')\n",
        "print(f'반올림: {round(a)}')\n",
        "print(f'올림  : {math.ceil(a)}')\n",
        "print(f'내림  : {math.floor(a)}')\n",
        "print(f'제곱  : {math.pow(2,8)}')\n",
        "print(f'제곱근: {math.sqrt(4)}')\n",
        "print(f'로그  : {math.log(10)}')"
      ]
    },
    {
      "cell_type": "markdown",
      "id": "c8147e87",
      "metadata": {
        "id": "c8147e87"
      },
      "source": [
        "### [실습문제]: 수학 함수 사용하여 계산하기\n",
        "- 문제1: 반지름이 4인 원의 넓이 출력\n",
        "- 문제2: 3.14 곱하가 2 나누기 7의 값을 반올림하여 계산 결과 출력\n",
        "- 문제3: 원주율을 3.14로 만들어서 반지름이 4인 원의 둘레의 길이 출력"
      ]
    },
    {
      "cell_type": "code",
      "execution_count": null,
      "id": "45ed86c9",
      "metadata": {
        "colab": {
          "base_uri": "https://localhost:8080/"
        },
        "id": "45ed86c9",
        "outputId": "7f2d9bb7-f932-4514-fe6e-5ce52a5b5305"
      },
      "outputs": [
        {
          "output_type": "stream",
          "name": "stdout",
          "text": [
            "50.26548245743669\n",
            "1\n",
            "25.12\n",
            "123,  123,00124\n",
            "--------------------------------------------------\n",
            "정수입력: 7\n",
            "861\n",
            "정수입력: 7\n",
            "861\n",
            "7+77+777 = 861\n"
          ]
        }
      ],
      "source": [
        "print(math.pi*4*4)\n",
        "print(round(3.14*2/7))\n",
        "print(2*3.14*4)\n",
        "print(\"{0:d},{1:5d},{2:05d}\".format(123,123,124))\n",
        "\n",
        "print('-'*50)\n",
        "#정수 a를 입력받아 a+aa+aaa의 결과 출력\n",
        "a=int(input('정수입력: '))\n",
        "print(a+int(str(a)*2)+int(str(a)*3))\n",
        "\n",
        "b=input('정수입력: ')\n",
        "print(int(b)+int(b*2)+int(b*3))\n",
        "\n",
        "result=f\"{b}+{b*2}+{b*3}\"\n",
        "print(f'{result} = {eval(result)}')"
      ]
    },
    {
      "cell_type": "markdown",
      "id": "32f4b4ce",
      "metadata": {
        "id": "32f4b4ce"
      },
      "source": [
        "---------------------------"
      ]
    },
    {
      "cell_type": "markdown",
      "id": "12be6789",
      "metadata": {
        "id": "12be6789"
      },
      "source": [
        "## 2-2.문자와 문자열"
      ]
    },
    {
      "cell_type": "markdown",
      "id": "90255097",
      "metadata": {
        "id": "90255097"
      },
      "source": [
        "#### 문자와 문자열 변환"
      ]
    },
    {
      "cell_type": "code",
      "execution_count": 1,
      "id": "a52f17d8",
      "metadata": {
        "id": "a52f17d8",
        "outputId": "641a8168-1865-48f8-9d14-a015951c6ea5",
        "colab": {
          "base_uri": "https://localhost:8080/"
        }
      },
      "outputs": [
        {
          "output_type": "stream",
          "name": "stdout",
          "text": [
            "65\n",
            "97\n",
            "33\n",
            "44032\n"
          ]
        }
      ],
      "source": [
        "# 문자 --> 숫자(정수)(아스키코드) 로 변환 : ord() 함수 사용\n",
        "print( ord('A') )\n",
        "print(ord('a'))\n",
        "print( ord('!') )\n",
        "print( ord('가') )"
      ]
    },
    {
      "cell_type": "code",
      "execution_count": null,
      "id": "88bbb733",
      "metadata": {
        "id": "88bbb733"
      },
      "outputs": [],
      "source": [
        "# 숫자(정수) --> 문자 로 변환 : chr() 함수 사용\n",
        "print( chr(65) )\n",
        "print( chr(66) )\n",
        "print( chr(97) )\n",
        "print( chr(98) )\n",
        "print( chr(44032) )\n",
        "print( chr(44033) )"
      ]
    },
    {
      "cell_type": "code",
      "execution_count": 2,
      "id": "1cbfb609",
      "metadata": {
        "id": "1cbfb609",
        "outputId": "c53e99cf-f392-4bdb-cfd2-a52de5108cd7",
        "colab": {
          "base_uri": "https://localhost:8080/"
        }
      },
      "outputs": [
        {
          "output_type": "stream",
          "name": "stdout",
          "text": [
            "0b1101001100001100 0b1100011101110100 0b1100001101101100 "
          ]
        }
      ],
      "source": [
        "# 문자 --> 숫자 --> 이진수 로 변환\n",
        "for c in '파이썬':\n",
        "    숫자변환 = ord(c)              # unicode\n",
        "    이진수변환 = bin(숫자변환)     # 16진수 binarycode\n",
        "    print( 이진수변환, end = ' ')  # 한 줄로 표현하기"
      ]
    },
    {
      "cell_type": "code",
      "execution_count": null,
      "id": "d9577a3f",
      "metadata": {
        "id": "d9577a3f"
      },
      "outputs": [],
      "source": [
        "for c in '파이썬':\n",
        "    # 이진수에서 앞'0b'를 없애기 위해 format() 함수 사용할 수 있다.\n",
        "    print( format(ord(c), 'b'), end = ' ')  # 한 줄로 표현하기"
      ]
    },
    {
      "cell_type": "markdown",
      "id": "c87a0c03",
      "metadata": {
        "id": "c87a0c03"
      },
      "source": [
        "### 문자열 따옴표로 지정"
      ]
    },
    {
      "cell_type": "markdown",
      "id": "e343167b",
      "metadata": {
        "id": "e343167b"
      },
      "source": [
        "#### 큰 따옴표  or 작은 따옴표로 지정한다"
      ]
    },
    {
      "cell_type": "code",
      "execution_count": 3,
      "id": "fae54804",
      "metadata": {
        "id": "fae54804",
        "outputId": "cac1ee43-2e05-4247-ca3b-b0417fffc634",
        "colab": {
          "base_uri": "https://localhost:8080/"
        }
      },
      "outputs": [
        {
          "output_type": "stream",
          "name": "stdout",
          "text": [
            "Hello\n",
            "Hello\n",
            "Hello 'world\n",
            "Hello \"world\n",
            " \"Yes, I can!\" \n"
          ]
        }
      ],
      "source": [
        "print('Hello')\n",
        "print(\"Hello\")\n",
        "print(\"Hello 'world\")\n",
        "print('Hello \"world')\n",
        "print(' \"Yes, I can!\" ')"
      ]
    },
    {
      "cell_type": "markdown",
      "id": "66f9d31e",
      "metadata": {
        "id": "66f9d31e"
      },
      "source": [
        "#### 따옴표 세 개 사용 : 여러 줄로 표현할 때"
      ]
    },
    {
      "cell_type": "code",
      "execution_count": 4,
      "id": "48fe4ca0",
      "metadata": {
        "id": "48fe4ca0",
        "outputId": "3eef4a1c-0814-47ab-dd7f-404b99c53a1b",
        "colab": {
          "base_uri": "https://localhost:8080/"
        }
      },
      "outputs": [
        {
          "output_type": "stream",
          "name": "stdout",
          "text": [
            "박씨가 소리질렀다.\n",
            "도둑이야!\n"
          ]
        }
      ],
      "source": [
        "a = '''박씨가 소리질렀다.\n",
        "도둑이야!'''\n",
        "print(a)"
      ]
    },
    {
      "cell_type": "code",
      "execution_count": 6,
      "id": "b32c2a51",
      "metadata": {
        "scrolled": true,
        "id": "b32c2a51",
        "outputId": "3c9cd9f9-bad4-47b8-a947-d77502eb4185",
        "colab": {
          "base_uri": "https://localhost:8080/"
        }
      },
      "outputs": [
        {
          "output_type": "stream",
          "name": "stdout",
          "text": [
            "OOO카페 메뉴판\n",
            "- 아메리카노:  3000원\n",
            "- 카페라테:     4000원\n",
            "- 카페모카:     5000원\n"
          ]
        }
      ],
      "source": [
        "menu = '''OOO카페 메뉴판\n",
        "- 아메리카노:  3000원\n",
        "- 카페라테:     4000원\n",
        "- 카페모카:     5000원'''\n",
        "print(menu)"
      ]
    },
    {
      "cell_type": "markdown",
      "id": "fb8a7c56",
      "metadata": {
        "id": "fb8a7c56"
      },
      "source": [
        "### [실습] 주문받아 출력하기"
      ]
    },
    {
      "cell_type": "code",
      "execution_count": 8,
      "id": "3a4d57f5",
      "metadata": {
        "id": "3a4d57f5",
        "outputId": "3b85d82b-7c07-48be-e476-31051dab7bd0",
        "colab": {
          "base_uri": "https://localhost:8080/"
        }
      },
      "outputs": [
        {
          "output_type": "stream",
          "name": "stdout",
          "text": [
            "카페주문 프로그램입니다.\n",
            "--------------------------------------------------\n",
            "OOO카페 메뉴판\n",
            "- 아메리카노:  3000원\n",
            "- 카페라테:     4000원\n",
            "- 카페모카:     5000원\n",
            "--------------------------------------------------\n",
            "주문하실 음료를 입력하세요아메리카노\n",
            "주문하신 음료 아메리카노가 나왔습니다.\n"
          ]
        }
      ],
      "source": [
        "# 주문받아 출력하기\n",
        "print(\"카페주문 프로그램입니다.\")\n",
        "print(\"-\"*50)\n",
        "print(menu)\n",
        "print(\"-\"*50)\n",
        "coffee=input('주문하실 음료를 입력하세요')\n",
        "print(f\"주문하신 음료 {coffee}가 나왔습니다.\")\n",
        "\n"
      ]
    },
    {
      "cell_type": "markdown",
      "id": "38c40628",
      "metadata": {
        "id": "38c40628"
      },
      "source": [
        "### 문자열 연산\n",
        "- (+): 문자열 연결하기"
      ]
    },
    {
      "cell_type": "code",
      "execution_count": 10,
      "id": "6af90aaf",
      "metadata": {
        "id": "6af90aaf",
        "outputId": "eb0a194a-7a0a-4e53-ace4-878591f950ac",
        "colab": {
          "base_uri": "https://localhost:8080/"
        }
      },
      "outputs": [
        {
          "output_type": "stream",
          "name": "stdout",
          "text": [
            "안녕하세요최수빈님\n",
            "안녕하세요 최수빈님\n"
          ]
        }
      ],
      "source": [
        "print('안녕하세요'+'최수빈님')\n",
        "print('안녕하세요','최수빈님')\n"
      ]
    },
    {
      "cell_type": "markdown",
      "id": "a27ee4d1",
      "metadata": {
        "id": "a27ee4d1"
      },
      "source": [
        "- (*) : 반복의 의미"
      ]
    },
    {
      "cell_type": "code",
      "execution_count": 11,
      "id": "229965c2",
      "metadata": {
        "id": "229965c2",
        "outputId": "0061b209-a465-48ff-f2ba-0c4a4098a450",
        "colab": {
          "base_uri": "https://localhost:8080/"
        }
      },
      "outputs": [
        {
          "output_type": "stream",
          "name": "stdout",
          "text": [
            "77\n"
          ]
        }
      ],
      "source": [
        "print('7'+'7')\n"
      ]
    },
    {
      "cell_type": "markdown",
      "id": "2d2a3e0e",
      "metadata": {
        "id": "2d2a3e0e"
      },
      "source": [
        "### [실습문제] 문자열 출력하기\n",
        "- 문제1: 화면에   Mary’s cosmetics   출력\n",
        "- 문제2: 화면에  박씨가 소리질렀다. “도둑이야!”.  출력\n",
        "- 문제3: 다음 코드 실행시켜서 \\t와 \\n의 역할 확인하기 <br>\n",
        "print(\"안녕하세요.\\n오늘\\t날씨가\\t\\t좋습니다.\")    "
      ]
    },
    {
      "cell_type": "code",
      "execution_count": 19,
      "id": "36f87e66",
      "metadata": {
        "id": "36f87e66",
        "outputId": "889299fa-9476-46d6-c2aa-8696072b93be",
        "colab": {
          "base_uri": "https://localhost:8080/"
        }
      },
      "outputs": [
        {
          "output_type": "stream",
          "name": "stdout",
          "text": [
            "Mary’s cosmetics\n",
            "박씨가 소리질렀다. \"도둑이야!\"\n",
            "안녕하세요.\n",
            "오늘\t날씨가\t\t좋습니다.\n",
            "!썬이파 요해랑사\n"
          ]
        }
      ],
      "source": [
        "print('Mary’s cosmetics')\n",
        "print('박씨가 소리질렀다. \"도둑이야!\"')\n",
        "print(\"안녕하세요.\\n오늘\\t날씨가\\t\\t좋습니다.\")\n",
        "s=\"사랑해요 파이썬!\"\n",
        "print(s[::-1])\n"
      ]
    },
    {
      "cell_type": "markdown",
      "id": "13245f26",
      "metadata": {
        "id": "13245f26"
      },
      "source": [
        "-------------------"
      ]
    },
    {
      "cell_type": "markdown",
      "id": "020d1cc5",
      "metadata": {
        "id": "020d1cc5"
      },
      "source": [
        "## 2-3.문자열 인덱싱과 슬라이싱"
      ]
    },
    {
      "cell_type": "code",
      "execution_count": null,
      "id": "9c875a9b",
      "metadata": {
        "id": "9c875a9b"
      },
      "outputs": [],
      "source": [
        "a = '우리는 민족중흥의 역사적 사명을 띠고 이 땅에 태어났다.'\n",
        "print( )"
      ]
    },
    {
      "cell_type": "code",
      "execution_count": null,
      "id": "e50df3b3",
      "metadata": {
        "id": "e50df3b3"
      },
      "outputs": [],
      "source": [
        "fruits = 'orange'\n",
        "print( )\n"
      ]
    },
    {
      "cell_type": "code",
      "source": [
        "기사='''\n",
        "알트코인(비트코인을 제외한 가상자산) 대표격인 이더리움은 24시간 전 대비 6.5% 떨어져 1689달러에 거래 중이다. 시가총액 10위권 내 주요 알트코인인 리플, 카르다노, 도지코인은 각각 13.6%, 6.6%, 8.4% 하락했다. 전체 가상자산 시가총액은 하루새 680억달러가 증발해 1조700억달러로 쪼그라들었다.\n",
        "\n",
        "미국 10년물 국채금리가 15년 만에 최고치를 경신하며 가상자산 투심에 영향을 미쳤다.\n",
        "\n",
        "17일(현지시간) 미국 채권시장에서 10년물 채권금리는 장중 4.328%까지 치솟았다. 인플레이션이 예상만큼 빠르게 둔화하지 않으면서, 고금리가 상당기간 이어질 것이라는 전망이 커졌기 때문이다. 또 미국 정부가 재정적자를 메우기 위해 국채 발행을 늘리면서 수요보다 공급이 많아져 미스매치 수익률이 더해진 것도 영향을 줬다.\n",
        "\n",
        "사실상 무위험 자산인 국채에 투자해도 연 4% 중반까지 이익을 낼 수 있게 되면, 위험자산에 대한 선호 심리는 떨어질 수밖에 없다. 이에 가상자산 시장의 유동성이 빠져나갈 수 있다는 우려가 커지면서 가상자산 가격이 일제 하락한 것으로 풀이된다.\n",
        "'''\n",
        "print(기사.count('코인')) #개수\n",
        "print(기사.find('이더리움')) #위치\n",
        "#문자열 관련 함수들\n",
        "#join, upper, lower, strip, lstrip, rstrip, replace, split\n",
        "기사=기사.replace('알트','비트')\n",
        "result=기사.split( ) #분리하여 배열에 저장\n",
        "print(len(result))\n",
        "print(result)\n"
      ],
      "metadata": {
        "id": "DI0fxCsqKF5R",
        "outputId": "071d3824-74b6-4190-adf8-2cd5821a5dfd",
        "colab": {
          "base_uri": "https://localhost:8080/"
        }
      },
      "id": "DI0fxCsqKF5R",
      "execution_count": 66,
      "outputs": [
        {
          "output_type": "stream",
          "name": "stdout",
          "text": [
            "4\n",
            "27\n",
            "118\n",
            "['비트코인(비트코인을', '제외한', '가상자산)', '대표격인', '이더리움은', '24시간', '전', '대비', '6.5%', '떨어져', '1689달러에', '거래', '중이다.', '시가총액', '10위권', '내', '주요', '비트코인인', '리플,', '카르다노,', '도지코인은', '각각', '13.6%,', '6.6%,', '8.4%', '하락했다.', '전체', '가상자산', '시가총액은', '하루새', '680억달러가', '증발해', '1조700억달러로', '쪼그라들었다.', '미국', '10년물', '국채금리가', '15년', '만에', '최고치를', '경신하며', '가상자산', '투심에', '영향을', '미쳤다.', '17일(현지시간)', '미국', '채권시장에서', '10년물', '채권금리는', '장중', '4.328%까지', '치솟았다.', '인플레이션이', '예상만큼', '빠르게', '둔화하지', '않으면서,', '고금리가', '상당기간', '이어질', '것이라는', '전망이', '커졌기', '때문이다.', '또', '미국', '정부가', '재정적자를', '메우기', '위해', '국채', '발행을', '늘리면서', '수요보다', '공급이', '많아져', '미스매치', '수익률이', '더해진', '것도', '영향을', '줬다.', '사실상', '무위험', '자산인', '국채에', '투자해도', '연', '4%', '중반까지', '이익을', '낼', '수', '있게', '되면,', '위험자산에', '대한', '선호', '심리는', '떨어질', '수밖에', '없다.', '이에', '가상자산', '시장의', '유동성이', '빠져나갈', '수', '있다는', '우려가', '커지면서', '가상자산', '가격이', '일제', '하락한', '것으로', '풀이된다.']\n"
          ]
        }
      ]
    },
    {
      "cell_type": "code",
      "source": [
        "###[실습문제] 파일명과 확장자 분리하기\n",
        "fname=input('파일을 입력하세요: ')\n",
        "print('파일: ',fname)\n",
        "tmp=fname.split('.')\n",
        "print(f'파일명: {tmp[0]}, 확장자: {tmp[1]}')"
      ],
      "metadata": {
        "id": "6hh35Pr-PCWc",
        "outputId": "7f392852-02ce-498e-b065-90add3f8ec75",
        "colab": {
          "base_uri": "https://localhost:8080/"
        }
      },
      "id": "6hh35Pr-PCWc",
      "execution_count": 25,
      "outputs": [
        {
          "output_type": "stream",
          "name": "stdout",
          "text": [
            "파일을 입력하세요: test.py\n",
            "파일:  test.py\n",
            "파일명: test, 확장자: py\n"
          ]
        }
      ]
    },
    {
      "cell_type": "markdown",
      "id": "1aecf2d0",
      "metadata": {
        "id": "1aecf2d0"
      },
      "source": [
        "---------------------------"
      ]
    },
    {
      "cell_type": "markdown",
      "id": "0f48d7cf",
      "metadata": {
        "id": "0f48d7cf"
      },
      "source": [
        "## 2-4.변수 활용"
      ]
    },
    {
      "cell_type": "markdown",
      "id": "d26c5d6e",
      "metadata": {
        "id": "d26c5d6e"
      },
      "source": [
        "### [실습문제]: 지불할 음식 총 가격 계산하기\n",
        "- 음식가격:  4,450 원\n",
        "- 세금: 6.75%\n",
        "- 팁: 15%\n",
        "1. meal 변수를 선언하고 값을 4450으로 지정하세요.\n",
        "2. tax 변수를 생성하고 값으로 6.75%를 소수점 형태로 지정하세요.\n",
        "3. tip 변수를 생성하고 값으로 15%를 소수점 형태로 지정하세요.\n",
        "4. meal의 변수값에 세금을 곱해 meal 변수에 지정하세요.\n",
        "5. 음식값에 tip을 더해 total 변수에 지정하세요.\n",
        "6. total 변수 값을 출력하세요."
      ]
    },
    {
      "cell_type": "code",
      "execution_count": 29,
      "id": "933828b3",
      "metadata": {
        "colab": {
          "base_uri": "https://localhost:8080/"
        },
        "id": "933828b3",
        "outputId": "0a12bf43-0293-40de-d94f-e1c85d46ed45"
      },
      "outputs": [
        {
          "output_type": "stream",
          "name": "stdout",
          "text": [
            "5462.93\n"
          ]
        }
      ],
      "source": [
        "meal = 4450    # 1.음식가격\n",
        "tax = 0.0675   # 2.세금\n",
        "tip = 0.15     # 3.팁\n",
        "meal=meal*tax+meal\n",
        "total=meal*tip+meal\n",
        "print(round(total,2))\n"
      ]
    },
    {
      "cell_type": "code",
      "source": [],
      "metadata": {
        "id": "w8TO6u67UULB"
      },
      "id": "w8TO6u67UULB",
      "execution_count": null,
      "outputs": []
    },
    {
      "cell_type": "markdown",
      "id": "a4fa74c9",
      "metadata": {
        "id": "a4fa74c9"
      },
      "source": [
        "### [실습문제]: 섭씨온도를 화씨온도로 변환하기\n",
        "- 섭씨 온도 (Celsius): 1 atm에서의 물의 어는점을 0도, 끓는점을 100도로 정한 온도 체계. (°C)\n",
        "\n",
        "\n",
        "- 화씨 온도 (Fahrenheit): 물이 어는 온도는 32도, 물이 끓는 온도는 212도. 180등분. (°F)\n",
        "- 섭씨온도(℃) = (5 / 9) × (℉ - 32)  # Celsius\n",
        "- 화씨온도(℉) = (9 / 5) × ℃ + 32    # Fahrenheit"
      ]
    },
    {
      "cell_type": "code",
      "execution_count": 35,
      "id": "d65f3301",
      "metadata": {
        "scrolled": true,
        "id": "d65f3301",
        "outputId": "92dbe345-721a-4eef-e974-4e8cfd8a6aaf",
        "colab": {
          "base_uri": "https://localhost:8080/"
        }
      },
      "outputs": [
        {
          "output_type": "stream",
          "name": "stdout",
          "text": [
            "32\n",
            "섭씨: 32 -> 89.6\n"
          ]
        }
      ],
      "source": [
        " c_temp = input()   #키보드로부터 입력을 받는 함수: input()\n",
        " c_temp = int(c_temp)  # 정수로 변환: int()\n",
        "print(f'섭씨: {c_temp} -> {9/5*c_temp+32}')\n",
        "\n"
      ]
    },
    {
      "cell_type": "markdown",
      "id": "a57cbf87",
      "metadata": {
        "id": "a57cbf87"
      },
      "source": [
        "-------"
      ]
    },
    {
      "cell_type": "markdown",
      "id": "f0265f78",
      "metadata": {
        "id": "f0265f78"
      },
      "source": [
        "## 2-5.연산자"
      ]
    },
    {
      "cell_type": "markdown",
      "id": "bff8051d",
      "metadata": {
        "id": "bff8051d"
      },
      "source": [
        "### [실습문제]: 동전 교환 프로그램 만들기"
      ]
    },
    {
      "cell_type": "code",
      "execution_count": 54,
      "id": "105db988",
      "metadata": {
        "id": "105db988",
        "outputId": "4166f54f-86e1-4f86-8ceb-921be0d94474",
        "colab": {
          "base_uri": "https://localhost:8080/"
        }
      },
      "outputs": [
        {
          "output_type": "stream",
          "name": "stdout",
          "text": [
            "---동전교환기 프로그램을 작동합니다.---\n",
            "금액을 입력하세요: 5468\n",
            "동전으로 교환하겠습니다.---------\n",
            "10\n",
            "4\n",
            "1\n",
            "1\n"
          ]
        }
      ],
      "source": [
        "# 키보드로부터 금액 입력 받기\n",
        "print('---동전교환기 프로그램을 작동합니다.---')\n",
        "money = int( input('금액을 입력하세요: '))\n",
        "print('동전으로 교환하겠습니다.---------')\n",
        "print(money//500)\n",
        "money%=500\n",
        "print(money//100)\n",
        "money%=100\n",
        "print(money//50)\n",
        "money%=50\n",
        "print(money//10)\n",
        "money%=10\n",
        "\n",
        "\n"
      ]
    },
    {
      "cell_type": "markdown",
      "id": "f359d4a1",
      "metadata": {
        "id": "f359d4a1"
      },
      "source": [
        "-----------------------------------------"
      ]
    },
    {
      "cell_type": "markdown",
      "id": "d8c018ca",
      "metadata": {
        "id": "d8c018ca"
      },
      "source": [
        "## 2-6.리스트(List)\n",
        "- 리스트는 여러 개의 데이터 값을 하나의 변수에 담을 수 있는 데이터 구조\n",
        "- 리스트는 순서(인덱스)가 있고 데이터를 수정, 삭제, 추가 가능하다.\n",
        "- 대괄호로 표현되고 내부 원소는 ,(쉼표)로 구분됨"
      ]
    },
    {
      "cell_type": "markdown",
      "id": "693f2484",
      "metadata": {
        "id": "693f2484"
      },
      "source": [
        "### 리스트 생성"
      ]
    },
    {
      "cell_type": "code",
      "execution_count": 55,
      "id": "a1b79606",
      "metadata": {
        "id": "a1b79606"
      },
      "outputs": [],
      "source": [
        "a = list()\n",
        "a = []\n",
        "a = [1,2,3]\n",
        "a = ['I', 'Love', 'Python']\n",
        "b = [1,2, '사랑해요', 'Python']\n",
        "b = ['a', '1', 1, [2,3], -4]\n",
        "a = [1,2,['a','b',['사랑해', '파이썬']], 3]"
      ]
    },
    {
      "cell_type": "code",
      "execution_count": 56,
      "id": "df23f6cf",
      "metadata": {
        "id": "df23f6cf",
        "outputId": "b16d57f7-e479-43de-939f-c35ac8edce7b",
        "colab": {
          "base_uri": "https://localhost:8080/"
        }
      },
      "outputs": [
        {
          "output_type": "stream",
          "name": "stdout",
          "text": [
            "[1, 2, ['a', 'b', ['사랑해', '파이썬']], 3]\n",
            "['a', '1', 1, [2, 3], -4]\n"
          ]
        }
      ],
      "source": [
        "print(a)\n",
        "print(b)"
      ]
    },
    {
      "cell_type": "code",
      "source": [
        "list(range(10)) #정수를 순차적으로 만들어주는 함수"
      ],
      "metadata": {
        "id": "Hm9k6ELtgBuD",
        "outputId": "b84b5b11-285c-4c09-a95f-87ba3213be52",
        "colab": {
          "base_uri": "https://localhost:8080/"
        }
      },
      "id": "Hm9k6ELtgBuD",
      "execution_count": 58,
      "outputs": [
        {
          "output_type": "execute_result",
          "data": {
            "text/plain": [
              "[0, 1, 2, 3, 4, 5, 6, 7, 8, 9]"
            ]
          },
          "metadata": {},
          "execution_count": 58
        }
      ]
    },
    {
      "cell_type": "code",
      "source": [
        "a='python'\n",
        "list(a)"
      ],
      "metadata": {
        "id": "BmQVDxnfg4XO",
        "outputId": "ff7c3d75-4d4c-4960-d810-1e6c8b0d6282",
        "colab": {
          "base_uri": "https://localhost:8080/"
        }
      },
      "id": "BmQVDxnfg4XO",
      "execution_count": 59,
      "outputs": [
        {
          "output_type": "execute_result",
          "data": {
            "text/plain": [
              "['p', 'y', 't', 'h', 'o', 'n']"
            ]
          },
          "metadata": {},
          "execution_count": 59
        }
      ]
    },
    {
      "cell_type": "markdown",
      "id": "7eef7d7c",
      "metadata": {
        "id": "7eef7d7c"
      },
      "source": [
        "### 리스트 삭제"
      ]
    },
    {
      "cell_type": "code",
      "execution_count": null,
      "id": "52a5a894",
      "metadata": {
        "id": "52a5a894"
      },
      "outputs": [],
      "source": [
        "del(b)\n",
        "\n",
        "print(a)\n",
        "print(b)"
      ]
    },
    {
      "cell_type": "markdown",
      "id": "b3ab38e4",
      "metadata": {
        "id": "b3ab38e4"
      },
      "source": [
        "### 리스트 요소에 접근"
      ]
    },
    {
      "cell_type": "code",
      "execution_count": 72,
      "id": "d36d5b62",
      "metadata": {
        "scrolled": true,
        "id": "d36d5b62",
        "outputId": "ab4003bd-c8b8-415f-e353-81fd24745acd",
        "colab": {
          "base_uri": "https://localhost:8080/"
        }
      },
      "outputs": [
        {
          "output_type": "stream",
          "name": "stdout",
          "text": [
            "green\n",
            "['blue', 'deepblue']\n",
            "deepblue\n",
            "['red', 'purple', 'green', ['blue', 'deepblue'], 'black', 'white', 'pink']\n",
            "['red', 'purple', 'green', ['blue', 'deepblue', 'darkblue'], 'black', 'white', 'pink']\n"
          ]
        }
      ],
      "source": [
        "\n",
        "colors=['red','green',['blue','deepblue'],'black','white']\n",
        "print( colors[1] )\n",
        "print( colors[2] )\n",
        "print( colors[2][1] )\n",
        "colors.append('pink')\n",
        "colors.insert(1,'purple')\n",
        "print(colors)\n",
        "colors[3].insert(2,'darkblue')\n",
        "print(colors)\n",
        "\n"
      ]
    },
    {
      "cell_type": "markdown",
      "id": "b7811d5d",
      "metadata": {
        "id": "b7811d5d"
      },
      "source": [
        "### 리스트 요소 추가 / 변경"
      ]
    },
    {
      "cell_type": "code",
      "execution_count": null,
      "id": "010220d8",
      "metadata": {
        "id": "010220d8"
      },
      "outputs": [],
      "source": [
        "print(a)\n",
        "a.append('봄')     # 리스트 맨 끝에 추가\n",
        "print(a)\n",
        "a.insert(1, '봄')  # 리스트명.insert(인덱스위치, 값)\n",
        "print(a)"
      ]
    },
    {
      "cell_type": "code",
      "source": [
        "#리스트 변경\n",
        "colors[1]='light green'\n",
        "print(colors)\n",
        "colors[3][2]='light blue'\n",
        "print(colors)\n",
        "\n"
      ],
      "metadata": {
        "id": "RoXz_iHHl4Ul",
        "outputId": "6868a9b2-ac32-43df-ae50-3202418c99b7",
        "colab": {
          "base_uri": "https://localhost:8080/"
        }
      },
      "id": "RoXz_iHHl4Ul",
      "execution_count": 76,
      "outputs": [
        {
          "output_type": "stream",
          "name": "stdout",
          "text": [
            "['red', 'light green', 'green', ['blue', 'deepblue', 'light blue'], 'black', 'white', 'pink']\n",
            "['red', 'light green', 'green', ['blue', 'deepblue', 'light blue'], 'black', 'white', 'pink']\n"
          ]
        }
      ]
    },
    {
      "cell_type": "markdown",
      "id": "5a5820d1",
      "metadata": {
        "id": "5a5820d1"
      },
      "source": [
        "### 리스트 요소 삭제"
      ]
    },
    {
      "cell_type": "code",
      "execution_count": null,
      "id": "e4c76b68",
      "metadata": {
        "id": "e4c76b68"
      },
      "outputs": [],
      "source": [
        "print(a)\n",
        "a.pop()     # 리스트 맨 끝 요소 삭제\n",
        "print(a)\n",
        "a.remove('봄')  # 리스트명.remove(값), 단 여러 개 일 경우 첫 번째만 삭제됨\n",
        "print(a)\n",
        "#특정위치 요소 제거\n",
        "del colors[2]"
      ]
    },
    {
      "cell_type": "code",
      "source": [
        "#임의의 수 생성해서 리스트 만들고 정렬하기\n",
        "import random\n",
        "numbers=[]\n",
        "for i in range(0,10):\n",
        "    numbers.append(random.randint(1,100))\n",
        "print(numbers)\n",
        "numbers.sort()\n",
        "print(numbers)\n",
        "numbers.reverse()\n",
        "print(numbers)\n",
        "\n"
      ],
      "metadata": {
        "id": "0JeIyK9rrx0x",
        "outputId": "929fd16c-a0d9-472e-a4db-4cd23f6141c9",
        "colab": {
          "base_uri": "https://localhost:8080/"
        }
      },
      "id": "0JeIyK9rrx0x",
      "execution_count": 82,
      "outputs": [
        {
          "output_type": "stream",
          "name": "stdout",
          "text": [
            "[96, 35, 46, 59, 1, 93, 24, 50, 68, 100]\n",
            "[1, 24, 35, 46, 50, 59, 68, 93, 96, 100]\n",
            "[100, 96, 93, 68, 59, 50, 46, 35, 24, 1]\n"
          ]
        }
      ]
    },
    {
      "cell_type": "markdown",
      "id": "df6f6d08",
      "metadata": {
        "id": "df6f6d08"
      },
      "source": [
        "## 2-7.딕셔너리(Dictionary)\n",
        "- 딕셔너리는 쌍이 하나로 묶인 자료구조\n",
        "- 인덱스를 의미하는 ‘키(key)'와 자료의 내용인 ‘ 값(value)'을 이용하여  데이터를 관리\n",
        "- 중괄호 { }로 묶어 구성, 키(Key)와 값(Value)의 쌍으로 구성\n",
        "- 순서(sequence)가 없다"
      ]
    },
    {
      "cell_type": "markdown",
      "id": "4393e9e4",
      "metadata": {
        "id": "4393e9e4"
      },
      "source": [
        "### 딕셔너리 생성"
      ]
    },
    {
      "cell_type": "code",
      "execution_count": 84,
      "id": "da6bca38",
      "metadata": {
        "id": "da6bca38",
        "outputId": "a59c46fc-0d3c-477f-f6a9-f490f49f18da",
        "colab": {
          "base_uri": "https://localhost:8080/"
        }
      },
      "outputs": [
        {
          "output_type": "stream",
          "name": "stdout",
          "text": [
            "29\n",
            "29\n",
            "{'name': '진', 'age': 29, 'email': 'jin@gggmail.com', 7: ['jk', 'v', 'rm']}\n"
          ]
        }
      ],
      "source": [
        "members={}\n",
        "members=dict()\n",
        "members = {'name':'진', 'age':29, 'email':'jin@gggmail.com'}\n",
        "print(members['age'])\n",
        "print(members.get('age'))\n",
        "members[7]=['jk','v','rm']\n",
        "print(members)"
      ]
    },
    {
      "cell_type": "markdown",
      "id": "b5f4d763",
      "metadata": {
        "id": "b5f4d763"
      },
      "source": [
        "### 딕셔너리 키(key)와 값(value)에 접근하기"
      ]
    },
    {
      "cell_type": "code",
      "execution_count": 91,
      "id": "0697a654",
      "metadata": {
        "id": "0697a654",
        "outputId": "6d3348c9-d52c-42ed-86f0-a194890de2c7",
        "colab": {
          "base_uri": "https://localhost:8080/"
        }
      },
      "outputs": [
        {
          "output_type": "stream",
          "name": "stdout",
          "text": [
            "100\n",
            "---방법1---\n",
            "국어 => 100\n",
            "수학 => 90\n",
            "영어 => 80\n",
            "dict_items([('국어', 100), ('수학', 90), ('영어', 80)])\n",
            "---방법2---\n",
            "국어 => 100\n",
            "수학 => 90\n",
            "영어 => 80\n"
          ]
        }
      ],
      "source": [
        "scores = {'국어': 100, '수학': 90, '영어': 80}\n",
        "\n",
        "print(scores['국어'])  # 딕셔너리는 키로 접근한다.\n",
        "\n",
        "# 방법1\n",
        "print('---방법1---')\n",
        "for key in scores:\n",
        "    print('%s => %s' % (key, scores[key]))\n",
        "print(scores.items())\n",
        "# 방법2\n",
        "print('---방법2---')\n",
        "for key, value in scores.items():\n",
        "    print('%s => %s' % (key, value))"
      ]
    },
    {
      "cell_type": "code",
      "execution_count": 92,
      "id": "011745db",
      "metadata": {
        "id": "011745db",
        "outputId": "60616e64-86b5-4286-d74b-162310a461dc",
        "colab": {
          "base_uri": "https://localhost:8080/"
        }
      },
      "outputs": [
        {
          "output_type": "stream",
          "name": "stdout",
          "text": [
            "dict_keys(['국어', '수학', '영어'])\n",
            "dict_values([100, 90, 80])\n",
            "dict_items([('국어', 100), ('수학', 90), ('영어', 80)])\n"
          ]
        }
      ],
      "source": [
        "print(scores.keys())   # 키만 추출\n",
        "print(scores.values()) # 키만 추출\n",
        "print(scores.items())  # (키,값)쌍 형태로 추출"
      ]
    },
    {
      "cell_type": "markdown",
      "id": "7d76f114",
      "metadata": {
        "id": "7d76f114"
      },
      "source": [
        "### 딕셔너리에 요소 추가/수정/삭제"
      ]
    },
    {
      "cell_type": "code",
      "execution_count": null,
      "id": "f15a3506",
      "metadata": {
        "id": "f15a3506"
      },
      "outputs": [],
      "source": [
        "# 키로 요소 추가하기\n",
        "scores['music'] = 100\n",
        "print(scores)\n",
        "\n",
        "# 요소 값 수정하기\n",
        "scores['수학'] = 99\n",
        "print(scores)\n",
        "\n",
        "# 요소 삭제하기\n",
        "del (scores['영어'])\n",
        "print(scores)"
      ]
    },
    {
      "cell_type": "markdown",
      "source": [
        "**튜플**"
      ],
      "metadata": {
        "id": "a6IPxBGp7N0g"
      },
      "id": "a6IPxBGp7N0g"
    },
    {
      "cell_type": "code",
      "source": [
        "a=tuple()\n",
        "a=()\n",
        "print(type(a))\n",
        "\n",
        "a=(1)\n",
        "print(type(a))\n",
        "a=(1,2,3,4,5)\n",
        "print(type(a))\n",
        "\n",
        "print(a[:3])"
      ],
      "metadata": {
        "id": "uwsHcC2P7Mjq",
        "outputId": "8bc1be9c-1a2e-4c34-9c3c-be91789c45d1",
        "colab": {
          "base_uri": "https://localhost:8080/"
        }
      },
      "id": "uwsHcC2P7Mjq",
      "execution_count": 95,
      "outputs": [
        {
          "output_type": "stream",
          "name": "stdout",
          "text": [
            "<class 'tuple'>\n",
            "<class 'int'>\n",
            "<class 'tuple'>\n",
            "(1, 2, 3)\n"
          ]
        }
      ]
    },
    {
      "cell_type": "markdown",
      "source": [
        "집합(**set**)"
      ],
      "metadata": {
        "id": "8zIHda5p8oqu"
      },
      "id": "8zIHda5p8oqu"
    },
    {
      "cell_type": "markdown",
      "id": "45e329e4",
      "metadata": {
        "id": "45e329e4"
      },
      "source": [
        "------------------------"
      ]
    },
    {
      "cell_type": "code",
      "source": [
        "a=set()\n",
        "a=set(\"hello\") #중복제거\n",
        "print(type(a),a)"
      ],
      "metadata": {
        "id": "iqcsBWY-8wY-",
        "outputId": "42b49179-cd32-4be3-d556-218a35a07c94",
        "colab": {
          "base_uri": "https://localhost:8080/"
        }
      },
      "id": "iqcsBWY-8wY-",
      "execution_count": 96,
      "outputs": [
        {
          "output_type": "stream",
          "name": "stdout",
          "text": [
            "<class 'set'> {'h', 'o', 'e', 'l'}\n"
          ]
        }
      ]
    },
    {
      "cell_type": "code",
      "source": [],
      "metadata": {
        "id": "WU0Aqncr8_QZ"
      },
      "id": "WU0Aqncr8_QZ",
      "execution_count": null,
      "outputs": []
    },
    {
      "cell_type": "markdown",
      "id": "66025633",
      "metadata": {
        "id": "66025633"
      },
      "source": [
        "끝"
      ]
    }
  ],
  "metadata": {
    "kernelspec": {
      "display_name": "Python 3 (ipykernel)",
      "language": "python",
      "name": "python3"
    },
    "language_info": {
      "codemirror_mode": {
        "name": "ipython",
        "version": 3
      },
      "file_extension": ".py",
      "mimetype": "text/x-python",
      "name": "python",
      "nbconvert_exporter": "python",
      "pygments_lexer": "ipython3",
      "version": "3.10.9"
    },
    "vscode": {
      "interpreter": {
        "hash": "b41e41bff03a930185ac2cbea60ce521f7c8c2f5401ceb5c30214081f77ab4f5"
      }
    },
    "colab": {
      "provenance": [],
      "include_colab_link": true
    }
  },
  "nbformat": 4,
  "nbformat_minor": 5
}